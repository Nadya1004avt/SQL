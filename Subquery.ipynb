{
 "cells": [
  {
   "cell_type": "markdown",
   "id": "4b937ed2",
   "metadata": {},
   "source": [
    "**Подзапросы**"
   ]
  },
  {
   "cell_type": "markdown",
   "id": "97dbfa15",
   "metadata": {},
   "source": [
    "Используя данные из таблицы user_actions, рассчитайте среднее число заказов всех пользователей нашего сервиса.\n",
    "Для этого сначала в подзапросе посчитайте, сколько заказов сделал каждый пользователь, а затем обратитесь к результату подзапроса в блоке FROM и уже в основном запросе усредните количество заказов по всем пользователям.\n",
    "Полученное среднее число заказов всех пользователей округлите до двух знаков после запятой. Колонку с этим значением назовите orders_avg."
   ]
  },
  {
   "cell_type": "code",
   "execution_count": null,
   "id": "9ed5d7c9",
   "metadata": {
    "vscode": {
     "languageId": "sql"
    }
   },
   "outputs": [],
   "source": [
    "SELECT \n",
    "\tROUND(AVG(orders_count), 2) AS orders_avg\n",
    "FROM\n",
    "\t(SELECT \n",
    "\t \tCOUNT(DISTINCT(order_id)) AS orders_count\n",
    "     FROM\n",
    "\t \tuser_actions\n",
    "     GROUP BY \n",
    "\t \tuser_id\n",
    "\t) as subquery"
   ]
  },
  {
   "cell_type": "markdown",
   "id": "bd9b2f9c",
   "metadata": {},
   "source": [
    "Повторите запрос из предыдущего задания, но теперь вместо подзапроса используйте оператор WITH и табличное выражение.\n",
    "Условия задачи те же: используя данные из таблицы user_actions, рассчитайте среднее число заказов всех пользователей.\n",
    "Полученное среднее число заказов округлите до двух знаков после запятой. Колонку с этим значением назовите orders_avg."
   ]
  },
  {
   "cell_type": "code",
   "execution_count": null,
   "id": "0a4b7512",
   "metadata": {
    "vscode": {
     "languageId": "sql"
    }
   },
   "outputs": [],
   "source": [
    "WITH \n",
    "subquery AS (\n",
    "\tSELECT \n",
    "\t\tCOUNT(DISTINCT(order_id)) AS order_count\n",
    "    FROM   \n",
    "\t\tuser_actions\n",
    "    GROUP BY \n",
    "\t\tuser_id\n",
    ")\n",
    "SELECT \n",
    "\tROUND(AVG(order_count), 2) AS orders_avg\n",
    "FROM\n",
    "   subquery"
   ]
  },
  {
   "cell_type": "markdown",
   "id": "9fed5ac2",
   "metadata": {},
   "source": [
    "Выведите из таблицы products информацию о всех товарах кроме самого дешёвого.\n",
    "Результат отсортируйте по убыванию id товара."
   ]
  },
  {
   "cell_type": "code",
   "execution_count": null,
   "id": "af13332f",
   "metadata": {
    "vscode": {
     "languageId": "sql"
    }
   },
   "outputs": [],
   "source": [
    "SELECT \n",
    "\tproduct_id,\n",
    "\tname,\n",
    "\tprice\n",
    "FROM   \n",
    "\tproducts\n",
    "WHERE  \n",
    "\tprice > (SELECT MIN(price) FROM products)\n",
    "ORDER BY \n",
    "\tproduct_id DESC"
   ]
  },
  {
   "cell_type": "markdown",
   "id": "4a24bba4",
   "metadata": {},
   "source": [
    "Выведите информацию о товарах в таблице products, цена на которые превышает среднюю цену всех товаров на 20 рублей и более. Результат отсортируйте по убыванию id товара."
   ]
  },
  {
   "cell_type": "code",
   "execution_count": null,
   "id": "f3c853b0",
   "metadata": {
    "vscode": {
     "languageId": "sql"
    }
   },
   "outputs": [],
   "source": [
    "wITH \n",
    "subquery AS (\n",
    "\tSELECT \n",
    "\t\tAVG(price) AS all_price\n",
    "    FROM \n",
    "\t\tproducts\n",
    ")\n",
    "SELECT \t\n",
    "\tproduct_id,\n",
    "\tname,\n",
    "\tprice\n",
    "FROM   \n",
    "\tproducts\n",
    "WHERE  \n",
    "\t(price - (SELECT * FROM subquery)) > 19\n",
    "ORDER BY\n",
    "\tproduct_id DESC"
   ]
  },
  {
   "cell_type": "markdown",
   "id": "b887d57c",
   "metadata": {},
   "source": [
    "Посчитайте количество уникальных клиентов в таблице user_actions, сделавших за последнюю неделю хотя бы один заказ.\n",
    "Полученную колонку с числом клиентов назовите users_count. В качестве текущей даты, от которой откладывать неделю, используйте последнюю дату в той же таблице user_actions."
   ]
  },
  {
   "cell_type": "code",
   "execution_count": null,
   "id": "804857ea",
   "metadata": {
    "vscode": {
     "languageId": "sql"
    }
   },
   "outputs": [],
   "source": [
    "wITH \n",
    "subquery AS (\n",
    "\tSELECT \n",
    "\t\tMAX(time) AS max_time\n",
    "    FROM\n",
    "\t\tuser_actions\n",
    ")\n",
    "SELECT \n",
    "\tCOUNT(DISTINCT(user_id)) AS users_count\n",
    "FROM   \n",
    "\tuser_actions\n",
    "WHERE  \n",
    "\ttime > ((SELECT max_time FROM subquery) - interval '1 week') \n",
    "HAVING\n",
    "\tCOUNT(order_id) > 0"
   ]
  },
  {
   "cell_type": "markdown",
   "id": "d6ba1fc5",
   "metadata": {},
   "source": [
    "С помощью функции AGE и агрегирующей функции снова определите возраст самого молодого курьера мужского пола в таблице couriers, но в этот раз при расчётах в качестве первой даты используйте последнюю дату из таблицы courier_actions.\n",
    "Чтобы получить именно дату, перед применением функции AGE переведите последнюю дату из таблицы courier_actions в формат DATE, как мы делали в этом задании.\n",
    "Возраст курьера измерьте количеством лет, месяцев и дней и переведите его в тип VARCHAR. Полученную колонку со значением возраста назовите min_age."
   ]
  },
  {
   "cell_type": "code",
   "execution_count": null,
   "id": "d18aa82c",
   "metadata": {
    "vscode": {
     "languageId": "sql"
    }
   },
   "outputs": [],
   "source": [
    "wITH \n",
    "max_action_date AS (\n",
    "\tSELECT \n",
    "\t\tMAX(time)::DATE AS max_date\n",
    "    FROM\n",
    "\t\tcourier_actions\n",
    ")\n",
    "SELECT \n",
    "\tMIN(AGE(max_date, birth_date))::VARCHAR AS min_age\n",
    "FROM   \n",
    "\tcouriers, \n",
    "\tmax_action_date\n",
    "WHERE  \n",
    "\tsex = 'male'"
   ]
  },
  {
   "cell_type": "markdown",
   "id": "6680c1ac",
   "metadata": {},
   "source": [
    "Из таблицы user_actions с помощью подзапроса или табличного выражения отберите все заказы, которые не были отменены пользователями.\n",
    "Выведите колонку с id этих заказов. Результат запроса отсортируйте по возрастанию id заказа.\n",
    "Добавьте в запрос оператор LIMIT и выведите только первые 1000 строк результирующей таблицы."
   ]
  },
  {
   "cell_type": "code",
   "execution_count": null,
   "id": "e1541a78",
   "metadata": {
    "vscode": {
     "languageId": "sql"
    }
   },
   "outputs": [],
   "source": [
    "wITH\n",
    "subquery AS (\n",
    "\tSELECT \n",
    "\t\torder_id\n",
    "\tFROM   \n",
    "\t\tuser_actions\n",
    "    WHERE  \n",
    "\t\taction = 'cancel_order'\n",
    ")\n",
    "SELECT \n",
    "\torder_id\n",
    "FROM   \n",
    "\tuser_actions\n",
    "WHERE  \n",
    "\torder_id NOT IN (SELECT order_id FROM   subquery)\n",
    "ORDER BY \n",
    "\torder_id ASC \n",
    "LIMIT \n",
    "\t1000"
   ]
  },
  {
   "cell_type": "markdown",
   "id": "da4eb6e7",
   "metadata": {},
   "source": [
    "Используя данные из таблицы user_actions, рассчитайте, сколько заказов сделал каждый пользователь и отразите это в столбце orders_count.\n",
    "В отдельном столбце orders_avg напротив каждого пользователя укажите среднее число заказов всех пользователей, округлив его до двух знаков после запятой.\n",
    "Также для каждого пользователя посчитайте отклонение числа заказов от среднего значения. Отклонение считайте так: число заказов «минус» округлённое среднее значение. Колонку с отклонением назовите orders_diff.\n",
    "Результат отсортируйте по возрастанию id пользователя. Добавьте в запрос оператор LIMIT и выведите только первые 1000 строк результирующей таблицы."
   ]
  },
  {
   "cell_type": "code",
   "execution_count": null,
   "id": "82abae9f",
   "metadata": {
    "vscode": {
     "languageId": "sql"
    }
   },
   "outputs": [],
   "source": [
    "WITH \n",
    "user_orders AS (\n",
    "\tSELECT \n",
    "\t\tuser_id,\n",
    "        COUNT(order_id) AS orders_count\n",
    "    FROM \n",
    "\t\tuser_actions\n",
    "    WHERE  \n",
    "\t\taction = 'create_order'\n",
    "    GROUP BY \n",
    "\t\tuser_id\n",
    ")\n",
    "SELECT \n",
    "\tuser_id,\n",
    "    COUNT(order_id) AS orders_count,\n",
    "    ROUND((SELECT AVG(orders_count) FROM user_orders), 2) AS orders_avg, \n",
    "\tCOUNT(order_id) - ROUND((SELECT AVG(orders_count) FROM   user_orders), 2) AS orders_diff\n",
    "FROM   \n",
    "\tuser_actions\n",
    "WHERE  \n",
    "\taction = 'create_order'\n",
    "GROUP BY \n",
    "\tuser_id\n",
    "ORDER BY \n",
    "\tuser_id ASC \n",
    "LIMIT \n",
    "\t1000"
   ]
  },
  {
   "cell_type": "markdown",
   "id": "bc3aef8f",
   "metadata": {},
   "source": [
    "Назначьте скидку 15% на товары, цена которых превышает среднюю цену на все товары на 50 и более рублей, а также скидку 10% на товары, цена которых ниже средней на 50 и более рублей. Цену остальных товаров внутри диапазона (среднее - 50; среднее + 50) оставьте без изменений. При расчёте средней цены, округлите её до двух знаков после запятой.\n",
    "Выведите информацию о всех товарах с указанием старой и новой цены. Колонку с новой ценой назовите new_price.\n",
    "Результат отсортируйте сначала по убыванию прежней цены в колонке price, затем по возрастанию id товара."
   ]
  },
  {
   "cell_type": "code",
   "execution_count": null,
   "id": "4f6f2e62",
   "metadata": {
    "vscode": {
     "languageId": "sql"
    }
   },
   "outputs": [],
   "source": [
    "WITH \n",
    "subquery AS (\n",
    "\tSELECT \n",
    "\t\tROUND(AVG(price), 2) AS avg_price\n",
    "    FROM \n",
    "\t\tproducts\n",
    ")\n",
    "SELECT \n",
    "\tproduct_id,\n",
    "    name,\n",
    "    price,\n",
    "    CASE \n",
    "\t\tWHEN price >= (SELECT avg_price FROM subquery) + 50 THEN price * 0.85 \n",
    "\t\tWHEN price + 50 <= (SELECT avg_price FROM subquery) THEN price * 0.90 \n",
    "\t\tELSE price \n",
    "\tEND AS new_price\n",
    "FROM   \n",
    "\tproducts\n",
    "ORDER BY \n",
    "\tprice DESC,\n",
    "\tproduct_id ASC"
   ]
  },
  {
   "cell_type": "markdown",
   "id": "04a72136",
   "metadata": {},
   "source": [
    "Выясните, есть ли в таблице courier_actions такие заказы, которые были приняты курьерами, но не были созданы пользователями. Посчитайте количество таких заказов.\n",
    "Колонку с числом заказов назовите orders_count."
   ]
  },
  {
   "cell_type": "code",
   "execution_count": null,
   "id": "46d8c3b7",
   "metadata": {
    "vscode": {
     "languageId": "sql"
    }
   },
   "outputs": [],
   "source": [
    "WITH \n",
    "user_order_ids AS (\n",
    "\tSELECT \n",
    "\t\tDISTINCT(order_id)\n",
    "    FROM \n",
    "\t\tuser_actions\n",
    ")\n",
    "SELECT \n",
    "\tCOUNT(DISTINCT(order_id)) AS orders_count\n",
    "FROM \n",
    "\tcourier_actions\n",
    "WHERE \n",
    "\taction = 'accept_order'\n",
    "\tAND order_id NOT IN (SELECT order_id FROM user_order_ids)"
   ]
  },
  {
   "cell_type": "markdown",
   "id": "91b6add7",
   "metadata": {},
   "source": [
    "Выясните, есть ли в таблице courier_actions такие заказы, которые были приняты курьерами, но не были доставлены пользователям. Посчитайте количество таких заказов.\n",
    "Колонку с числом заказов назовите orders_count."
   ]
  },
  {
   "cell_type": "code",
   "execution_count": null,
   "id": "0a194a15",
   "metadata": {
    "vscode": {
     "languageId": "sql"
    }
   },
   "outputs": [],
   "source": [
    "WITH \n",
    "subquery AS (\n",
    "\tSELECT \n",
    "\t\torder_id\n",
    "    FROM   \n",
    "\t\tuser_actions\n",
    "    WHERE  \n",
    "\t\taction = 'cancel_order'\n",
    ")\n",
    "SELECT \n",
    "\tCOUNT(order_id) AS orders_count\n",
    "FROM   \n",
    "\tcourier_actions\n",
    "WHERE  \n",
    "\taction = 'accept_order'\n",
    "\tAND order_id IN (SELECT order_id FROM subquery)"
   ]
  },
  {
   "cell_type": "markdown",
   "id": "85c0fff3",
   "metadata": {},
   "source": [
    "Определите количество отменённых заказов в таблице courier_actions и выясните, есть ли в этой таблице такие заказы, которые были отменены пользователями, но при этом всё равно были доставлены. Посчитайте количество таких заказов.\n",
    "Колонку с отменёнными заказами назовите orders_canceled. Колонку с отменёнными, но доставленными заказами назовите orders_canceled_and_delivered. "
   ]
  },
  {
   "cell_type": "code",
   "execution_count": null,
   "id": "53c74f50",
   "metadata": {
    "vscode": {
     "languageId": "sql"
    }
   },
   "outputs": [],
   "source": [
    "WITH\n",
    "subquery AS (\n",
    "\t\tSELECT \n",
    "\t\t\tDISTINCT(order_id)\n",
    "        FROM   \n",
    "\t\t\tuser_actions\n",
    "        WHERE  \n",
    "\t\t\taction = 'cancel_order'\n",
    ")\n",
    "SELECT \n",
    "\tCOUNT(order_id) AS orders_canceled,\n",
    "    COUNT(order_id) FILTER (WHERE action = 'deliver_orders') AS orders_canceled_and_delivered\n",
    "FROM   \n",
    "\tcourier_actions\n",
    "WHERE  \n",
    "\torder_id IN (SELECT order_id FROM subquery)"
   ]
  },
  {
   "cell_type": "markdown",
   "id": "cd806d69",
   "metadata": {},
   "source": [
    "По таблицам courier_actions и user_actions снова определите число недоставленных заказов и среди них посчитайте количество отменённых заказов и количество заказов, которые не были отменены (и соответственно, пока ещё не были доставлены).\n",
    "Колонку с недоставленными заказами назовите orders_undelivered, колонку с отменёнными заказами назовите orders_canceled, колонку с заказами «в пути» назовите orders_in_process."
   ]
  },
  {
   "cell_type": "code",
   "execution_count": null,
   "id": "251cb44e",
   "metadata": {
    "vscode": {
     "languageId": "sql"
    }
   },
   "outputs": [],
   "source": [
    "WITH\n",
    "subquery AS (\n",
    "\tSELECT \n",
    "\t\tDISTINCT(order_id)\n",
    "\tFROM   \n",
    "\t\tuser_actions\n",
    "    WHERE  \n",
    "\t\taction = 'cancel_order'\n",
    ")\n",
    "SELECT \n",
    "\tCOUNT(DISTINCT(order_id)) AS orders_undelivered,\n",
    "    COUNT(order_id) FILTER (WHERE action = 'accept_order') AS orders_canceled,\n",
    "    COUNT(DISTINCT(order_id)) - COUNT(order_id) FILTER (WHERE action = 'accept_order') AS orders_in_process\n",
    "FROM   \n",
    "\tcourier_actions\n",
    "WHERE  \n",
    "\torder_id IN (SELECT order_id FROM subquery)"
   ]
  },
  {
   "cell_type": "markdown",
   "id": "cc97930f",
   "metadata": {},
   "source": [
    "Отберите из таблицы users пользователей мужского пола, которые старше всех пользователей женского пола.\n",
    "Выведите две колонки: id пользователя и дату рождения. Результат отсортируйте по возрастанию id пользователя."
   ]
  },
  {
   "cell_type": "code",
   "execution_count": null,
   "id": "8daed987",
   "metadata": {
    "vscode": {
     "languageId": "sql"
    }
   },
   "outputs": [],
   "source": [
    "WITH\n",
    "female_birth_max AS(\n",
    "\tSELECT \n",
    "\t\tMIN(birth_date) AS female_birth\n",
    "    FROM   \n",
    "\t\tusers\n",
    "    WHERE  \n",
    "\t\tsex = 'female'\n",
    "        AND birth_date is not null\n",
    ")\n",
    "SELECT \n",
    "\tuser_id,\n",
    "    birth_date\n",
    "FROM \n",
    "\tusers\n",
    "WHERE  \n",
    "\tsex = 'male'\n",
    "    AND birth_date < (SELECT female_birth FROM female_birth_max)\n",
    "ORDER BY \n",
    "\tuser_id"
   ]
  },
  {
   "cell_type": "markdown",
   "id": "e33f4909",
   "metadata": {},
   "source": [
    "Выведите id и содержимое 100 последних доставленных заказов из таблицы orders.\n",
    "Содержимым заказов считаются списки с id входящих в заказ товаров. Результат отсортируйте по возрастанию id заказа."
   ]
  },
  {
   "cell_type": "code",
   "execution_count": null,
   "id": "08936d2a",
   "metadata": {
    "vscode": {
     "languageId": "sql"
    }
   },
   "outputs": [],
   "source": [
    "WITH \n",
    "subquery AS (\n",
    "    SELECT order_id\n",
    "    FROM\n",
    "        courier_actions\n",
    "    WHERE\n",
    "        action = 'deliver_order'\n",
    "    ORDER BY \n",
    "        time DESC\n",
    "    LIMIT \n",
    "        100\n",
    ")\n",
    "SELECT \n",
    "    order_id,\n",
    "    product_ids\n",
    "FROM\n",
    "    orders\n",
    "WHERE \n",
    "    order_id IN (SELECT order_id FROM subquery)\n",
    "ORDER BY \n",
    "    order_id"
   ]
  },
  {
   "cell_type": "markdown",
   "id": "9bb9c776",
   "metadata": {},
   "source": [
    "Из таблицы couriers выведите всю информацию о курьерах, которые в сентябре 2022 года доставили 30 и более заказов. Результат отсортируйте по возрастанию id курьера."
   ]
  },
  {
   "cell_type": "code",
   "execution_count": null,
   "id": "807c2d4d",
   "metadata": {
    "vscode": {
     "languageId": "sql"
    }
   },
   "outputs": [],
   "source": [
    "WITH\n",
    "subquery AS (\n",
    "    SELECT    \n",
    "        courier_id\n",
    "    FROM \n",
    "        courier_actions\n",
    "    WHERE\n",
    "        action = 'deliver_order' \n",
    "        AND DATE_PART('month', time) = 9 \n",
    "        AND DATE_PART('year', time) = 2022\n",
    "    GROUP BY\n",
    "        courier_id\n",
    "    HAVING\n",
    "        COUNT(DISTINCT(order_id)) > 29\n",
    ")\n",
    "SELECT *\n",
    "FROM\n",
    "    couriers\n",
    "WHERE\n",
    "    courier_id IN (SELECT courier_id FROM subquery) \n",
    "ORDER BY \n",
    "    courier_id"
   ]
  },
  {
   "cell_type": "markdown",
   "id": "bd6cd1a2",
   "metadata": {},
   "source": [
    "Рассчитайте средний размер заказов, отменённых пользователями мужского пола.\n",
    "Средний размер заказа округлите до трёх знаков после запятой. Колонку со значением назовите avg_order_size."
   ]
  },
  {
   "cell_type": "code",
   "execution_count": null,
   "id": "f5d4768d",
   "metadata": {
    "vscode": {
     "languageId": "sql"
    }
   },
   "outputs": [],
   "source": [
    "WITH\n",
    "male_users AS (\n",
    "    SELECT \n",
    "        user_id\n",
    "    FROM\n",
    "        users\n",
    "    WHERE\n",
    "        sex = 'male'\n",
    "),\n",
    "cancel_orders AS (\n",
    "    SELECT\n",
    "        order_id\n",
    "    FROM \n",
    "        user_actions\n",
    "    WHERE\n",
    "        action = 'cancel_order'\n",
    "        AND user_id IN (SELECT user_id FROM male_users)\n",
    ")\n",
    "SELECT\n",
    "    ROUND(AVG(ARRAY_LENGTH(product_ids, 1)), 3) AS avg_order_size\n",
    "FROM    \n",
    "    orders\n",
    "WHERE\n",
    "    order_id IN (SELECT order_id FROM cancel_orders)"
   ]
  },
  {
   "cell_type": "markdown",
   "id": "80d68356",
   "metadata": {},
   "source": [
    "Посчитайте возраст каждого пользователя в таблице users."
   ]
  },
  {
   "cell_type": "code",
   "execution_count": null,
   "id": "41195902",
   "metadata": {
    "vscode": {
     "languageId": "sql"
    }
   },
   "outputs": [],
   "source": [
    "WITH \n",
    "date_max AS (\n",
    "    SELECT\n",
    "        MAX(time) as last_date\n",
    "    FROM\n",
    "        user_actions\n",
    "), \n",
    "avg_age AS (\n",
    "    SELECT\n",
    "        AVG(DATE_PART('year', AGE((SELECT last_date FROM date_max),birth_date)))::INTEGER AS avg_val\n",
    "    FROM\n",
    "        users\n",
    "    WHERE\n",
    "        birth_date IS NOT NULL\n",
    ")\n",
    "SELECT\n",
    "    user_id,\n",
    "    CASE\n",
    "    WHEN birth_date IS NULL THEN (SELECT avg_val FROM avg_age)\n",
    "    ELSE DATE_PART('year', AGE((SELECT last_date FROM date_max), birth_date))::INTEGER\n",
    "    END AS age\n",
    "FROM \n",
    "    users\n",
    "ORDER BY \n",
    "    user_id"
   ]
  },
  {
   "cell_type": "markdown",
   "id": "949beba5",
   "metadata": {},
   "source": [
    "Для каждого заказа, в котором больше 5 товаров, рассчитайте время, затраченное на его доставку. \n",
    "В результат включите id заказа, время принятия заказа курьером, время доставки заказа и время, затраченное на доставку. Новые колонки назовите соответственно time_accepted, time_delivered и delivery_time.\n",
    "В расчётах учитывайте только неотменённые заказы. Время, затраченное на доставку, выразите в минутах, округлив значения до целого числа. Результат отсортируйте по возрастанию id заказа."
   ]
  },
  {
   "cell_type": "code",
   "execution_count": null,
   "id": "b8433ea4",
   "metadata": {
    "vscode": {
     "languageId": "sql"
    }
   },
   "outputs": [],
   "source": [
    "WITH \n",
    "cancel_orders AS (\n",
    "    SELECT \n",
    "        DISTINCT(order_id)\n",
    "    FROM \n",
    "        user_actions\n",
    "    WHERE\n",
    "        action != 'cancel_orders'\n",
    "),\n",
    "count_products AS (\n",
    "    SELECT\n",
    "        DISTINCT(order_id)\n",
    "    FROM \n",
    "        orders\n",
    "    WHERE \n",
    "        order_id IN (SELECT order_id FROM cancel_orders)\n",
    "        AND ARRAY_LENGTH(product_ids, 1) > 5\n",
    ")\n",
    "SELECT \n",
    "    DISTINCT(order_id),\n",
    "    MIN(time) AS time_accepted,\n",
    "    MAX(time) AS time_delivered,\n",
    "    EXTRACT(epoch FROM (MAX(time) - MIN(time))/60)::INTEGER AS delivery_time\n",
    "FROM\n",
    "    courier_actions\n",
    "WHERE\n",
    "    order_id IN (SELECT order_id FROM count_products)\n",
    "GROUP BY\n",
    "    order_id\n",
    "HAVING \n",
    "    (EXTRACT(epoch FROM (MAX(time) - MIN(time))/60)::INTEGER) > 0\n",
    "ORDER BY \n",
    "    order_id"
   ]
  },
  {
   "cell_type": "markdown",
   "id": "5d3c16dc",
   "metadata": {},
   "source": [
    "Для каждой даты в таблице user_actions посчитайте количество первых заказов, совершённых пользователями."
   ]
  },
  {
   "cell_type": "code",
   "execution_count": null,
   "id": "b1c3fd88",
   "metadata": {
    "vscode": {
     "languageId": "sql"
    }
   },
   "outputs": [],
   "source": [
    "WITH \n",
    "cancel_orders AS (\n",
    "    SELECT \n",
    "        order_id\n",
    "    FROM \n",
    "        user_actions\n",
    "    WHERE\n",
    "        action = 'cancel_order'\n",
    "),\n",
    "first_order AS (\n",
    "    SELECT\n",
    "        DATE(MIN(time)) AS date,\n",
    "        user_id\n",
    "    FROM \n",
    "        user_actions\n",
    "    WHERE\n",
    "        order_id NOT IN (SELECT order_id FROM cancel_orders)\n",
    "    GROUP BY\n",
    "        user_id\n",
    ")\n",
    "SELECT\n",
    "    date,\n",
    "    COUNT(user_id) AS first_orders\n",
    "FROM \n",
    "    first_order\n",
    "GROUP BY\n",
    "    date\n",
    "ORDER BY\n",
    "    date"
   ]
  },
  {
   "cell_type": "markdown",
   "id": "a93b6124",
   "metadata": {},
   "source": [
    "Выберите все колонки из таблицы orders и дополнительно в качестве последней колонки укажите функцию unnest, применённую к колонке product_ids. Эту последнюю колонку назовите product_id. Больше ничего с данными делать не нужно.\n",
    "Добавьте в запрос оператор LIMIT и выведите только первые 100 записей результирующей таблицы."
   ]
  },
  {
   "cell_type": "code",
   "execution_count": null,
   "id": "8ace7357",
   "metadata": {
    "vscode": {
     "languageId": "sql"
    }
   },
   "outputs": [],
   "source": [
    "SELECT \n",
    "    order_id, \n",
    "    creation_time, \n",
    "    product_ids,\n",
    "    unnest(product_ids) AS product_id\n",
    "FROM\n",
    "    orders\n",
    "LIMIT \n",
    "    100"
   ]
  },
  {
   "cell_type": "markdown",
   "id": "0162686c",
   "metadata": {},
   "source": [
    "Используя функцию unnest, определите 10 самых популярных товаров в таблице orders."
   ]
  },
  {
   "cell_type": "code",
   "execution_count": null,
   "id": "9c261e8f",
   "metadata": {
    "vscode": {
     "languageId": "sql"
    }
   },
   "outputs": [],
   "source": [
    "WITH \n",
    "cancel_order AS (\n",
    "    SELECT \n",
    "        order_id\n",
    "    FROM \n",
    "        user_actions\n",
    "    WHERE\n",
    "        action = 'cancel_order'\n",
    "),\n",
    "product_purchases AS (\n",
    "    SELECT \n",
    "        unnest(product_ids) AS product_id,\n",
    "        COUNT(*) AS times_purchased\n",
    "    FROM \n",
    "        orders\n",
    "    WHERE\n",
    "        order_id NOT IN (SELECT order_id FROM cancel_order)\n",
    "    GROUP BY\n",
    "        product_id\n",
    "    ORDER BY \n",
    "        times_purchased DESC\n",
    "    LIMIT\n",
    "        10\n",
    ")\n",
    "SELECT \n",
    "    product_id, \n",
    "    times_purchased\n",
    "FROM\n",
    "    product_purchases\n",
    "ORDER BY \n",
    "    product_id"
   ]
  },
  {
   "cell_type": "markdown",
   "id": "2ba3f90e",
   "metadata": {},
   "source": [
    "Из таблицы orders выведите id и содержимое заказов, которые включают хотя бы один из пяти самых дорогих товаров, доступных в нашем сервисе."
   ]
  },
  {
   "cell_type": "code",
   "execution_count": null,
   "id": "3f2afdaf",
   "metadata": {
    "vscode": {
     "languageId": "sql"
    }
   },
   "outputs": [],
   "source": [
    "WITH\n",
    "top_5_price AS (\n",
    "    SELECT \n",
    "        product_id\n",
    "    FROM \n",
    "        products\n",
    "    ORDER BY \n",
    "        price DESC\n",
    "    LIMIT \n",
    "        5\n",
    "),\n",
    "products_list AS (\n",
    "    SELECT \n",
    "        order_id,\n",
    "        product_ids, \n",
    "        unnest(product_ids) AS product_id\n",
    "    FROM\n",
    "    orders    \n",
    ")\n",
    "SELECT\n",
    "    DISTINCT(order_id),\n",
    "    product_ids\n",
    "FROM\n",
    "    products_list\n",
    "WHERE \n",
    "    product_id IN (SELECT product_id FROM top_5_price)\n",
    "ORDER BY \n",
    "    order_id\n",
    "    "
   ]
  }
 ],
 "metadata": {
  "language_info": {
   "name": "python"
  }
 },
 "nbformat": 4,
 "nbformat_minor": 5
}
