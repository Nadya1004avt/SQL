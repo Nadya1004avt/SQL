{
 "cells": [
  {
   "cell_type": "markdown",
   "id": "2b16138a",
   "metadata": {},
   "source": [
    "** JOIN **"
   ]
  },
  {
   "cell_type": "markdown",
   "id": "985ca532",
   "metadata": {},
   "source": [
    "Объедините таблицы user_actions и users по ключу user_id. В результат включите две колонки с user_id из обеих таблиц. Эти две колонки назовите соответственно user_id_left и user_id_right. Также в результат включите колонки order_id, time, action, sex, birth_date. Отсортируйте получившуюся таблицу по возрастанию id пользователя (в любой из двух колонок с id)."
   ]
  },
  {
   "cell_type": "code",
   "execution_count": null,
   "id": "9eddb799",
   "metadata": {
    "vscode": {
     "languageId": "sql"
    }
   },
   "outputs": [],
   "source": [
    "SELECT \n",
    "    A.user_id AS user_id_left,\n",
    "    B.user_id AS user_id_right,\n",
    "    order_id, \n",
    "    time,\n",
    "    action,\n",
    "    sex,\n",
    "    birth_date\n",
    "FROM \n",
    "    user_actions AS A\n",
    "    JOIN users AS B\n",
    "    ON A.user_id = B.user_id\n",
    "ORDER BY  \n",
    "    user_id_left"
   ]
  },
  {
   "cell_type": "markdown",
   "id": "c8dd0645",
   "metadata": {},
   "source": [
    "А теперь попробуйте немного переписать запрос из прошлого задания и посчитать количество уникальных id в объединённой таблице. То есть снова объедините таблицы, но в этот раз просто посчитайте уникальные user_id в одной из колонок с id. Выведите это количество в качестве результата. Колонку с посчитанным значением назовите users_count."
   ]
  },
  {
   "cell_type": "code",
   "execution_count": null,
   "id": "db7b517e",
   "metadata": {
    "vscode": {
     "languageId": "sql"
    }
   },
   "outputs": [],
   "source": [
    "SELECT \n",
    "    COUNT(DISTINCT(A.user_id)) AS users_count\n",
    "FROM \n",
    "    user_actions AS A\n",
    "    JOIN users AS B\n",
    "    ON A.user_id = B.user_id"
   ]
  },
  {
   "cell_type": "markdown",
   "id": "6beae51d",
   "metadata": {},
   "source": [
    "С помощью LEFT JOIN объедините таблицы user_actions и users по ключу user_id. Обратите внимание на порядок таблиц — слева users_actions, справа users. В результат включите две колонки с user_id из обеих таблиц. Эти две колонки назовите соответственно user_id_left и user_id_right. Также в результат включите колонки order_id, time, action, sex, birth_date. Отсортируйте получившуюся таблицу по возрастанию id пользователя (в колонке из левой таблицы)."
   ]
  },
  {
   "cell_type": "code",
   "execution_count": null,
   "id": "053d3749",
   "metadata": {
    "vscode": {
     "languageId": "sql"
    }
   },
   "outputs": [],
   "source": [
    "SELECT\n",
    "    A.user_id AS user_id_left,\n",
    "    B.user_id AS user_id_right,\n",
    "    order_id,\n",
    "    time,\n",
    "    action, \n",
    "    sex,\n",
    "    birth_date\n",
    "FROM \n",
    "    user_actions AS A\n",
    "    LEFT JOIN users AS B\n",
    "    ON A.user_id = B.user_id\n",
    "ORDER BY \n",
    "    user_id_left"
   ]
  },
  {
   "cell_type": "markdown",
   "id": "4eeacb72",
   "metadata": {},
   "source": [
    "Теперь снова попробуйте немного переписать запрос из прошлого задания и посчитайте количество уникальных id в колонке user_id, пришедшей из левой таблицы user_actions. Выведите это количество в качестве результата. Колонку с посчитанным значением назовите users_count."
   ]
  },
  {
   "cell_type": "code",
   "execution_count": null,
   "id": "af9f98b5",
   "metadata": {
    "vscode": {
     "languageId": "sql"
    }
   },
   "outputs": [],
   "source": [
    "SELECT \n",
    "    COUNT(DISTINCT(A.user_id)) AS users_count\n",
    "FROM \n",
    "    user_actions AS A\n",
    "    LEFT JOIN users AS B\n",
    "    ON A.user_id = B.user_id"
   ]
  },
  {
   "cell_type": "markdown",
   "id": "2af4acd7",
   "metadata": {},
   "source": [
    "Возьмите запрос из задания 3, где вы объединяли таблицы user_actions и users с помощью LEFT JOIN, добавьте к запросу оператор WHERE и исключите NULL значения в колонке user_id из правой таблицы. Включите в результат все те же колонки и отсортируйте получившуюся таблицу по возрастанию id пользователя в колонке из левой таблицы."
   ]
  },
  {
   "cell_type": "code",
   "execution_count": null,
   "id": "e58b900a",
   "metadata": {
    "vscode": {
     "languageId": "sql"
    }
   },
   "outputs": [],
   "source": [
    "SELECT\n",
    "    A.user_id AS user_id_left,\n",
    "    B.user_id AS user_id_right,\n",
    "    order_id,\n",
    "    time, \n",
    "    action,\n",
    "    sex,\n",
    "    birth_date\n",
    "FROM\n",
    "    user_actions AS A \n",
    "    LEFT JOIN users B\n",
    "    ON A.user_id = B.user_id\n",
    "WHERE \n",
    "    B.user_id IS NOT NULL\n",
    "ORDER BY \n",
    "    user_id_left"
   ]
  },
  {
   "cell_type": "markdown",
   "id": "bc9b48d0",
   "metadata": {},
   "source": [
    "С помощью FULL JOIN объедините по ключу birth_date таблицы, полученные в результате вышеуказанных запросов (то есть объедините друг с другом два подзапроса). Не нужно изменять их, просто добавьте нужный JOIN."
   ]
  },
  {
   "cell_type": "code",
   "execution_count": null,
   "id": "7efc87f1",
   "metadata": {
    "vscode": {
     "languageId": "sql"
    }
   },
   "outputs": [],
   "source": [
    "WITH\n",
    "users_birth AS (\n",
    "    SELECT \n",
    "        birth_date, \n",
    "        COUNT(user_id) AS users_count\n",
    "    FROM \n",
    "        users\n",
    "    WHERE\n",
    "        birth_date IS NOT NULL\n",
    "    GROUP BY\n",
    "        birth_date\n",
    "),\n",
    "couriers_birth AS (\n",
    "    SELECT\n",
    "        birth_date,\n",
    "        COUNT(courier_id) AS couriers_count\n",
    "    FROM \n",
    "        couriers\n",
    "    WHERE\n",
    "        birth_date IS NOT NULL\n",
    "    GROUP BY\n",
    "        birth_date\n",
    ")\n",
    "SELECT \n",
    "    A.birth_date AS users_birth_date,\n",
    "    A.users_count,\n",
    "    B.birth_date AS couriers_birth_date,\n",
    "    B.couriers_count\n",
    "FROM \n",
    "    users_birth AS A\n",
    "    FULL JOIN couriers_birth B\n",
    "    ON A.birth_date = B.birth_date\n",
    "ORDER BY \n",
    "    users_birth_date, \n",
    "\tcouriers_birth_date"
   ]
  },
  {
   "cell_type": "markdown",
   "id": "708cc9a5",
   "metadata": {},
   "source": [
    " Верните уникальные id пользователей, которые что-то заказывали в нашем сервисе, но которых по какой-то причине нет в таблице users"
   ]
  },
  {
   "cell_type": "code",
   "execution_count": null,
   "id": "016602d8",
   "metadata": {
    "vscode": {
     "languageId": "sql"
    }
   },
   "outputs": [],
   "source": [
    "SELECT \n",
    "    user_id\n",
    "FROM \n",
    "    user_actions\n",
    "EXCEPT\n",
    "SELECT \n",
    "    user_id\n",
    "FROM \n",
    "    users"
   ]
  },
  {
   "cell_type": "markdown",
   "id": "002a2d54",
   "metadata": {},
   "source": [
    "Объедините два следующих запроса друг с другом так, чтобы на выходе получился набор уникальных дат из таблиц users и couriers.\n",
    "Поместите в подзапрос полученный после объединения набор дат и посчитайте их количество. Колонку с числом дат назовите dates_count.\n"
   ]
  },
  {
   "cell_type": "code",
   "execution_count": null,
   "id": "78717e26",
   "metadata": {
    "vscode": {
     "languageId": "sql"
    }
   },
   "outputs": [],
   "source": [
    "WITH \n",
    "user_birth AS (\n",
    "    SELECT \n",
    "        birth_date\n",
    "    FROM \n",
    "        users\n",
    "    WHERE\n",
    "        birth_date IS NOT NULL\n",
    "),\n",
    "courier_birth AS (\n",
    "    SELECT \n",
    "        birth_date\n",
    "    FROM\n",
    "        couriers\n",
    "    WHERE \n",
    "        birth_date IS NOT NULL\n",
    "),\n",
    "combined_dates AS (\n",
    "    SELECT \n",
    "        birth_date\n",
    "    FROM \n",
    "        user_birth\n",
    "    UNION\n",
    "    SELECT \n",
    "        birth_date\n",
    "    FROM\n",
    "        courier_birth\n",
    ")\n",
    "SELECT\n",
    "    COUNT(birth_date) AS dates_count\n",
    "FROM combined_dates"
   ]
  },
  {
   "cell_type": "markdown",
   "id": "2196cfe4",
   "metadata": {},
   "source": [
    "Из таблицы users отберите id первых 100 пользователей (просто выберите первые 100 записей, используя простой LIMIT) и с помощью CROSS JOIN объедините их со всеми наименованиями товаров из таблицы products. Выведите две колонки — id пользователя и наименование товара. Результат отсортируйте сначала по возрастанию id пользователя, затем по имени товара — тоже по возрастанию."
   ]
  },
  {
   "cell_type": "code",
   "execution_count": null,
   "id": "7db1876b",
   "metadata": {
    "vscode": {
     "languageId": "sql"
    }
   },
   "outputs": [],
   "source": [
    "WITH\n",
    "hundred_users AS (\n",
    "    SELECT \n",
    "        user_id\n",
    "    FROM  \n",
    "        users\n",
    "    LIMIT \n",
    "        100\n",
    ")\n",
    "SELECT \n",
    "    A.user_id AS user_id,\n",
    "    B.name AS name\n",
    "FROM\n",
    "    hundred_users AS A \n",
    "    CROSS JOIN products AS B\n",
    "ORDER BY\n",
    "    user_id,\n",
    "    name"
   ]
  },
  {
   "cell_type": "markdown",
   "id": "05d1ee87",
   "metadata": {},
   "source": [
    "Для начала объедините таблицы user_actions и orders — это вы уже умеете делать. В качестве ключа используйте поле order_id. Выведите id пользователей и заказов, а также список товаров в заказе. Отсортируйте таблицу по id пользователя по возрастанию, затем по id заказа — тоже по возрастанию.\n",
    "Добавьте в запрос оператор LIMIT и выведите только первые 1000 строк результирующей таблицы."
   ]
  },
  {
   "cell_type": "code",
   "execution_count": null,
   "id": "63aa855c",
   "metadata": {
    "vscode": {
     "languageId": "sql"
    }
   },
   "outputs": [],
   "source": [
    "SELECT \n",
    "    A.user_id AS user_id,\n",
    "    A.order_id AS order_id,\n",
    "    B.product_ids AS product_ids\n",
    "FROM\n",
    "    user_actions AS A\n",
    "    INNER JOIN orders AS B\n",
    "    ON A.order_id = B.order_id\n",
    "ORDER BY \n",
    "    user_id,\n",
    "    order_id\n",
    "LIMIT \n",
    "    1000"
   ]
  },
  {
   "cell_type": "markdown",
   "id": "e80f2bc7",
   "metadata": {},
   "source": [
    "Снова объедините таблицы user_actions и orders, но теперь оставьте только уникальные неотменённые заказы (мы делали похожий запрос на прошлом уроке). Остальные условия задачи те же: вывести id пользователей и заказов, а также список товаров в заказе. Отсортируйте таблицу по id пользователя по возрастанию, затем по id заказа — тоже по возрастанию.\n",
    "Добавьте в запрос оператор LIMIT и выведите только первые 1000 строк результирующей таблицы."
   ]
  },
  {
   "cell_type": "code",
   "execution_count": null,
   "id": "c870451f",
   "metadata": {
    "vscode": {
     "languageId": "sql"
    }
   },
   "outputs": [],
   "source": [
    "WITH \n",
    "cancel_order AS (\n",
    "    SELECT \n",
    "        DISTINCT(order_id)\n",
    "    FROM \n",
    "        user_actions\n",
    "    WHERE \n",
    "        action = 'cancel_order'\n",
    ")\n",
    "SELECT \n",
    "    A.user_id AS user_id,\n",
    "    A.order_id AS order_id,\n",
    "    B.product_ids AS product_ids\n",
    "FROM\n",
    "    user_actions AS A\n",
    "    INNER JOIN orders AS B\n",
    "    ON A.order_id = B.order_id\n",
    "WHERE\n",
    "    A.order_id NOT IN (SELECT order_id FROM cancel_order)\n",
    "ORDER BY \n",
    "    user_id,\n",
    "    order_id\n",
    "LIMIT \n",
    "    1000"
   ]
  },
  {
   "cell_type": "markdown",
   "id": "9d0b75c5",
   "metadata": {},
   "source": [
    "Используя запрос из предыдущего задания, посчитайте, сколько в среднем товаров заказывает каждый пользователь. Выведите id пользователя и среднее количество товаров в заказе. Среднее значение округлите до двух знаков после запятой. Колонку посчитанными значениями назовите avg_order_size. Результат выполнения запроса отсортируйте по возрастанию id пользователя. \n",
    "Добавьте в запрос оператор LIMIT и выведите только первые 1000 строк результирующей таблицы."
   ]
  },
  {
   "cell_type": "code",
   "execution_count": null,
   "id": "a38bc8e5",
   "metadata": {
    "vscode": {
     "languageId": "sql"
    }
   },
   "outputs": [],
   "source": [
    "WITH \n",
    "cancel_order AS (\n",
    "    SELECT \n",
    "        DISTINCT(order_id)\n",
    "    FROM \n",
    "        user_actions\n",
    "    WHERE \n",
    "        action = 'cancel_order'\n",
    ")\n",
    "SELECT \n",
    "    A.user_id AS user_id,\n",
    "    ROUND(AVG(ARRAY_LENGTH(B.product_ids, 1)), 2) AS avg_order_size\n",
    "FROM\n",
    "    user_actions AS A\n",
    "    INNER JOIN orders AS B\n",
    "    ON A.order_id = B.order_id\n",
    "WHERE\n",
    "    A.order_id NOT IN (SELECT order_id FROM cancel_order)\n",
    "GROUP BY\n",
    "    A.user_id\n",
    "ORDER BY \n",
    "    user_id\n",
    "LIMIT \n",
    "    1000"
   ]
  },
  {
   "cell_type": "markdown",
   "id": "da4c122b",
   "metadata": {},
   "source": [
    "Для начала к таблице с заказами (orders) примените функцию unnest, как мы делали в прошлом уроке. Колонку с id товаров назовите product_id. Затем к образовавшейся расширенной таблице по ключу product_id добавьте информацию о ценах на товары (из таблицы products). Должна получиться таблица с заказами, товарами внутри каждого заказа и ценами на эти товары. Выведите колонки с id заказа, id товара и ценой товара. Результат отсортируйте сначала по возрастанию id заказа, затем по возрастанию id товара.\n",
    "Добавьте в запрос оператор LIMIT и выведите только первые 1000 строк результирующей таблицы."
   ]
  },
  {
   "cell_type": "code",
   "execution_count": null,
   "id": "cbc9235d",
   "metadata": {
    "vscode": {
     "languageId": "sql"
    }
   },
   "outputs": [],
   "source": [
    "WITH\n",
    "product_table AS (\n",
    "    SELECT \n",
    "        order_id,\n",
    "        creation_time, \n",
    "        product_ids, \n",
    "        unnest(product_ids) AS product_id\n",
    "    FROM \n",
    "        orders\n",
    ")\n",
    "SELECT\n",
    "    A.product_id AS product_id,\n",
    "    A.order_id AS order_id, \n",
    "    B.price AS price\n",
    "FROM \n",
    "    product_table AS A\n",
    "    LEFT JOIN products AS B\n",
    "    ON A.product_id = B.product_id\n",
    "ORDER BY\n",
    "    order_id,\n",
    "    product_id\n",
    "LIMIT\n",
    "    1000"
   ]
  },
  {
   "cell_type": "markdown",
   "id": "4d4c946d",
   "metadata": {},
   "source": [
    "Используя запрос из предыдущего задания, рассчитайте суммарную стоимость каждого заказа. Выведите колонки с id заказов и их стоимостью. Колонку со стоимостью заказа назовите order_price. Результат отсортируйте по возрастанию id заказа.\n",
    "Добавьте в запрос оператор LIMIT и выведите только первые 1000 строк результирующей таблицы."
   ]
  },
  {
   "cell_type": "code",
   "execution_count": null,
   "id": "31d25506",
   "metadata": {
    "vscode": {
     "languageId": "sql"
    }
   },
   "outputs": [],
   "source": [
    "WITH\n",
    "product_table AS (\n",
    "    SELECT \n",
    "        order_id,\n",
    "        creation_time, \n",
    "        product_ids, \n",
    "        unnest(product_ids) AS product_id\n",
    "    FROM \n",
    "        orders\n",
    ")\n",
    "SELECT\n",
    "    A.order_id AS order_id, \n",
    "    SUM(price) AS order_price\n",
    "FROM \n",
    "    product_table AS A\n",
    "    LEFT JOIN products AS B\n",
    "    ON A.product_id = B.product_id\n",
    "GROUP BY\n",
    "    order_id\n",
    "ORDER BY\n",
    "    order_id\n",
    "LIMIT\n",
    "    1000"
   ]
  },
  {
   "cell_type": "markdown",
   "id": "5a6b97a6",
   "metadata": {},
   "source": [
    "На основе объединённой таблицы для каждого пользователя рассчитайте следующие показатели:\n",
    "общее число заказов — колонку назовите orders_count\n",
    "среднее количество товаров в заказе — avg_order_size\n",
    "суммарную стоимость всех покупок — sum_order_value\n",
    "среднюю стоимость заказа — avg_order_value\n",
    "минимальную стоимость заказа — min_order_value\n",
    "максимальную стоимость заказа — max_order_value\n",
    "Полученный результат отсортируйте по возрастанию id пользователя."
   ]
  },
  {
   "cell_type": "code",
   "execution_count": null,
   "id": "c21e0c89",
   "metadata": {
    "vscode": {
     "languageId": "sql"
    }
   },
   "outputs": [],
   "source": [
    "WITH\n",
    "cancel_order AS (\n",
    "    SELECT\n",
    "        user_id,\n",
    "        order_id\n",
    "    FROM   \n",
    "        user_actions\n",
    "    WHERE\n",
    "        action = 'cancel_order'\n",
    "),\n",
    "product_list AS (\n",
    "    SELECT\n",
    "        order_id,\n",
    "        unnest(product_ids) AS product_id\n",
    "    FROM\n",
    "        orders\n",
    "),\n",
    "count_order AS (\n",
    "    SELECT\n",
    "        b.user_id AS user_id,\n",
    "        a.order_id as order_id,\n",
    "        array_length(product_ids, 1) as order_size\n",
    "    FROM   \n",
    "        orders AS a\n",
    "        LEFT JOIN user_actions AS b\n",
    "        ON a.order_id = b.order_id\n",
    "    WHERE  \n",
    "        a.order_id NOT IN (SELECT order_id FROM cancel_order)\n",
    "    ORDER BY \n",
    "        user_id\n",
    "),\n",
    "sum_order AS (\n",
    "    SELECT\n",
    "        A1.order_id,\n",
    "        SUM(price) AS order_price\n",
    "    FROM \n",
    "        product_list AS A1\n",
    "        LEFT JOIN products AS C\n",
    "        ON A1.product_id = C.product_id\n",
    "    GROUP BY\n",
    "        order_id\n",
    "    ORDER BY\n",
    "        order_id\n",
    ")\n",
    "SELECT \n",
    "    user_id,\n",
    "    COUNT(T2.order_id) AS orders_count,\n",
    "    ROUND(AVG(T1.order_size), 2) AS avg_order_size,\n",
    "    SUM(T2.order_price) AS sum_order_value,\n",
    "    ROUND(AVG(T2.order_price), 2) AS avg_order_value,\n",
    "    MIN(T2.order_price) AS min_order_value,\n",
    "    MAX(T2.order_price) AS max_order_value\n",
    "FROM \n",
    "    count_order AS T1\n",
    "    LEFT JOIN sum_order AS T2\n",
    "    ON T1.order_id = T2.order_id\n",
    "GROUP BY\n",
    "    user_id\n",
    "ORDER BY\n",
    "    user_id\n",
    "LIMIT\n",
    "    1000"
   ]
  },
  {
   "cell_type": "markdown",
   "id": "1fbd7dd8",
   "metadata": {},
   "source": [
    "По данным таблиц orders, products и user_actions посчитайте ежедневную выручку сервиса. Под выручкой будем понимать стоимость всех реализованных товаров, содержащихся в заказах.\n",
    "Колонку с датой назовите date, а колонку со значением выручки — revenue.\n",
    "В расчётах учитывайте только неотменённые заказы.\n",
    "Результат отсортируйте по возрастанию даты."
   ]
  },
  {
   "cell_type": "code",
   "execution_count": null,
   "id": "cbddd312",
   "metadata": {
    "vscode": {
     "languageId": "sql"
    }
   },
   "outputs": [],
   "source": [
    "WITH\n",
    "canceled_orders AS (\n",
    "    SELECT \n",
    "        order_id, \n",
    "        time\n",
    "    FROM\n",
    "        user_actions\n",
    "    WHERE\n",
    "        action = 'cancel_order'\n",
    "),\n",
    "expanded_products AS (\n",
    "    SELECT \n",
    "        order_id, \n",
    "        unnest(product_ids) AS product_id\n",
    "    FROM\n",
    "        orders\n",
    "),\n",
    "order_coast AS (\n",
    "    SELECT \n",
    "        EP.order_id AS order_id,\n",
    "        SUM(P.price) AS price\n",
    "    FROM\n",
    "        expanded_products AS EP\n",
    "        LEFT JOIN products AS P\n",
    "        ON EP.product_id = P.product_id\n",
    "    GROUP BY\n",
    "        order_id\n",
    ")\n",
    "SELECT\n",
    "    DATE(UA.time) AS date,\n",
    "    SUM(OC.price)::DECIMAL AS revenue\n",
    "FROM\n",
    "    user_actions AS UA\n",
    "    LEFT JOIN order_coast AS OC\n",
    "    ON UA.order_id = OC.order_id\n",
    "WHERE  \n",
    "    UA.order_id NOT IN (SELECT order_id FROM canceled_orders)\n",
    "GROUP BY\n",
    "    date\n",
    "ORDER BY\n",
    "    date"
   ]
  },
  {
   "cell_type": "markdown",
   "id": "da42e101",
   "metadata": {},
   "source": [
    "По таблицам courier_actions , orders и products определите 10 самых популярных товаров, доставленных в сентябре 2022 года."
   ]
  },
  {
   "cell_type": "code",
   "execution_count": null,
   "id": "7efb1d4d",
   "metadata": {
    "vscode": {
     "languageId": "sql"
    }
   },
   "outputs": [],
   "source": [
    "WITH\n",
    "deliver_orders AS (\n",
    "    SELECT\n",
    "        order_id\n",
    "    FROM\n",
    "        courier_actions\n",
    "    WHERE \n",
    "        action = 'deliver_order' \n",
    "        AND DATE_PART('year', time) = 2022\n",
    "        AND DATE_PART('month', time) = 9\n",
    "),\n",
    "expanded_products AS (\n",
    "    SELECT\n",
    "        DISTINCT(order_id),\n",
    "        unnest(product_ids) AS product_id\n",
    "    FROM\n",
    "        orders\n",
    ")\n",
    "SELECT\n",
    "    P.name AS name,\n",
    "    COUNT(EP.product_id) AS times_purchased\n",
    "FROM\n",
    "    expanded_products AS EP\n",
    "    LEFT JOIN products AS P\n",
    "    ON EP.product_id = P.product_id\n",
    "WHERE\n",
    "    EP.order_id IN (SELECT order_id FROM deliver_orders)\n",
    "GROUP BY\n",
    "    name\n",
    "ORDER BY\n",
    "    times_purchased DESC\n",
    "LIMIT 10"
   ]
  },
  {
   "cell_type": "markdown",
   "id": "3045de2a",
   "metadata": {},
   "source": [
    "Возьмите запрос, составленный на одном из прошлых уроков, и подтяните в него из таблицы users данные о поле пользователей таким образом, чтобы все пользователи из таблицы user_actions остались в результате. Затем посчитайте среднее значение cancel_rate для каждого пола, округлив его до трёх знаков после запятой. Колонку с посчитанным средним значением назовите avg_cancel_rate."
   ]
  },
  {
   "cell_type": "code",
   "execution_count": null,
   "id": "fa0aee73",
   "metadata": {
    "vscode": {
     "languageId": "sql"
    }
   },
   "outputs": [],
   "source": [
    "WITH\n",
    "cancels AS (\n",
    "    SELECT\n",
    "        user_id,\n",
    "        ROUND(COUNT(DISTINCT(order_id)) FILTER (WHERE action = 'cancel_order')::DECIMAL / COUNT(DISTINCT(order_id)),3) AS cancel_rate\n",
    "    FROM\n",
    "        user_actions\n",
    "    GROUP BY\n",
    "        user_id\n",
    ")\n",
    "SELECT\n",
    "    COALESCE(U.sex, 'unknown') AS sex,\n",
    "    ROUND(AVG(C.cancel_rate), 3) AS avg_cancel_rate\n",
    "FROM\n",
    "    cancels AS C\n",
    "    LEFT JOIN users AS U\n",
    "    ON C.user_id = U.user_id\n",
    "GROUP BY\n",
    "    sex\n",
    "ORDER BY\n",
    "    sex"
   ]
  },
  {
   "cell_type": "markdown",
   "id": "a31b2690",
   "metadata": {},
   "source": [
    "По таблицам orders и courier_actions определите id десяти заказов, которые доставляли дольше всего."
   ]
  },
  {
   "cell_type": "code",
   "execution_count": null,
   "id": "0138c876",
   "metadata": {
    "vscode": {
     "languageId": "sql"
    }
   },
   "outputs": [],
   "source": [
    "SELECT\n",
    "    O.order_id\n",
    "FROM\n",
    "    orders AS O\n",
    "    LEFT JOIN courier_actions AS CA\n",
    "    ON O.order_id = CA.order_id\n",
    "WHERE\n",
    "    action = 'deliver_order'\n",
    "ORDER BY\n",
    "    (time - creation_time) DESC\n",
    "LIMIT 10"
   ]
  },
  {
   "cell_type": "markdown",
   "id": "ddae272e",
   "metadata": {},
   "source": [
    "Произведите замену списков с id товаров из таблицы orders на списки с наименованиями товаров. Наименования возьмите из таблицы products. Колонку с новыми списками наименований назовите product_names. \n",
    "Добавьте в запрос оператор LIMIT и выведите только первые 1000 строк результирующей таблицы."
   ]
  },
  {
   "cell_type": "code",
   "execution_count": null,
   "id": "c075ec92",
   "metadata": {
    "vscode": {
     "languageId": "sql"
    }
   },
   "outputs": [],
   "source": [
    "WITH\n",
    "product_list AS (\n",
    "    SELECT\n",
    "        order_id,\n",
    "        unnest(product_ids) AS product_id\n",
    "    FROM \n",
    "        orders\n",
    ")\n",
    "SELECT\n",
    "    LP.order_id AS order_id,\n",
    "    array_agg(P.name) AS product_names\n",
    "FROM\n",
    "    product_list AS LP\n",
    "    LEFT JOIN products AS P\n",
    "    ON LP.product_id = P.product_id\n",
    "GROUP BY\n",
    "    LP.order_id\n",
    "LIMIT\n",
    "    1000"
   ]
  },
  {
   "cell_type": "markdown",
   "id": "96c2c7ed",
   "metadata": {},
   "source": [
    "Выясните, кто заказывал и доставлял самые большие заказы. Самыми большими считайте заказы с наибольшим числом товаров."
   ]
  },
  {
   "cell_type": "code",
   "execution_count": null,
   "id": "e83aaeb9",
   "metadata": {
    "vscode": {
     "languageId": "sql"
    }
   },
   "outputs": [],
   "source": [
    "WITH\n",
    "max_order AS (\n",
    "    SELECT\n",
    "        MAX(array_length(product_ids, 1)) AS max_order\n",
    "    FROM\n",
    "        orders\n",
    "),\n",
    "lasts_time AS (\n",
    "    SELECT\n",
    "        MAX(time)::DATE AS last_time\n",
    "    FROM \n",
    "        user_actions\n",
    "),\n",
    "couriers_age AS (\n",
    "    SELECT \n",
    "        DISTINCT(courier_id),\n",
    "        DATE_PART('year', AGE(last_time, birth_date))::VARCHAR AS age_courier\n",
    "    FROM\n",
    "        lasts_time,\n",
    "        couriers\n",
    "),\n",
    "users_age AS (\n",
    "    SELECT\n",
    "        DISTINCT(user_id),\n",
    "        DATE_PART('year', AGE(last_time, birth_date))::VARCHAR AS age_user\n",
    "    FROM \n",
    "        lasts_time,\n",
    "        users\n",
    "),\n",
    "A AS (\n",
    "    SELECT \n",
    "        O.order_id AS order_id, \n",
    "        CA.courier_id AS courier_id\n",
    "    FROM\n",
    "        orders AS O\n",
    "        LEFT JOIN courier_actions AS CA\n",
    "        ON O.order_id = CA.order_id\n",
    "    WHERE\n",
    "        array_length(O.product_ids, 1) IN (SELECT max_order FROM max_order)\n",
    "),\n",
    "B AS (\n",
    "    SELECT \n",
    "        A.order_id AS order_id,\n",
    "        UA.user_id AS user_id,\n",
    "        A.courier_id AS courier_id\n",
    "    FROM\n",
    "        A AS A\n",
    "        LEFT JOIN user_actions AS UA\n",
    "        ON A.order_id = UA.order_id\n",
    "),\n",
    "C AS (\n",
    "    SELECT\n",
    "        us.age_user AS age_user,\n",
    "        B.order_id AS order_id,\n",
    "        B.user_id AS user_id,\n",
    "        B.courier_id AS courier_id\n",
    "    FROM\n",
    "        B AS B\n",
    "        LEFT JOIN users_age AS us\n",
    "        ON B.user_id = us.user_id\n",
    ")\n",
    "SELECT\n",
    "    DISTINCT(C.order_id) AS order_id,\n",
    "    C.user_id AS user_id,\n",
    "    C.age_user AS user_age,\n",
    "    C.courier_id AS courier_id,\n",
    "    CA.age_courier AS courier_age\n",
    "FROM\n",
    "    C AS C\n",
    "    LEFT JOIN couriers_age AS CA\n",
    "    ON C.courier_id = CA.courier_id\n",
    "ORDER BY\n",
    "    order_id"
   ]
  },
  {
   "cell_type": "markdown",
   "id": "2f058bd9",
   "metadata": {},
   "source": [
    "Более короткий вариант"
   ]
  },
  {
   "cell_type": "code",
   "execution_count": null,
   "id": "94852af0",
   "metadata": {
    "vscode": {
     "languageId": "sql"
    }
   },
   "outputs": [],
   "source": [
    "WITH max_order AS (\n",
    "    SELECT MAX(array_length(product_ids, 1)) AS max_order\n",
    "    FROM orders\n",
    "),\n",
    "last_time AS (\n",
    "    SELECT MAX(time) AS last_time\n",
    "    FROM user_actions\n",
    "),\n",
    "large_orders AS (\n",
    "    SELECT order_id\n",
    "    FROM orders\n",
    "    WHERE array_length(product_ids, 1) = (SELECT max_order FROM max_order)\n",
    "),\n",
    "order_users AS (\n",
    "    SELECT DISTINCT order_id, user_id\n",
    "    FROM user_actions\n",
    "    WHERE order_id IN (SELECT order_id FROM large_orders)\n",
    "),\n",
    "order_couriers AS (\n",
    "    SELECT DISTINCT order_id, courier_id\n",
    "    FROM courier_actions\n",
    "    WHERE order_id IN (SELECT order_id FROM large_orders)\n",
    ")\n",
    "SELECT \n",
    "    ou.order_id,\n",
    "    ou.user_id,\n",
    "    DATE_PART('year', AGE((SELECT last_time FROM last_time), u.birth_date))::INTEGER AS user_age,\n",
    "    oc.courier_id,\n",
    "    DATE_PART('year', AGE((SELECT last_time FROM last_time), c.birth_date))::INTEGER AS courier_age\n",
    "FROM \n",
    "    order_users ou\n",
    "LEFT JOIN \n",
    "    order_couriers oc USING (order_id)\n",
    "LEFT JOIN \n",
    "    users u USING (user_id)\n",
    "LEFT JOIN \n",
    "    couriers c USING (courier_id)\n",
    "ORDER BY \n",
    "    order_id"
   ]
  },
  {
   "cell_type": "markdown",
   "id": "1168255d",
   "metadata": {},
   "source": [
    "Выясните, какие пары товаров покупают вместе чаще всего."
   ]
  },
  {
   "cell_type": "code",
   "execution_count": null,
   "id": "f42c6974",
   "metadata": {
    "vscode": {
     "languageId": "sql"
    }
   },
   "outputs": [],
   "source": [
    "WITH\n",
    "cancel_order AS (\n",
    "    SELECT\n",
    "        DISTINCT(order_id)\n",
    "    FROM\n",
    "        user_actions\n",
    "    WHERE \n",
    "        action = 'cancel_order'\n",
    "),\n",
    "orders_products  AS (\n",
    "    SELECT\n",
    "        order_id,\n",
    "        unnest(product_ids) AS product_id\n",
    "    FROM    \n",
    "        orders\n",
    "    WHERE\n",
    "        order_id NOT IN (SELECT order_id FROM cancel_order)    \n",
    "),\n",
    "main_table AS (\n",
    "    SELECT DISTINCT\n",
    "        O.order_id,\n",
    "        O.product_id,\n",
    "        P.name\n",
    "    FROM orders_products AS O\n",
    "    LEFT JOIN products P USING (product_id)\n",
    "    ORDER BY\n",
    "        order_id,\n",
    "        name\n",
    "),\n",
    "pairs AS (\n",
    "    SELECT DISTINCT\n",
    "        A.order_id,\n",
    "        CASE\n",
    "            WHEN A.name > B.name THEN string_to_array(CONCAT(B.name, '+', A.name), '+')\n",
    "            ELSE string_to_array(CONCAT(A.name, '+', B.name), '+')\n",
    "        END AS pair\n",
    "    FROM\n",
    "        main_table A\n",
    "    JOIN main_table B ON A.order_id = B.order_id \n",
    "    AND A.name != B.name\n",
    ")\n",
    "SELECT \n",
    "    pair, \n",
    "    count(order_id) AS count_pair\n",
    "FROM\n",
    "    pairs\n",
    "GROUP BY\n",
    "    pair\n",
    "ORDER BY\n",
    "    count_pair DESC,\n",
    "    pair"
   ]
  }
 ],
 "metadata": {
  "language_info": {
   "name": "python"
  }
 },
 "nbformat": 4,
 "nbformat_minor": 5
}
