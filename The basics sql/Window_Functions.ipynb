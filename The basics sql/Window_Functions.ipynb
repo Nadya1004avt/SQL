{
 "cells": [
  {
   "cell_type": "markdown",
   "id": "aed5c6c1",
   "metadata": {},
   "source": [
    "**Оконные функции**"
   ]
  },
  {
   "cell_type": "markdown",
   "id": "c4bd3d36",
   "metadata": {},
   "source": [
    "Примените оконные функции к таблице products и с помощью ранжирующих функций упорядочьте все товары по цене — от самых дорогих к самым дешёвым. Добавьте в таблицу следующие колонки:\n",
    "Колонку product_number с порядковым номером товара (функция ROW_NUMBER).\n",
    "Колонку product_rank с рангом товара с пропусками рангов (функция RANK).\n",
    "Колонку product_dense_rank с рангом товара без пропусков рангов (функция DENSE_RANK).\n"
   ]
  },
  {
   "cell_type": "code",
   "execution_count": null,
   "id": "63c49f41",
   "metadata": {
    "vscode": {
     "languageId": "sql"
    }
   },
   "outputs": [],
   "source": [
    "SELECT \n",
    "    product_id,\n",
    "    name,\n",
    "    price,\n",
    "    ROW_NUMBER() OVER (ORDER BY price DESC) AS product_number,\n",
    "    RANK() OVER (ORDER BY price DESC) AS product_rank,\n",
    "    DENSE_RANK() OVER (ORDER BY price DESC) AS product_dense_rank\n",
    "FROM \n",
    "    products"
   ]
  },
  {
   "cell_type": "markdown",
   "id": "394ca3e1",
   "metadata": {},
   "source": [
    "Примените оконную функцию к таблице products и с помощью агрегирующей функции в отдельной колонке для каждой записи проставьте цену самого дорогого товара. Колонку с этим значением назовите max_price.\n",
    "Затем для каждого товара посчитайте долю его цены в стоимости самого дорогого товара — просто поделите одну колонку на другую. Полученные доли округлите до двух знаков после запятой. Колонку с долями назовите share_of_max.\n",
    "Выведите всю информацию о товарах, включая значения в новых колонках. Результат отсортируйте сначала по убыванию цены товара, затем по возрастанию id товара."
   ]
  },
  {
   "cell_type": "code",
   "execution_count": null,
   "id": "afb376e8",
   "metadata": {
    "vscode": {
     "languageId": "sql"
    }
   },
   "outputs": [],
   "source": [
    "SELECT\n",
    "    product_id,\n",
    "    name,\n",
    "    price,\n",
    "    MAX(price) OVER() AS max_price,\n",
    "    ROUND((price / MAX(price) OVER()), 2) AS share_of_max\n",
    "FROM \n",
    "    products\n",
    "GROUP BY\n",
    "    product_id\n",
    "ORDER BY\n",
    "    price DESC,\n",
    "    product_id"
   ]
  },
  {
   "cell_type": "markdown",
   "id": "dcbec1e7",
   "metadata": {},
   "source": [
    "Примените две оконные функции к таблице products. Одну с агрегирующей функцией MAX, а другую с агрегирующей функцией MIN — для вычисления максимальной и минимальной цены. Для двух окон задайте инструкцию ORDER BY по убыванию цены. Поместите результат вычислений в две колонки max_price и min_price.\n",
    "Выведите всю информацию о товарах, включая значения в новых колонках. Результат отсортируйте сначала по убыванию цены товара, затем по возрастанию id товара."
   ]
  },
  {
   "cell_type": "code",
   "execution_count": null,
   "id": "b0c52a27",
   "metadata": {
    "vscode": {
     "languageId": "sql"
    }
   },
   "outputs": [],
   "source": [
    "SELECT\n",
    "    product_id,\n",
    "    name,\n",
    "    price,\n",
    "    MAX(price) OVER(ORDER BY price DESC) AS max_price,\n",
    "    MIN(price) OVER(ORDER BY price DESC) AS min_price\n",
    "FROM \n",
    "    products\n",
    "GROUP BY\n",
    "    product_id\n",
    "ORDER BY\n",
    "    price DESC,\n",
    "    product_id"
   ]
  },
  {
   "cell_type": "markdown",
   "id": "a1f8a6e7",
   "metadata": {},
   "source": [
    "Сначала на основе таблицы orders сформируйте запрос, который вернет таблицу с общим числом заказов по дням. При подсчёте числа заказов не учитывайте отменённые заказы (их можно определить по таблице user_actions). Колонку с днями назовите date, а колонку с числом заказов — orders_count.\n",
    "Затем поместите полученную таблицу в подзапрос и примените к ней оконную функцию в паре с агрегирующей функцией SUM для расчёта накопительной суммы числа заказов. Не забудьте для окна задать инструкцию ORDER BY по дате.\n",
    "Колонку с накопительной суммой назовите orders_count_cumulative. "
   ]
  },
  {
   "cell_type": "code",
   "execution_count": null,
   "id": "042951d7",
   "metadata": {
    "vscode": {
     "languageId": "sql"
    }
   },
   "outputs": [],
   "source": [
    "WITH \n",
    "cancel_orders AS (\n",
    "    SELECT \n",
    "        order_id\n",
    "    FROM \n",
    "        user_actions\n",
    "    WHERE\n",
    "        action = 'cancel_order'\n",
    "),\n",
    "order_days as (\n",
    "    SELECT \n",
    "        COUNT(order_id) as orders_count,\n",
    "        creation_time::date as date\n",
    "    from \n",
    "        orders\n",
    "    where order_id NOT IN (select order_id from cancel_orders)\n",
    "    GROUP BY\n",
    "        date\n",
    ")\n",
    "select \n",
    "    date,\n",
    "    orders_count,\n",
    "    sum(orders_count) OVER(order by date)::int AS orders_count_cumulative\n",
    "from \n",
    "    order_days\n",
    "ORDER BY \n",
    "    date"
   ]
  },
  {
   "cell_type": "markdown",
   "id": "69d9a981",
   "metadata": {},
   "source": [
    "Для каждого пользователя в таблице user_actions посчитайте порядковый номер каждого заказа."
   ]
  },
  {
   "cell_type": "code",
   "execution_count": null,
   "id": "70b5bd53",
   "metadata": {
    "vscode": {
     "languageId": "sql"
    }
   },
   "outputs": [],
   "source": [
    "WITH\n",
    "cancel_order AS (\n",
    "    SELECT\n",
    "        order_id\n",
    "    FROM \n",
    "        user_actions\n",
    "    WHERE\n",
    "        action = 'cancel_order'\n",
    ")\n",
    "SELECT \n",
    "    user_id,\n",
    "    order_id,\n",
    "    time,\n",
    "    ROW_NUMBER() OVER(PARTITION BY user_id ORDER BY time) AS order_number \n",
    "FROM\n",
    "    user_actions\n",
    "WHERE\n",
    "    order_id NOT IN (SELECT order_id FROM cancel_order)\n",
    "ORDER BY \n",
    "    user_id,\n",
    "    order_number\n",
    "LIMIT \n",
    "    1000"
   ]
  },
  {
   "cell_type": "markdown",
   "id": "e2cb1fc6",
   "metadata": {},
   "source": [
    "Дополните запрос из предыдущего задания и с помощью оконной функции для каждого заказа каждого пользователя рассчитайте, сколько времени прошло с момента предыдущего заказа. "
   ]
  },
  {
   "cell_type": "code",
   "execution_count": null,
   "id": "3727a767",
   "metadata": {
    "vscode": {
     "languageId": "sql"
    }
   },
   "outputs": [],
   "source": [
    "WITH\n",
    "cancel_order AS (\n",
    "    SELECT\n",
    "        order_id\n",
    "    FROM \n",
    "        user_actions\n",
    "    WHERE\n",
    "        action = 'cancel_order'\n",
    ")\n",
    "select \n",
    "    user_id,\n",
    "    order_id,\n",
    "    time,\n",
    "    ROW_NUMBER() OVER(PARTITION BY user_id ORDER BY time) AS order_number,\n",
    "    LAG(time, 1) OVER(PARTITION BY user_id ORDER BY time) AS time_lag,\n",
    "    (time - (LAG(time, 1) OVER(PARTITION BY user_id ORDER BY time))) AS time_diff \n",
    "FROM\n",
    "    user_actions\n",
    "WHERE\n",
    "    order_id NOT IN (SELECT order_id FROM cancel_order)\n",
    "ORDER BY \n",
    "    user_id,\n",
    "    order_number\n",
    "LIMIT \n",
    "    1000"
   ]
  },
  {
   "cell_type": "markdown",
   "id": "aa860f28",
   "metadata": {},
   "source": [
    "На основе запроса из предыдущего задания для каждого пользователя рассчитайте, сколько в среднем времени проходит между его заказами. Посчитайте этот показатель только для тех пользователей, которые за всё время оформили более одного неотмененного заказа."
   ]
  },
  {
   "cell_type": "code",
   "execution_count": null,
   "id": "9618cda8",
   "metadata": {
    "vscode": {
     "languageId": "sql"
    }
   },
   "outputs": [],
   "source": [
    "WITH\n",
    "canceled_order AS (\n",
    "    SELECT\n",
    "        order_id\n",
    "    FROM \n",
    "        user_actions\n",
    "    WHERE\n",
    "        action = 'cancel_order'\n",
    "),\n",
    "user_order_times AS (\n",
    "select \n",
    "    user_id,\n",
    "    COUNT(order_id) OVER (PARTITION BY user_id) AS user_order_count,\n",
    "    time,\n",
    "    (time - (LAG(time, 1) OVER(PARTITION BY user_id ORDER BY time))) AS time_diff \n",
    "FROM\n",
    "    user_actions\n",
    "WHERE\n",
    "    order_id NOT IN (SELECT order_id FROM canceled_order)\n",
    ")\n",
    "SELECT \n",
    "    user_id,\n",
    "    (EXTRACT(EPOCH from AVG(time_diff))/3600)::int AS hours_between_orders\n",
    "FROM\n",
    "\tuser_order_times\n",
    "WHERE\n",
    "\tuser_order_count > 1\n",
    "GROUP BY\n",
    "\tuser_id\n",
    "ORDER BY\n",
    "\tuser_id\n",
    "LIMIT\n",
    "\t1000"
   ]
  },
  {
   "cell_type": "markdown",
   "id": "542f1380",
   "metadata": {},
   "source": [
    "Сначала на основе таблицы orders сформируйте новую таблицу с общим числом заказов по дням. Вы уже делали это в одной из предыдущих задач. При подсчёте числа заказов не учитывайте отменённые заказы (их можно определить по таблице user_actions). Колонку с числом заказов назовите orders_count.\n",
    "Затем поместите полученную таблицу в подзапрос и примените к ней оконную функцию в паре с агрегирующей функцией AVG для расчёта скользящего среднего числа заказов. Скользящее среднее для каждой записи считайте по трём предыдущим дням. Подумайте, как правильно задать границы рамки, чтобы получить корректные расчёты.\n",
    "Полученные значения скользящего среднего округлите до двух знаков после запятой. Колонку с рассчитанным показателем назовите moving_avg. Сортировку результирующей таблицы делать не нужно."
   ]
  },
  {
   "cell_type": "code",
   "execution_count": null,
   "id": "57067403",
   "metadata": {
    "vscode": {
     "languageId": "sql"
    }
   },
   "outputs": [],
   "source": [
    "WITH\n",
    "canceled_orders AS (\n",
    "    SELECT\n",
    "        order_id\n",
    "    FROM\n",
    "        user_actions\n",
    "    WHERE\n",
    "        action = 'cancel_order'\n",
    "),\n",
    "daily_orders AS (\n",
    "    SELECT \n",
    "        COUNT(order_id) AS orders_count,\n",
    "        creation_time::date AS date\n",
    "    FROM \n",
    "        orders\n",
    "    WHERE\n",
    "        order_id NOT IN (SELECT order_id FROM canceled_orders)\n",
    "    GROUP BY\n",
    "        date\n",
    ")\n",
    "SELECT\n",
    "    orders_count,\n",
    "    date,\n",
    "    ROUND(AVG(orders_count) OVER(ORDER BY date ROWS BETWEEN 3 PRECEDING AND 1 PRECEDING), 2) AS moving_avg\n",
    "FROM daily_orders"
   ]
  },
  {
   "cell_type": "markdown",
   "id": "63f6e6fd",
   "metadata": {},
   "source": [
    "Отметьте в отдельной таблице тех курьеров, которые доставили в сентябре 2022 года заказов больше, чем в среднем все курьеры."
   ]
  },
  {
   "cell_type": "code",
   "execution_count": null,
   "id": "9f930d33",
   "metadata": {
    "vscode": {
     "languageId": "sql"
    }
   },
   "outputs": [],
   "source": [
    "SELECT\n",
    "    courier_id,\n",
    "    COUNT(order_id) AS delivered_orders,\n",
    "    ROUND(AVG(COUNT(order_id)) OVER(),2) AS avg_delivered_orders,\n",
    "    CASE\n",
    "        WHEN COUNT(order_id) > ROUND(AVG(COUNT(order_id)) OVER(),2) THEN 1\n",
    "        ELSE 0\n",
    "    END AS is_above_avg\n",
    "FROM\n",
    "    courier_actions\n",
    "WHERE \n",
    "    action = 'deliver_order' \n",
    "    AND DATE_PART('year', time) = 2022 \n",
    "    AND DATE_PART('month', time) = 9 \n",
    "GROUP BY\n",
    "    courier_id"
   ]
  },
  {
   "cell_type": "markdown",
   "id": "64fc2963",
   "metadata": {},
   "source": [
    "По данным таблицы user_actions посчитайте число первых и повторных заказов на каждую дату."
   ]
  },
  {
   "cell_type": "code",
   "execution_count": null,
   "id": "9df9f7da",
   "metadata": {
    "vscode": {
     "languageId": "sql"
    }
   },
   "outputs": [],
   "source": [
    "WITH\n",
    "cancel_ordered AS (\n",
    "    SELECT \n",
    "        order_id\n",
    "    FROM\n",
    "        user_actions\n",
    "    WHERE\n",
    "        action = 'cancel_order'\n",
    "),\n",
    "orders_with_types AS (\n",
    "    SELECT \n",
    "        time::date AS date,\n",
    "        order_id,\n",
    "        CASE\n",
    "            WHEN time = MIN(time) OVER(PARTITION BY user_id) THEN 'Первый'\n",
    "            ELSE 'Повторный'\n",
    "        END AS order_type\n",
    "    FROM\n",
    "        user_actions\n",
    "    WHERE\n",
    "        order_id NOT IN (SELECT order_id FROM cancel_ordered)\n",
    ")\n",
    "SELECT\n",
    "    date,\n",
    "    order_type,\n",
    "    COUNT(order_id) AS orders_count\n",
    "FROM\n",
    "    orders_with_types\n",
    "GROUP BY\n",
    "    date,\n",
    "    order_type\n",
    "ORDER BY\n",
    "    date,\n",
    "    order_type"
   ]
  },
  {
   "cell_type": "markdown",
   "id": "a0bcd5f5",
   "metadata": {},
   "source": [
    "К запросу, полученному на предыдущем шаге, примените оконную функцию и для каждого дня посчитайте долю первых и повторных заказов. Сохраните структуру полученной ранее таблицы и добавьте только одну новую колонку с посчитанными значениями."
   ]
  },
  {
   "cell_type": "code",
   "execution_count": null,
   "id": "45e80ac4",
   "metadata": {
    "vscode": {
     "languageId": "sql"
    }
   },
   "outputs": [],
   "source": [
    "WITH\n",
    "cancel_ordered AS (\n",
    "    SELECT \n",
    "        order_id\n",
    "    FROM\n",
    "        user_actions\n",
    "    WHERE\n",
    "        action = 'cancel_order'\n",
    "),\n",
    "orders_with_types AS (\n",
    "    SELECT \n",
    "        time::date AS date,\n",
    "        order_id,\n",
    "        CASE\n",
    "            WHEN time = MIN(time) OVER(PARTITION BY user_id) THEN 'Первый'\n",
    "            ELSE 'Повторный'\n",
    "        END AS order_type\n",
    "    FROM\n",
    "        user_actions\n",
    "    WHERE\n",
    "        order_id NOT IN (SELECT order_id FROM cancel_ordered)\n",
    "),\n",
    "daily_counts AS (\n",
    "    SELECT\n",
    "        date,\n",
    "        order_type,\n",
    "        COUNT(order_id) AS orders_count,\n",
    "        SUM(COUNT(order_id)) OVER(PARTITION BY date) AS total_orders\n",
    "    FROM\n",
    "        orders_with_types\n",
    "    GROUP BY\n",
    "        date,\n",
    "        order_type\n",
    ")\n",
    "SELECT\n",
    "    date, \n",
    "    order_type,\n",
    "    orders_count, \n",
    "    ROUND((orders_count / total_orders), 2) AS orders_share\n",
    "FROM\n",
    "    daily_counts\n",
    "ORDER BY\n",
    "    date,\n",
    "    order_type"
   ]
  },
  {
   "cell_type": "markdown",
   "id": "e49328f1",
   "metadata": {},
   "source": [
    "Примените оконную функцию к таблице products и с помощью агрегирующей функции в отдельной колонке для каждой записи проставьте среднюю цену всех товаров. Колонку с этим значением назовите avg_price."
   ]
  },
  {
   "cell_type": "code",
   "execution_count": null,
   "id": "2181c0c3",
   "metadata": {
    "vscode": {
     "languageId": "sql"
    }
   },
   "outputs": [],
   "source": [
    "WITH\n",
    "max_prices AS (\n",
    "    SELECT\n",
    "        MAX(price) AS max_price\n",
    "    FROM\n",
    "        products\n",
    ")\n",
    "SELECT\n",
    "    product_id,\n",
    "    name,\n",
    "    price,\n",
    "    ROUND(AVG(price) OVER(), 2) AS avg_price,\n",
    "    ROUND(AVG(price) FILTER(WHERE price != (SELECT max_price FROM max_prices)) OVER(), 2) AS avg_price_filtered\n",
    "FROM\n",
    "    products\n",
    "ORDER BY\n",
    "    price DESC,\n",
    "    product_id "
   ]
  },
  {
   "cell_type": "markdown",
   "id": "2592ba8a",
   "metadata": {},
   "source": [
    "Для каждой записи в таблице user_actions с помощью оконных функций и предложения FILTER посчитайте, сколько заказов сделал и сколько отменил каждый пользователь на момент совершения нового действия."
   ]
  },
  {
   "cell_type": "code",
   "execution_count": null,
   "id": "61cccf67",
   "metadata": {
    "vscode": {
     "languageId": "sql"
    }
   },
   "outputs": [],
   "source": [
    "WITH\n",
    "user_order_stats AS (\n",
    "    SELECT\n",
    "        user_id,\n",
    "        order_id,\n",
    "        action,\n",
    "        time,\n",
    "        COUNT(order_id) FILTER(WHERE action = 'create_order') OVER(PARTITION BY user_id ORDER BY time ROWS BETWEEN UNBOUNDED PRECEDING AND CURRENT ROW) AS created_orders,\n",
    "        COUNT(order_id) FILTER(WHERE action = 'cancel_order') OVER(PARTITION BY user_id ORDER BY time ROWS BETWEEN UNBOUNDED PRECEDING AND CURRENT ROW) AS canceled_orders\n",
    "    FROM\n",
    "        user_actions\n",
    ")\n",
    "SELECT\n",
    "    user_id,\n",
    "    order_id,\n",
    "    action, \n",
    "    time, \n",
    "    created_orders,\n",
    "    canceled_orders,\n",
    "    CASE \n",
    "        WHEN created_orders > 0 THEN ROUND(canceled_orders::numeric / created_orders, 2)\n",
    "        ELSE NULL\n",
    "    END AS cancel_rate\n",
    "FROM\n",
    "    user_order_stats\n",
    "ORDER BY\n",
    "    user_id,\n",
    "    order_id,\n",
    "    time\n",
    "LIMIT\n",
    "    1000"
   ]
  },
  {
   "cell_type": "markdown",
   "id": "b6d50611",
   "metadata": {},
   "source": [
    "Из таблицы courier_actions отберите топ 10% курьеров по количеству доставленных за всё время заказов. Выведите id курьеров, количество доставленных заказов и порядковый номер курьера в соответствии с числом доставленных заказов.\n",
    "У курьера, доставившего наибольшее число заказов, порядковый номер должен быть равен 1, а у курьера с наименьшим числом заказов — числу, равному десяти процентам от общего количества курьеров в таблице courier_actions."
   ]
  },
  {
   "cell_type": "code",
   "execution_count": null,
   "id": "1789cf0f",
   "metadata": {
    "vscode": {
     "languageId": "sql"
    }
   },
   "outputs": [],
   "source": [
    "WITH\n",
    "courier_count AS (\n",
    "    SELECT\n",
    "        COUNT(DISTINCT courier_id) AS total_couriers\n",
    "    FROM courier_actions\n",
    "),\n",
    "courier_stats AS (\n",
    "    SELECT \n",
    "        courier_id,\n",
    "        COUNT(DISTINCT (order_id)) AS orders_count,\n",
    "        ROW_NUMBER() OVER(ORDER BY COUNT(DISTINCT(order_id)) DESC, courier_id) AS courier_rank,\n",
    "        (SELECT total_couriers FROM courier_count) AS total,\n",
    "        CEIL((SELECT total_couriers FROM courier_count) * 0.1) AS top_10_percent\n",
    "    FROM\n",
    "        courier_actions\n",
    "    WHERE\n",
    "        action = 'deliver_order'\n",
    "    GROUP BY\n",
    "        courier_id\n",
    ")\n",
    "SELECT\n",
    "    courier_id,\n",
    "    orders_count,\n",
    "    courier_rank\n",
    "FROM\n",
    "    courier_stats\n",
    "WHERE\n",
    "    courier_rank <= top_10_percent\n",
    "ORDER BY\n",
    "    courier_rank"
   ]
  },
  {
   "cell_type": "markdown",
   "id": "da410e72",
   "metadata": {},
   "source": [
    "С помощью оконной функции отберите из таблицы courier_actions всех курьеров, которые работают в нашей компании 10 и более дней. Также рассчитайте, сколько заказов они уже успели доставить за всё время работы."
   ]
  },
  {
   "cell_type": "code",
   "execution_count": null,
   "id": "7a19425f",
   "metadata": {
    "vscode": {
     "languageId": "sql"
    }
   },
   "outputs": [],
   "source": [
    "WITH\n",
    "courier_stats AS (\n",
    "    SELECT \n",
    "        courier_id,\n",
    "        COUNT(DISTINCT(order_id)) FILTER (WHERE action = 'deliver_order') AS delivered_orders,\n",
    "        MAX(time) AS max_time,\n",
    "        MIN(time) AS min_time\n",
    "    FROM\n",
    "        courier_actions \n",
    "    GROUP BY\n",
    "        courier_id\n",
    "),\n",
    "courier_employment AS (\n",
    "    SELECT\n",
    "        courier_id,\n",
    "        delivered_orders,\n",
    "        DATE_PART('days', MAX(max_time) OVER() - min_time)::integer AS days_employed\n",
    "    FROM\n",
    "        courier_stats\n",
    ")\n",
    "SELECT\n",
    "    courier_id, \n",
    "    days_employed, \n",
    "    delivered_orders\n",
    "FROM\n",
    "    courier_employment\n",
    "WHERE\n",
    "    days_employed >= 10\n",
    "ORDER BY\n",
    "    days_employed DESC,\n",
    "    courier_id"
   ]
  },
  {
   "cell_type": "markdown",
   "id": "e78ae737",
   "metadata": {},
   "source": [
    "На основе информации в таблицах orders и products рассчитайте стоимость каждого заказа, ежедневную выручку сервиса и долю стоимости каждого заказа в ежедневной выручке, выраженную в процентах."
   ]
  },
  {
   "cell_type": "code",
   "execution_count": null,
   "id": "030197e1",
   "metadata": {
    "vscode": {
     "languageId": "sql"
    }
   },
   "outputs": [],
   "source": [
    "WITH\n",
    "canceled_orders AS (\n",
    "    SELECT\n",
    "        order_id\n",
    "    FROM\n",
    "        user_actions\n",
    "    WHERE\n",
    "        action = 'cancel_order'\n",
    "),\n",
    "order_products AS (\n",
    "    SELECT \n",
    "        order_id,\n",
    "        creation_time AS creation_time,\n",
    "        UNNEST(product_ids) AS product_id\n",
    "    FROM\n",
    "        orders\n",
    "    WHERE\n",
    "        order_id NOT IN (SELECT order_id FROM canceled_orders)\n",
    "),\n",
    "order_prices AS (\n",
    "    SELECT\n",
    "        O.order_id AS order_id,\n",
    "        O.creation_time AS creation_time,\n",
    "        SUM(P.price) AS order_price\n",
    "    FROM\n",
    "        order_products AS O\n",
    "        LEFT JOIN products AS P\n",
    "        ON O.product_id = P.product_id\n",
    "    GROUP BY\n",
    "        O.order_id,\n",
    "        O.creation_time\n",
    "),\n",
    "daily_revenues AS (\n",
    "    SELECT\n",
    "        DATE(creation_time) AS order_date,\n",
    "        SUM(order_price) AS daily_revenue\n",
    "    FROM\n",
    "        order_price\n",
    "    GROUP BY\n",
    "        DATE(creation_time)\n",
    ")\n",
    "SELECT\n",
    "    OP.order_id AS order_id,\n",
    "    OP.creation_time AS creation_time,\n",
    "    OP.order_price AS order_price,\n",
    "    DR.daily_revenue AS daily_revenue,\n",
    "    ROUND((100 * OP.order_price::DECIMAL / DR.daily_revenue), 3) AS percentage_of_daily_revenue\n",
    "FROM\n",
    "    order_price OP\n",
    "    JOIN daily_revenues DR\n",
    "    ON DATE(OP.creation_time) = DR.order_date\n",
    "ORDER BY\n",
    "    DATE(OP.creation_time) DESC,\n",
    "    percentage_of_daily_revenue DESC,\n",
    "    OP.order_id"
   ]
  },
  {
   "cell_type": "markdown",
   "id": "8b23671f",
   "metadata": {},
   "source": [
    "На основе информации в таблицах orders и products рассчитайте ежедневную выручку сервиса и отразите её в колонке daily_revenue. Затем с помощью оконных функций и функций смещения посчитайте ежедневный прирост выручки. Прирост выручки отразите как в абсолютных значениях, так и в % относительно предыдущего дня. Колонку с абсолютным приростом назовите revenue_growth_abs, а колонку с относительным — revenue_growth_percentage."
   ]
  },
  {
   "cell_type": "code",
   "execution_count": null,
   "id": "a2296d41",
   "metadata": {
    "vscode": {
     "languageId": "sql"
    }
   },
   "outputs": [],
   "source": [
    "WITH \n",
    "canceled_orders AS (\n",
    "    SELECT \n",
    "        order_id\n",
    "    FROM \n",
    "        user_actions\n",
    "    WHERE \n",
    "        action = 'cancel_order'\n",
    "),\n",
    "order_products AS (\n",
    "    SELECT \n",
    "        order_id,\n",
    "        creation_time,\n",
    "        UNNEST(product_ids) AS product_id\n",
    "    FROM \n",
    "        orders\n",
    "    WHERE \n",
    "        order_id NOT IN (SELECT order_id FROM canceled_orders)\n",
    "),\n",
    "daily_revenues AS (\n",
    "    SELECT \n",
    "        DATE(O.creation_time) AS date,\n",
    "        SUM(P.price) AS daily_revenue\n",
    "    FROM \n",
    "        order_products AS O\n",
    "        LEFT JOIN products AS P\n",
    "        ON O.product_id = P.product_id\n",
    "    GROUP BY \n",
    "        DATE(creation_time)\n",
    ")\n",
    "SELECT \n",
    "    date,\n",
    "    ROUND(daily_revenue, 1) AS daily_revenue,\n",
    "    ROUND(COALESCE(daily_revenue - LAG(daily_revenue, 1) OVER (ORDER BY date), 0), 1) AS revenue_growth_abs,\n",
    "    ROUND(COALESCE(ROUND((daily_revenue - LAG(daily_revenue, 1) OVER (ORDER BY date))::DECIMAL / NULLIF(LAG(daily_revenue, 1) OVER (ORDER BY date), 0) * 100, 2), 0), 1) AS revenue_growth_percentage\n",
    "FROM \n",
    "    daily_revenues\n",
    "ORDER BY \n",
    "    date"
   ]
  },
  {
   "cell_type": "markdown",
   "id": "8f804582",
   "metadata": {},
   "source": [
    "С помощью оконной функции рассчитайте медианную стоимость всех заказов из таблицы orders, оформленных в нашем сервисе. В качестве результата выведите одно число. Колонку с ним назовите median_price. Отменённые заказы не учитывайте."
   ]
  },
  {
   "cell_type": "code",
   "execution_count": null,
   "id": "2536bc75",
   "metadata": {
    "vscode": {
     "languageId": "sql"
    }
   },
   "outputs": [],
   "source": [
    "WITH\n",
    "canceled_orders AS (\n",
    "    SELECT \n",
    "        order_id\n",
    "    FROM\n",
    "        user_actions\n",
    "    WHERE\n",
    "        action = 'cancel_order'\n",
    "),\n",
    "order_products AS (\n",
    "    SELECT\n",
    "        order_id,\n",
    "        UNNEST(product_ids) AS product_id\n",
    "    FROM\n",
    "        orders\n",
    "    WHERE\n",
    "        order_id NOT IN (SELECT order_id FROM canceled_orders)\n",
    "),\n",
    "order_prices AS (\n",
    "    SELECT\n",
    "        OP.order_id AS order_id,\n",
    "        SUM(P.price) AS order_price\n",
    "    FROM\n",
    "        order_products AS OP\n",
    "        LEFT JOIN products AS P\n",
    "        ON OP.product_id = P.product_id\n",
    "    GROUP BY\n",
    "        OP.order_id\n",
    "),\n",
    "ranked_orders AS (\n",
    "    SELECT \n",
    "        order_price,\n",
    "        ROW_NUMBER() OVER(ORDER BY order_price) AS row_number,\n",
    "        COUNT(*) OVER() AS total_rows\n",
    "    FROM\n",
    "    order_prices    \n",
    ")\n",
    "SELECT\n",
    "    AVG(order_price) AS median_price\n",
    "FROM \n",
    "    ranked_orders\n",
    "WHERE\n",
    "    row_number BETWEEN total_rows / 2.0 AND total_rows / 2.0 + 1 "
   ]
  }
 ],
 "metadata": {
  "language_info": {
   "name": "python"
  }
 },
 "nbformat": 4,
 "nbformat_minor": 5
}
