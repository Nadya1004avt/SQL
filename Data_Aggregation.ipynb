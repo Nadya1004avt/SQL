{
 "cells": [
  {
   "cell_type": "markdown",
   "id": "4ab1fb4b",
   "metadata": {},
   "source": [
    "**Агрегация данных**"
   ]
  },
  {
   "cell_type": "markdown",
   "id": "a53027e3",
   "metadata": {},
   "source": [
    "Выведите id всех уникальных пользователей из таблицы user_actions. Результат отсортируйте по возрастанию id."
   ]
  },
  {
   "cell_type": "code",
   "execution_count": null,
   "id": "5f2dc62f",
   "metadata": {
    "vscode": {
     "languageId": "sql"
    }
   },
   "outputs": [],
   "source": [
    "SELECT \n",
    "\tDISTINCT user_id\n",
    "FROM   \n",
    "\tuser_actions\n",
    "ORDER BY \n",
    "\tuser_id"
   ]
  },
  {
   "cell_type": "markdown",
   "id": "032e24fa",
   "metadata": {},
   "source": [
    "Примените DISTINCT сразу к двум колонкам таблицы courier_actions и отберите уникальные пары значений courier_id и order_id.\n",
    "Результат отсортируйте сначала по возрастанию id курьера, затем по возрастанию id заказа."
   ]
  },
  {
   "cell_type": "code",
   "execution_count": null,
   "id": "55300ee5",
   "metadata": {
    "vscode": {
     "languageId": "sql"
    }
   },
   "outputs": [],
   "source": [
    "SELECT \n",
    "\tDISTINCT courier_id,\n",
    "\torder_id\n",
    "FROM   \n",
    "\tcourier_actions\n",
    "ORDER BY \n",
    "\tcourier_id, \n",
    "\torder_id"
   ]
  },
  {
   "cell_type": "markdown",
   "id": "6f6747b7",
   "metadata": {},
   "source": [
    "Посчитайте максимальную и минимальную цены товаров в таблице products. Поля назовите соответственно max_price, min_price."
   ]
  },
  {
   "cell_type": "code",
   "execution_count": null,
   "id": "fbc0a45e",
   "metadata": {
    "vscode": {
     "languageId": "sql"
    }
   },
   "outputs": [],
   "source": [
    "SELECT \n",
    "\tMAX(price) AS max_price,\n",
    "    MIN(price) AS min_price\n",
    "FROM\n",
    "    products"
   ]
  },
  {
   "cell_type": "markdown",
   "id": "4ff0e503",
   "metadata": {},
   "source": [
    "Посчитайте в одном запросе количество всех записей в таблице и количество только тех записей, для которых в колонке birth_date указана дата рождения."
   ]
  },
  {
   "cell_type": "code",
   "execution_count": null,
   "id": "6f35befa",
   "metadata": {
    "vscode": {
     "languageId": "sql"
    }
   },
   "outputs": [],
   "source": [
    "SELECT \n",
    "\tCOUNT(birth_date) AS dates_not_null,\n",
    "    COUNT(*) AS dates\n",
    "FROM   \n",
    "\tusers"
   ]
  },
  {
   "cell_type": "markdown",
   "id": "2b59eefb",
   "metadata": {},
   "source": [
    "Посчитайте количество всех значений в колонке user_id в таблице user_actions, а также количество уникальных значений в этой колонке (т.е. количество уникальных пользователей сервиса)."
   ]
  },
  {
   "cell_type": "code",
   "execution_count": null,
   "id": "f344aec4",
   "metadata": {
    "vscode": {
     "languageId": "sql"
    }
   },
   "outputs": [],
   "source": [
    "SELECT \n",
    "\tCOUNT(user_id) AS users,\n",
    "    COUNT(DISTINCT(user_id)) AS unique_users\n",
    "FROM\n",
    "\tuser_actions"
   ]
  },
  {
   "cell_type": "markdown",
   "id": "04fdf89e",
   "metadata": {},
   "source": [
    "Посчитайте количество курьеров женского пола в таблице couriers. Полученный столбец с одним значением назовите couriers."
   ]
  },
  {
   "cell_type": "code",
   "execution_count": null,
   "id": "ac753db1",
   "metadata": {
    "vscode": {
     "languageId": "sql"
    }
   },
   "outputs": [],
   "source": [
    "SELECT \n",
    "\tCOUNT(DISTINCT(courier_id)) AS couriers\n",
    "FROM   \n",
    "\tcouriers\n",
    "WHERE  \n",
    "\tsex = 'female'"
   ]
  },
  {
   "cell_type": "markdown",
   "id": "598ac7e1",
   "metadata": {},
   "source": [
    "Рассчитайте время, когда были совершены первая и последняя доставки заказов в таблице courier_actions."
   ]
  },
  {
   "cell_type": "code",
   "execution_count": null,
   "id": "26b56963",
   "metadata": {
    "vscode": {
     "languageId": "sql"
    }
   },
   "outputs": [],
   "source": [
    "SELECT \n",
    "\tMIN(time) AS first_delivery,\n",
    "    MAX(time) AS last_delivery\n",
    "FROM   \n",
    "\tcourier_actions\n",
    "WHERE  \n",
    "\taction = 'deliver_order'"
   ]
  },
  {
   "cell_type": "markdown",
   "id": "3f34c346",
   "metadata": {},
   "source": [
    "Представьте, что один из пользователей сервиса сделал заказ, в который вошли одна пачка сухариков, одна пачка чипсов и один энергетический напиток. Посчитайте стоимость такого заказа."
   ]
  },
  {
   "cell_type": "code",
   "execution_count": null,
   "id": "580d3f81",
   "metadata": {
    "vscode": {
     "languageId": "sql"
    }
   },
   "outputs": [],
   "source": [
    "SELECT \n",
    "\tSUM(price) AS order_price\n",
    "FROM   \n",
    "\tproducts\n",
    "WHERE  \n",
    "\tname IN ('сухарики', 'чипсы', 'энергетический напиток')"
   ]
  },
  {
   "cell_type": "markdown",
   "id": "3577f47b",
   "metadata": {},
   "source": [
    "Посчитайте количество заказов в таблице orders с девятью и более товарами. Для этого воспользуйтесь функцией array_length, отфильтруйте данные по количеству товаров в заказе и проведите агрегацию. Полученный столбец назовите orders."
   ]
  },
  {
   "cell_type": "code",
   "execution_count": null,
   "id": "d47c90f8",
   "metadata": {
    "vscode": {
     "languageId": "sql"
    }
   },
   "outputs": [],
   "source": [
    "SELECT \n",
    "\tCOUNT(*) as orders\n",
    "FROM   \n",
    "\torders\n",
    "WHERE  \n",
    "\tARRAY_LENGTH(product_ids, 1) > 8"
   ]
  },
  {
   "cell_type": "markdown",
   "id": "2038b8f4",
   "metadata": {},
   "source": [
    "С помощью функции AGE и агрегирующей функции рассчитайте возраст самого молодого курьера мужского пола в таблице couriers.\n",
    "Возраст выразите количеством лет, месяцев и дней (как в примере выше), переведя его в тип VARCHAR. "
   ]
  },
  {
   "cell_type": "code",
   "execution_count": null,
   "id": "28fa56df",
   "metadata": {
    "vscode": {
     "languageId": "sql"
    }
   },
   "outputs": [],
   "source": [
    "SELECT\n",
    "\tAGE(MAX(birth_date))::VARCHAR AS min_age\n",
    "FROM   \n",
    "\tcouriers\n",
    "WHERE  \n",
    "\tsex = 'male'"
   ]
  },
  {
   "cell_type": "markdown",
   "id": "100a94db",
   "metadata": {},
   "source": [
    "Посчитайте стоимость заказа, в котором будут три пачки сухариков, две пачки чипсов и один энергетический напиток. Колонку с рассчитанной стоимостью заказа назовите order_price.\n",
    "Для расчётов используйте таблицу products."
   ]
  },
  {
   "cell_type": "code",
   "execution_count": null,
   "id": "00110539",
   "metadata": {
    "vscode": {
     "languageId": "sql"
    }
   },
   "outputs": [],
   "source": [
    "SELECT \n",
    "\tSUM(CASE\n",
    "\t\t\tWHEN name = 'сухарики' THEN price * 3\n",
    "            WHEN name = 'чипсы' THEN price * 2\n",
    "            WHEN name = 'энергетический напиток' THEN price\n",
    "            ELSE 0\n",
    "\t\tEND) AS order_price\n",
    "FROM   \n",
    "\tproducts\n",
    "WHERE  \n",
    "\tname IN ('сухарики', 'чипсы', 'энергетический напиток')"
   ]
  },
  {
   "cell_type": "markdown",
   "id": "0682db9c",
   "metadata": {},
   "source": [
    "Рассчитайте среднюю цену товаров в таблице products, в названиях которых присутствуют слова «чай» или «кофе». Любым известным способом исключите из расчёта товары, содержащие в названии «иван-чай» или «чайный гриб».\n",
    "Среднюю цену округлите до двух знаков после запятой. Столбец с полученным значением назовите avg_price."
   ]
  },
  {
   "cell_type": "code",
   "execution_count": null,
   "id": "48210887",
   "metadata": {
    "vscode": {
     "languageId": "sql"
    }
   },
   "outputs": [],
   "source": [
    "SELECT \n",
    "\tROUND(AVG(price), 2) AS avg_price\n",
    "FROM   \n",
    "\tproducts\n",
    "WHERE  \n",
    "\t(name LIKE '%чай%' OR name LIKE '%кофе%')\n",
    "\tAND name NOT LIKE '%иван-чай%'\n",
    "   \tAND name NOT LIKE '%гриб%'"
   ]
  },
  {
   "cell_type": "markdown",
   "id": "e68debbd",
   "metadata": {},
   "source": [
    "Воспользуйтесь функцией AGE и рассчитайте разницу в возрасте между самым старым и самым молодым пользователями мужского пола в таблице users. \n",
    "Разницу в возрасте выразите количеством лет, месяцев и дней, переведя её в тип VARCHAR. "
   ]
  },
  {
   "cell_type": "code",
   "execution_count": null,
   "id": "e6bd327b",
   "metadata": {
    "vscode": {
     "languageId": "sql"
    }
   },
   "outputs": [],
   "source": [
    "SELECT \n",
    "\tAGE(MAX(birth_date), MIN(birth_date))::VARCHAR AS age_diff\n",
    "FROM   \n",
    "\tusers\n",
    "WHERE  \n",
    "\tsex = 'male'"
   ]
  },
  {
   "cell_type": "markdown",
   "id": "d2a2a754",
   "metadata": {},
   "source": [
    "Рассчитайте среднее количество товаров в заказах из таблицы orders, которые пользователи оформляли по выходным дням (суббота и воскресенье) в течение всего времени работы сервиса.\n",
    "Полученное значение округлите до двух знаков после запятой. Колонку с ним назовите avg_order_size."
   ]
  },
  {
   "cell_type": "code",
   "execution_count": null,
   "id": "596b0f6a",
   "metadata": {
    "vscode": {
     "languageId": "sql"
    }
   },
   "outputs": [],
   "source": [
    "SELECT \n",
    "\tROUND(AVG(ARRAY_LRNGTH(product_ids, 1))::NUMERIC, 2) AS avg_order_size\n",
    "FROM   \n",
    "\torders\n",
    "WHERE  \n",
    "\tDATE_PART('dow', creation_time) IN (0, 6)"
   ]
  },
  {
   "cell_type": "markdown",
   "id": "68eb8df0",
   "metadata": {},
   "source": [
    "На основе данных в таблице user_actions посчитайте количество уникальных пользователей сервиса, количество уникальных заказов, поделите одно на другое и выясните, сколько заказов приходится на одного пользователя.\n",
    "В результирующей таблице отразите все три значения — поля назовите соответственно unique_users, unique_orders, orders_per_user.\n",
    "Показатель числа заказов на пользователя округлите до двух знаков после запятой."
   ]
  },
  {
   "cell_type": "code",
   "execution_count": null,
   "id": "f04587f8",
   "metadata": {
    "vscode": {
     "languageId": "sql"
    }
   },
   "outputs": [],
   "source": [
    "SELECT \n",
    "\tCOUNT(DISTINCT(user_id)) AS unique_users,\n",
    "    COUNT(DISTINCT(order_id)) AS unique_orders,\n",
    "    ROUND(COUNT(DISTINCT(order_id))::DECIMAL / COUNT(DISTINCT(user_id)), 2) AS orders_per_user\n",
    "FROM   \n",
    "\tuser_actions"
   ]
  },
  {
   "cell_type": "markdown",
   "id": "075137a4",
   "metadata": {},
   "source": [
    "Посчитайте, сколько пользователей никогда не отменяли свой заказ. Для этого из общего числа всех уникальных пользователей отнимите число уникальных пользователей, которые хотя бы раз отменяли заказ. Подумайте, какое условие необходимо указать в FILTER, чтобы получить корректный результат.\n",
    "Полученный столбец назовите users_count."
   ]
  },
  {
   "cell_type": "code",
   "execution_count": null,
   "id": "72a272bf",
   "metadata": {
    "vscode": {
     "languageId": "sql"
    }
   },
   "outputs": [],
   "source": [
    "SELECT \n",
    "\tCOUNT(DISTINCT(user_id)) - COUNT(DISTINCT(user_id)) FILTER (WHERE action = 'cancel_order') AS users_count\n",
    "FROM   \n",
    "\tuser_actions"
   ]
  },
  {
   "cell_type": "markdown",
   "id": "f403bd6d",
   "metadata": {},
   "source": [
    "Посчитайте общее количество заказов в таблице orders, количество заказов с пятью и более товарами и найдите долю заказов с пятью и более товарами в общем количестве заказов.\n",
    "В результирующей таблице отразите все три значения — поля назовите соответственно orders, large_orders, large_orders_share.\n",
    "Долю заказов с пятью и более товарами в общем количестве товаров округлите до двух знаков после запятой."
   ]
  },
  {
   "cell_type": "code",
   "execution_count": null,
   "id": "f67b4233",
   "metadata": {
    "vscode": {
     "languageId": "sql"
    }
   },
   "outputs": [],
   "source": [
    "SELECT COUNT(order_id) AS orders,\n",
    "       COUNT(order_id) FILTER (WHERE ARRAY_LENGTH(product_ids, 1) > 4) AS large_orders,\n",
    "       ROUND((COUNT(order_id) FILTER (WHERE ARRAY_LENGTH(product_ids, 1) > 4))::DECIMAL / COUNT(order_id), 2) AS large_orders_share\n",
    "FROM   \n",
    "\torders"
   ]
  }
 ],
 "metadata": {
  "language_info": {
   "name": "python"
  }
 },
 "nbformat": 4,
 "nbformat_minor": 5
}
