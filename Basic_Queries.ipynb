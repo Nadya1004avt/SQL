{
 "cells": [
  {
   "cell_type": "markdown",
   "id": "685e8529",
   "metadata": {},
   "source": [
    "**Базовые запросы SQL**"
   ]
  },
  {
   "cell_type": "markdown",
   "id": "e3f587b1",
   "metadata": {},
   "source": [
    "Выведите все записи из таблицы products."
   ]
  },
  {
   "cell_type": "code",
   "execution_count": null,
   "id": "f9e3aaa6",
   "metadata": {
    "vscode": {
     "languageId": "sql"
    }
   },
   "outputs": [],
   "source": [
    "SELECT *\n",
    "FROM   \n",
    "\tproducts"
   ]
  },
  {
   "cell_type": "markdown",
   "id": "0079c0d5",
   "metadata": {},
   "source": [
    "Выведите все записи из таблицы products, отсортировав их по наименованиям товаров в алфавитном порядке, т.е. по возрастанию. Для сортировки используйте оператор ORDER BY."
   ]
  },
  {
   "cell_type": "code",
   "execution_count": null,
   "id": "3645cc0e",
   "metadata": {
    "vscode": {
     "languageId": "sql"
    }
   },
   "outputs": [],
   "source": [
    "SELECT *\n",
    "FROM   \n",
    "\tproducts\n",
    "ORDER BY \n",
    "\tname ASC"
   ]
  },
  {
   "cell_type": "markdown",
   "id": "1de30d51",
   "metadata": {},
   "source": [
    "Отсортируйте таблицу courier_actions сначала по колонке courier_id по возрастанию id курьера, потом по колонке action (снова по возрастанию), а затем по колонке time, но уже по убыванию — от самого последнего действия к самому первому. Не забудьте включить в результат колонку order_id. \n",
    "Добавьте в запрос оператор LIMIT и выведите только первые 1000 строк результирующей таблицы."
   ]
  },
  {
   "cell_type": "code",
   "execution_count": null,
   "id": "9e894414",
   "metadata": {
    "vscode": {
     "languageId": "sql"
    }
   },
   "outputs": [],
   "source": [
    "SELECT *\n",
    "FROM   \n",
    "\tcourier_actions\n",
    "ORDER BY \n",
    "\tcourier_id ASC, \n",
    "\taction ASC, \n",
    "\ttime DESC \n",
    "LIMIT \n",
    "\t1000"
   ]
  },
  {
   "cell_type": "markdown",
   "id": "41f1d7b2",
   "metadata": {},
   "source": [
    "Используя операторы SELECT, FROM, ORDER BY и LIMIT, определите 5 самых дорогих товаров в таблице products, которые доставляет наш сервис. Выведите их наименования и цену."
   ]
  },
  {
   "cell_type": "code",
   "execution_count": null,
   "id": "109eefa3",
   "metadata": {
    "vscode": {
     "languageId": "sql"
    }
   },
   "outputs": [],
   "source": [
    "SELECT \n",
    "\tname,\n",
    "    price\n",
    "FROM   \n",
    "\tproducts\n",
    "ORDER BY \n",
    "\tprice DESC\n",
    "LIMIT\n",
    "\t5"
   ]
  },
  {
   "cell_type": "markdown",
   "id": "e85250ed",
   "metadata": {},
   "source": [
    "Как в прошлом задании определите 5 самых дорогих товаров в таблице products. Но теперь колонки name и price переименуйте соответственно в product_name и product_price."
   ]
  },
  {
   "cell_type": "code",
   "execution_count": null,
   "id": "a6267ade",
   "metadata": {
    "vscode": {
     "languageId": "sql"
    }
   },
   "outputs": [],
   "source": [
    "SELECT \n",
    "\tname AS product_name,\n",
    "    price AS product_price\n",
    "FROM   \n",
    "\tproducts\n",
    "ORDER BY \n",
    "\tprice DESC \n",
    "LIMIT \n",
    "\t5"
   ]
  },
  {
   "cell_type": "markdown",
   "id": "a3c0fc94",
   "metadata": {},
   "source": [
    "Используя операторы SELECT, FROM, ORDER BY и LIMIT, а также функцию LENGTH, определите товар с самым длинным названием в таблице products. Выведите его наименование, длину наименования в символах, а также цену этого товара. "
   ]
  },
  {
   "cell_type": "code",
   "execution_count": null,
   "id": "fb26c38f",
   "metadata": {
    "vscode": {
     "languageId": "sql"
    }
   },
   "outputs": [],
   "source": [
    "SELECT \n",
    "\tname,\n",
    "    price,\n",
    "    LENGTH(name) AS name_length\n",
    "FROM   \n",
    "\tproducts\n",
    "ORDER BY \n",
    "\tname_length DESC \n",
    "LIMIT\n",
    "\t1"
   ]
  },
  {
   "cell_type": "markdown",
   "id": "06a97dd3",
   "metadata": {},
   "source": [
    "Примените последовательно функции UPPER и SPLIT_PART к колонке name и преобразуйте наименования товаров в таблице products так, чтобы от названий осталось только первое слово, записанное в верхнем регистре. Колонку с новым названием, состоящим из первого слова, назовите first_word."
   ]
  },
  {
   "cell_type": "code",
   "execution_count": null,
   "id": "7f70e645",
   "metadata": {
    "vscode": {
     "languageId": "sql"
    }
   },
   "outputs": [],
   "source": [
    "SELECT \n",
    "\tname,\n",
    "    UPPER(SPLIT_PART(name, ' ', 1)) AS first_word,\n",
    "\tprice\n",
    "FROM   \n",
    "\tproducts\n",
    "ORDER BY \n",
    "\tname ASC"
   ]
  },
  {
   "cell_type": "markdown",
   "id": "bcebc0b7",
   "metadata": {},
   "source": [
    "Измените тип колонки price из таблицы products на VARCHAR. Выведите колонки с наименованием товаров, ценой в исходном формате и ценой в формате VARCHAR. Новую колонку с ценой в новом формате назовите price_char.\n",
    "Результат отсортируйте по возрастанию исходного наименования товара в колонке name. Количество выводимых записей не ограничивайте."
   ]
  },
  {
   "cell_type": "code",
   "execution_count": null,
   "id": "e0bd5f89",
   "metadata": {
    "vscode": {
     "languageId": "sql"
    }
   },
   "outputs": [],
   "source": [
    "SELECT \n",
    "\tname,\n",
    "    price,\n",
    "    CAST(price AS VARCHAR) AS price_char\n",
    "FROM  \n",
    "\tproducts\n",
    "ORDER BY \n",
    "\tname ASC"
   ]
  },
  {
   "cell_type": "markdown",
   "id": "9e93fd31",
   "metadata": {},
   "source": [
    "Для первых 200 записей из таблицы orders выведите информацию в следующем виде (обратите внимание на пробелы): \n",
    "Заказ № [id заказа] создан [дата]"
   ]
  },
  {
   "cell_type": "code",
   "execution_count": null,
   "id": "35215c1f",
   "metadata": {
    "vscode": {
     "languageId": "sql"
    }
   },
   "outputs": [],
   "source": [
    "SELECT \n",
    "\tCONCAT('Заказ № ', order_id, ' создан ', creation_time::DATE) AS order_info\n",
    "FROM   \n",
    "\torders\n",
    "LIMIT\n",
    "\t200"
   ]
  },
  {
   "cell_type": "markdown",
   "id": "53532c76",
   "metadata": {},
   "source": [
    "Выведите id всех курьеров и их годы рождения из таблицы couriers.\n",
    "Год рождения необходимо получить из колонки birth_date. Новую колонку с годом назовите birth_year. Результат отсортируйте сначала по убыванию года рождения курьера (т.е. от самых младших к самым старшим), затем по возрастанию id курьера."
   ]
  },
  {
   "cell_type": "code",
   "execution_count": null,
   "id": "73557728",
   "metadata": {
    "vscode": {
     "languageId": "sql"
    }
   },
   "outputs": [],
   "source": [
    "SELECT \n",
    "\tcourier_id,\n",
    "    DATE_PART('year', birth_date) AS birth_year\n",
    "FROM   \n",
    "\tcouriers\n",
    "ORDER BY \n",
    "\tbirth_year DESC, \n",
    "\tcourier_id ASC"
   ]
  },
  {
   "cell_type": "markdown",
   "id": "1d106b9f",
   "metadata": {},
   "source": [
    "Как и в предыдущем задании, снова выведите id всех курьеров и их годы рождения, только теперь к извлеченному году примените функцию COALESCE. Укажите параметры функции так, чтобы вместо NULL значений в результат попадало текстовое значение unknown. Названия полей оставьте прежними.\n",
    "Отсортируйте итоговую таблицу сначала по убыванию года рождения курьера, затем по возрастанию id курьера."
   ]
  },
  {
   "cell_type": "code",
   "execution_count": null,
   "id": "7a0db4f2",
   "metadata": {
    "vscode": {
     "languageId": "sql"
    }
   },
   "outputs": [],
   "source": [
    "SELECT \n",
    "\tcourier_id,\n",
    "    COALESCE(DATE_PART('year', birth_date)::VARCHAR, 'unknown') AS birth_year\n",
    "FROM   \n",
    "\tcouriers\n",
    "ORDER BY \n",
    "\tbirth_year DESC, \n",
    "\tcourier_id"
   ]
  },
  {
   "cell_type": "markdown",
   "id": "91825ac0",
   "metadata": {},
   "source": [
    "Давайте представим, что по какой-то необъяснимой причине мы вдруг решили в одночасье повысить цену всех товаров в таблице products на 5%.\n",
    "Выведите id и наименования всех товаров, их старую и новую цену. Колонку со старой ценой назовите old_price, а колонку с новой — new_price.\n",
    "Результат отсортируйте сначала по убыванию новой цены, затем по возрастанию id товара."
   ]
  },
  {
   "cell_type": "code",
   "execution_count": null,
   "id": "ff7dbefd",
   "metadata": {
    "vscode": {
     "languageId": "sql"
    }
   },
   "outputs": [],
   "source": [
    "SELECT \n",
    "\tproduct_id,\n",
    "    name,\n",
    "    price AS old_price,\n",
    "    price * 1.05 AS new_price\n",
    "FROM   \n",
    "\tproducts\n",
    "ORDER BY \n",
    "\tnew_price DESC,\n",
    "\tproduct_id"
   ]
  },
  {
   "cell_type": "markdown",
   "id": "ff6d01d0",
   "metadata": {},
   "source": [
    "Вновь, как и в прошлом задании, повысьте цену всех товаров на 5%, только теперь к колонке с новой ценой примените функцию ROUND. Выведите id и наименования товаров, их старую цену, а также новую цену с округлением. Новую цену округлите до одного знака после запятой, но тип данных не меняйте.\n",
    "Результат отсортируйте сначала по убыванию новой цены, затем по возрастанию id товара."
   ]
  },
  {
   "cell_type": "code",
   "execution_count": null,
   "id": "a9e8bf20",
   "metadata": {
    "vscode": {
     "languageId": "sql"
    }
   },
   "outputs": [],
   "source": [
    "SELECT \n",
    "\tproduct_id,\n",
    "    name,\n",
    "    price AS old_price,\n",
    "    ROuND(price * 1.05, 1) AS new_price\n",
    "FROM   \n",
    "\tproducts\n",
    "ORDER BY \n",
    "\tnew_price DESC,\n",
    "\tproduct_id"
   ]
  },
  {
   "cell_type": "markdown",
   "id": "7ece80e4",
   "metadata": {},
   "source": [
    "Повысьте цену на 5% только на те товары, цена которых превышает 100 рублей. Цену остальных товаров оставьте без изменений. Также не повышайте цену на икру, которая и так стоит 800 рублей. Выведите id и наименования всех товаров, их старую и новую цену. Цену округлять не нужно.\n",
    "Результат отсортируйте сначала по убыванию новой цены, затем по возрастанию id товара."
   ]
  },
  {
   "cell_type": "code",
   "execution_count": null,
   "id": "08b7302f",
   "metadata": {
    "vscode": {
     "languageId": "sql"
    }
   },
   "outputs": [],
   "source": [
    "SELECT \n",
    "\tproduct_id,\n",
    "    name,\n",
    "    price AS old_price,\n",
    "    CASE\n",
    "\t\tWHEN price > 100 AND NOT (name = 'икра' AND price = 800) THEN price * 1.05\n",
    "    \tELSE price \n",
    "\tEND AS new_price\n",
    "FROM   \n",
    "\tproducts\n",
    "ORDER BY \n",
    "\tnew_price DESC,\n",
    "\tproduct_id ASC"
   ]
  },
  {
   "cell_type": "markdown",
   "id": "dbc39db0",
   "metadata": {},
   "source": [
    "Вычислите НДС каждого товара в таблице products и рассчитайте цену без учёта НДС. Выведите всю информацию о товарах, включая сумму налога и цену без его учёта. Колонки с суммой налога и ценой без НДС назовите соответственно tax и price_before_tax. Округлите значения в этих колонках до двух знаков после запятой.\n",
    "Результат отсортируйте сначала по убыванию цены товара без учёта НДС, затем по возрастанию id товара."
   ]
  },
  {
   "cell_type": "code",
   "execution_count": null,
   "id": "d28dacea",
   "metadata": {
    "vscode": {
     "languageId": "sql"
    }
   },
   "outputs": [],
   "source": [
    "SELECT \n",
    "\tproduct_id,\n",
    "    name,\n",
    "\tprice,\n",
    "    ROUND(((price / 120) * 20), 2) AS tax,\n",
    "    ROUND(price - ((price / 120) * 20), 2) AS price_before_tax\n",
    "FROM  \n",
    "\tproducts\n",
    "ORDER BY \n",
    "\tprice_before_tax DESC,\n",
    "\tproduct_id"
   ]
  }
 ],
 "metadata": {
  "language_info": {
   "name": "python"
  }
 },
 "nbformat": 4,
 "nbformat_minor": 5
}
