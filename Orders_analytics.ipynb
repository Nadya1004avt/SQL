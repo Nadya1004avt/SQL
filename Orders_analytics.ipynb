{
 "cells": [
  {
   "cell_type": "markdown",
   "id": "c555d408",
   "metadata": {},
   "source": [
    "**Подсчет метрик и аналитика**"
   ]
  },
  {
   "cell_type": "markdown",
   "id": "a17f0df8",
   "metadata": {},
   "source": [
    "Вычисленние метрик (DAU, WAU, MAU, CR, OPU)"
   ]
  },
  {
   "cell_type": "markdown",
   "id": "d51fd5f2",
   "metadata": {},
   "source": [
    "Ссылка на дашборд\n",
    "\n",
    "https://redash.public.karpov.courses/dashboards/6875-analytics---main-metrics"
   ]
  },
  {
   "cell_type": "code",
   "execution_count": 5,
   "id": "06c48212",
   "metadata": {},
   "outputs": [],
   "source": [
    "import pandas as pd\n",
    "from PIL import Image\n",
    "import matplotlib.pyplot as plt "
   ]
  },
  {
   "cell_type": "markdown",
   "id": "d7667020",
   "metadata": {},
   "source": [
    "Подсчет метрики DAU (Daily Active Users). Метрика показывает количество уникальных пользователей, взаимодействующих с продуктом за определенный день. "
   ]
  },
  {
   "cell_type": "code",
   "execution_count": null,
   "id": "37dae593",
   "metadata": {
    "vscode": {
     "languageId": "sql"
    }
   },
   "outputs": [],
   "source": [
    "SELECT\n",
    "    time::date AS date,\n",
    "    COUNT(DISTINCT(user_id)) AS DAU\n",
    "FROM\n",
    "    user_actions\n",
    "GROUP BY\n",
    "    date\n",
    "ORDER BY\n",
    "    date    "
   ]
  },
  {
   "cell_type": "code",
   "execution_count": 12,
   "id": "3502a92c",
   "metadata": {},
   "outputs": [
    {
     "name": "stdout",
     "output_type": "stream",
     "text": [
      "        date   dau\n",
      "0   24/08/22   134\n",
      "1   25/08/22   848\n",
      "2   26/08/22  1183\n",
      "3   27/08/22  1604\n",
      "4   28/08/22  2145\n",
      "5   29/08/22  2289\n",
      "6   30/08/22  2340\n",
      "7   31/08/22  2536\n",
      "8   01/09/22  2816\n",
      "9   02/09/22  3547\n",
      "10  03/09/22  3907\n",
      "11  04/09/22  4236\n",
      "12  05/09/22  3480\n",
      "13  06/09/22  2800\n",
      "14  07/09/22  3640\n",
      "15  08/09/22  4029\n"
     ]
    }
   ],
   "source": [
    "file_path = ('data/DAU_users_2025_05_19.csv')\n",
    "df = pd.read_csv(file_path)\n",
    "print(df)"
   ]
  },
  {
   "cell_type": "markdown",
   "id": "74c468ce",
   "metadata": {},
   "source": [
    "![Image](https://github.com/Nadya1004avt/SQL/blob/main/charts/DAU.png)"
   ]
  },
  {
   "cell_type": "markdown",
   "id": "2e5939b0",
   "metadata": {},
   "source": [
    "Подсчет метрики WAU (Weekly Active Users). Метрика показывает количество уникальных пользователей, взаимодействующих с продуктом в течение недели. "
   ]
  },
  {
   "cell_type": "code",
   "execution_count": null,
   "id": "d6f66468",
   "metadata": {
    "vscode": {
     "languageId": "sql"
    }
   },
   "outputs": [],
   "source": [
    "SELECT\n",
    "    date_trunc('week', time) AS week,\n",
    "    COUNT(DISTINCT(user_id)) AS WAU\n",
    "FROM\n",
    "    user_actions\n",
    "GROUP BY\n",
    "    week\n",
    "ORDER BY\n",
    "    week"
   ]
  },
  {
   "cell_type": "markdown",
   "id": "62c7a364",
   "metadata": {},
   "source": [
    "![Image](https://github.com/Nadya1004avt/SQL/blob/main/charts/WAU.png)"
   ]
  },
  {
   "cell_type": "code",
   "execution_count": 17,
   "id": "a74dac2b",
   "metadata": {
    "vscode": {
     "languageId": "sql"
    }
   },
   "outputs": [
    {
     "name": "stdout",
     "output_type": "stream",
     "text": [
      "             week    wau\n",
      "0  22/08/22 00:00   4692\n",
      "1  29/08/22 00:00  14610\n",
      "2  05/09/22 00:00  11612\n"
     ]
    }
   ],
   "source": [
    "file_path1 = ('data/WAU_users_2025_05_19.csv')\n",
    "df1 = pd.read_csv(file_path1)\n",
    "print(df1)"
   ]
  },
  {
   "cell_type": "markdown",
   "id": "e7c8cf29",
   "metadata": {},
   "source": [
    "Подсчет метрики MAU (Monthly Active Users). Метрика показывает количество уникальных пользователей, взаимодействующих с продуктом в течение месяца. "
   ]
  },
  {
   "cell_type": "code",
   "execution_count": null,
   "id": "75f2b334",
   "metadata": {
    "vscode": {
     "languageId": "sql"
    }
   },
   "outputs": [],
   "source": [
    "SELECT\n",
    "    date_trunc('month', time) AS month,\n",
    "    COUNT(DISTINCT(user_id)) AS MAU\n",
    "FROM\n",
    "    user_actions\n",
    "GROUP BY\n",
    "    month\n",
    "ORDER BY\n",
    "    month"
   ]
  },
  {
   "cell_type": "code",
   "execution_count": 16,
   "id": "e9c5ec3a",
   "metadata": {},
   "outputs": [
    {
     "name": "stdout",
     "output_type": "stream",
     "text": [
      "            month    mau\n",
      "0  01/08/22 00:00   8625\n",
      "1  01/09/22 00:00  18397\n"
     ]
    }
   ],
   "source": [
    "file_path2 = ('data/MAU_users_2025_05_19.csv')\n",
    "df2 = pd.read_csv(file_path2)\n",
    "print(df2)"
   ]
  },
  {
   "cell_type": "markdown",
   "id": "ddf2e9c0",
   "metadata": {},
   "source": [
    "![Image](./charts/MAU.png)"
   ]
  },
  {
   "cell_type": "markdown",
   "id": "c0adbb9e",
   "metadata": {},
   "source": [
    "Подсчитаем количество доставленных заказов за все время."
   ]
  },
  {
   "cell_type": "code",
   "execution_count": null,
   "id": "1321ea3a",
   "metadata": {
    "vscode": {
     "languageId": "sql"
    }
   },
   "outputs": [],
   "source": [
    "SELECT\n",
    "    COUNT(order_id) AS delivered_orders,\n",
    "    time::date AS date\n",
    "FROM\n",
    "    courier_actions\n",
    "WHERE\n",
    "    action = 'deliver_order'\n",
    "GROUP BY\n",
    "    date\n",
    "ORDER BY\n",
    "    date "
   ]
  },
  {
   "cell_type": "code",
   "execution_count": 15,
   "id": "637267e2",
   "metadata": {},
   "outputs": [
    {
     "name": "stdout",
     "output_type": "stream",
     "text": [
      "    delivered_orders      date\n",
      "0                132  24/08/22\n",
      "1               1046  25/08/22\n",
      "2               1442  26/08/22\n",
      "3               2134  27/08/22\n",
      "4               2969  28/08/22\n",
      "5               3270  29/08/22\n",
      "6               3392  30/08/22\n",
      "7               3399  31/08/22\n",
      "8               3678  01/09/22\n",
      "9               4969  02/09/22\n",
      "10              5708  03/09/22\n",
      "11              5991  04/09/22\n",
      "12              4738  05/09/22\n",
      "13              3446  06/09/22\n",
      "14              4746  07/09/22\n",
      "15              5556  08/09/22\n"
     ]
    }
   ],
   "source": [
    "file_path3 = ('data/Delivered_orders_2025_05_19.csv')\n",
    "df3 = pd.read_csv(file_path3)\n",
    "print(df3)"
   ]
  },
  {
   "cell_type": "markdown",
   "id": "86ecbd64",
   "metadata": {},
   "source": [
    "![Image](./charts/Delivered_orders.png)"
   ]
  },
  {
   "cell_type": "markdown",
   "id": "05130965",
   "metadata": {},
   "source": [
    "Вычислим сколько курьеров являются активными. "
   ]
  },
  {
   "cell_type": "code",
   "execution_count": null,
   "id": "4236e0da",
   "metadata": {
    "vscode": {
     "languageId": "sql"
    }
   },
   "outputs": [],
   "source": [
    "SELECT\n",
    "    COUNT(DISTINCT(courier_id)) AS active_couriers,\n",
    "    time::date as date\n",
    "FROM\n",
    "    courier_actions\n",
    "GROUP BY\n",
    "    date\n",
    "ORDER BY\n",
    "    date"
   ]
  },
  {
   "cell_type": "code",
   "execution_count": 14,
   "id": "17278770",
   "metadata": {},
   "outputs": [
    {
     "name": "stdout",
     "output_type": "stream",
     "text": [
      "    active_couriers      date\n",
      "0                95  24/08/22\n",
      "1               335  25/08/22\n",
      "2               532  26/08/22\n",
      "3               727  27/08/22\n",
      "4               937  28/08/22\n",
      "5              1028  29/08/22\n",
      "6              1148  30/08/22\n",
      "7              1300  31/08/22\n",
      "8              1491  01/09/22\n",
      "9              1749  02/09/22\n",
      "10             1919  03/09/22\n",
      "11             2084  04/09/22\n",
      "12             2076  05/09/22\n",
      "13             1923  06/09/22\n",
      "14             2289  07/09/22\n",
      "15             2533  08/09/22\n"
     ]
    }
   ],
   "source": [
    "file_path4 = ('data/Active_couriers_2025_05_19.csv')\n",
    "df4 = pd.read_csv(file_path4)\n",
    "print(df4)"
   ]
  },
  {
   "cell_type": "markdown",
   "id": "7edd1dfe",
   "metadata": {},
   "source": [
    "![Image](./charts/Active_couriers.png)"
   ]
  },
  {
   "cell_type": "markdown",
   "id": "d375e841",
   "metadata": {},
   "source": [
    "Вычислим коэффициент отмен заказов. Cancel Rate(CR) - Метрика, показывающая долю отмененных заказов относительно общего числа заказов. \n",
    "Также посчитаем среднее количество заказов на пользователя. Orders per User (OPU) - показывает, сколько заказов в среднем делает один пользователь за определенный период. "
   ]
  },
  {
   "cell_type": "code",
   "execution_count": null,
   "id": "381c324f",
   "metadata": {
    "vscode": {
     "languageId": "sql"
    }
   },
   "outputs": [],
   "source": [
    "WITH\n",
    "t1 AS (\n",
    "    SELECT\n",
    "        COUNT(order_id) FILTER(WHERE action = 'cancel_order') AS cancel_orders,\n",
    "        COUNT(order_id) FILTER(WHERE action = 'create_order') AS create_orders,\n",
    "        COUNT(DISTINCT(user_id)) AS active_users,\n",
    "        time::date AS date\n",
    "    FROM\n",
    "        user_actions\n",
    "    GROUP BY\n",
    "        date\n",
    ")\n",
    "SELECT\n",
    "    cancel_orders::float / create_orders AS cancel_rate,\n",
    "    create_orders::float / active_users AS orders_per_user,\n",
    "    cancel_orders,\n",
    "    create_orders,\n",
    "    active_users,\n",
    "    date\n",
    "FROM\n",
    "    t1\n",
    "ORDER BY\n",
    "    date    "
   ]
  },
  {
   "cell_type": "code",
   "execution_count": 13,
   "id": "3ccbcd06",
   "metadata": {},
   "outputs": [
    {
     "name": "stdout",
     "output_type": "stream",
     "text": [
      "    cancel_rate  orders_per_user  cancel_orders  create_orders  active_users  \\\n",
      "0      0.054795         1.089552              8            146           134   \n",
      "1      0.044224         1.306604             49           1108           848   \n",
      "2      0.053630         1.292477             82           1529          1183   \n",
      "3      0.045475         1.398379            102           2243          1604   \n",
      "4      0.047317         1.468065            149           3149          2145   \n",
      "5      0.053897         1.507645            186           3451          2289   \n",
      "6      0.053075         1.521795            189           3561          2340   \n",
      "7      0.055925         1.424290            202           3612          2536   \n",
      "8      0.053645         1.383523            209           3896          2816   \n",
      "9      0.051224         1.486045            270           5271          3547   \n",
      "10     0.049451         1.537241            297           6006          3907   \n",
      "11     0.046630         1.488432            294           6305          4236   \n",
      "12     0.050376         1.414655            248           4923          3480   \n",
      "13     0.049835         1.297143            181           3632          2800   \n",
      "14     0.052360         1.385165            264           5042          3640   \n",
      "15     0.043524         1.419955            249           5721          4029   \n",
      "\n",
      "        date  \n",
      "0   24/08/22  \n",
      "1   25/08/22  \n",
      "2   26/08/22  \n",
      "3   27/08/22  \n",
      "4   28/08/22  \n",
      "5   29/08/22  \n",
      "6   30/08/22  \n",
      "7   31/08/22  \n",
      "8   01/09/22  \n",
      "9   02/09/22  \n",
      "10  03/09/22  \n",
      "11  04/09/22  \n",
      "12  05/09/22  \n",
      "13  06/09/22  \n",
      "14  07/09/22  \n",
      "15  08/09/22  \n"
     ]
    }
   ],
   "source": [
    "file_path5 = ('data/Orders_analytics_2025_05_19.csv')\n",
    "df5 = pd.read_csv(file_path5)\n",
    "print(df5)"
   ]
  },
  {
   "cell_type": "markdown",
   "id": "43e61aca",
   "metadata": {},
   "source": [
    "![Image](./charts/Orders_per_user.png)"
   ]
  },
  {
   "cell_type": "markdown",
   "id": "ef46a1f8",
   "metadata": {},
   "source": [
    "![Image](./charts/Cancel_rate.png)"
   ]
  }
 ],
 "metadata": {
  "kernelspec": {
   "display_name": "Python 3",
   "language": "python",
   "name": "python3"
  },
  "language_info": {
   "codemirror_mode": {
    "name": "ipython",
    "version": 3
   },
   "file_extension": ".py",
   "mimetype": "text/x-python",
   "name": "python",
   "nbconvert_exporter": "python",
   "pygments_lexer": "ipython3",
   "version": "3.11.9"
  }
 },
 "nbformat": 4,
 "nbformat_minor": 5
}
