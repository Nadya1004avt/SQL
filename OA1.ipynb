{
 "cells": [
  {
   "cell_type": "code",
   "execution_count": 2,
   "id": "8c2b9516",
   "metadata": {},
   "outputs": [],
   "source": [
    "import pandas as pd\n",
    "from PIL import Image\n",
    "import matplotlib.pyplot as plt "
   ]
  },
  {
   "cell_type": "markdown",
   "id": "e3fea80a",
   "metadata": {},
   "source": [
    "Для каждого дня, представленного в таблицах user_actions и courier_actions, рассчитайте следующие показатели:\n",
    "Число новых пользователей.\n",
    "Число новых курьеров.\n",
    "Общее число пользователей на текущий день.\n",
    "Общее число курьеров на текущий день."
   ]
  },
  {
   "cell_type": "code",
   "execution_count": 11,
   "id": "c8236a71",
   "metadata": {
    "vscode": {
     "languageId": "sql"
    }
   },
   "outputs": [
    {
     "ename": "SyntaxError",
     "evalue": "invalid syntax (3080925438.py, line 2)",
     "output_type": "error",
     "traceback": [
      "\u001b[1;36m  Cell \u001b[1;32mIn[11], line 2\u001b[1;36m\u001b[0m\n\u001b[1;33m    -- Находим дату первого действия для каждого пользователя\u001b[0m\n\u001b[1;37m               ^\u001b[0m\n\u001b[1;31mSyntaxError\u001b[0m\u001b[1;31m:\u001b[0m invalid syntax\n"
     ]
    }
   ],
   "source": [
    "WITH\n",
    "-- Находим дату первого действия для каждого пользователя\n",
    "user_start_dates AS ( \n",
    "    SELECT\n",
    "        user_id,\n",
    "        MIN(time)::date AS start_date\n",
    "    FROM\n",
    "        user_actions\n",
    "    GROUP BY\n",
    "        user_id\n",
    "),\n",
    "-- Считаем количество новых пользователей по дням \n",
    "daily_new_users AS (\n",
    "    SELECT\n",
    "        start_date,\n",
    "        COUNT(user_id) AS new_users\n",
    "    FROM\n",
    "        user_start_dates\n",
    "    GROUP BY\n",
    "        start_date\n",
    "), \n",
    "-- Находим дату первого действия для каждого курьера\n",
    "courier_start_dates AS (\n",
    "    SELECT\n",
    "        courier_id,\n",
    "        MIN(time)::date AS start_date\n",
    "    FROM\n",
    "        courier_actions\n",
    "    GROUP BY\n",
    "        courier_id\n",
    "),\n",
    "-- Считаем количество новых курьеров по дням \n",
    "daily_new_couriers AS (\n",
    "    SELECT\n",
    "        start_date,\n",
    "        COUNT(courier_id) AS new_couriers\n",
    "    FROM\n",
    "        courier_start_dates\n",
    "    GROUP BY\n",
    "        start_date\n",
    ")\n",
    "SELECT\n",
    "    COALESCE(DNC.start_date, DNU.start_date) AS date,\n",
    "    COALESCE(DNU.new_users, 0) AS new_users,\n",
    "    COALESCE(DNC.new_couriers, 0) AS new_couriers,\n",
    "    SUM(COALESCE(DNU.new_users, 0)) OVER (ORDER BY COALESCE(DNC.start_date, DNU.start_date))::int AS total_users,\n",
    "    SUM(COALESCE(DNC.new_couriers, 0)) OVER (ORDER BY COALESCE(DNC.start_date, DNU.start_date))::int AS total_couriers\n",
    "FROM\n",
    "    daily_new_couriers AS DNC\n",
    "    FULL JOIN daily_new_users AS DNU\n",
    "    ON DNC.start_date = DNU.start_date\n",
    "ORDER BY\n",
    "    DNC.start_date"
   ]
  },
  {
   "cell_type": "code",
   "execution_count": null,
   "id": "bf2d83db",
   "metadata": {
    "vscode": {
     "languageId": "sql"
    }
   },
   "outputs": [
    {
     "name": "stdout",
     "output_type": "stream",
     "text": [
      "        date  new_users  new_couriers  total_users  total_couriers\n",
      "0   24/08/22        134            95          134              95\n",
      "1   25/08/22        829           242          963             337\n",
      "2   26/08/22       1017           219         1980             556\n",
      "3   27/08/22       1225           186         3205             742\n",
      "4   28/08/22       1487           213         4692             955\n",
      "5   29/08/22       1309           109         6001            1064\n",
      "6   30/08/22       1204           127         7205            1191\n",
      "7   31/08/22       1420           195         8625            1386\n",
      "8   01/09/22       1513           205        10138            1591\n",
      "9   02/09/22       1887           229        12025            1820\n",
      "10  03/09/22       1924           161        13949            1981\n",
      "11  04/09/22       1952           205        15901            2186\n",
      "12  05/09/22       1397           120        17298            2306\n",
      "13  06/09/22       1020            98        18318            2404\n",
      "14  07/09/22       1412           220        19730            2624\n",
      "15  08/09/22       1671           202        21401            2826\n"
     ]
    }
   ],
   "source": [
    "file_path1 = ('data/11036746_2025_05_19.csv')\n",
    "df1 = pd.read_csv(file_path1)\n",
    "print(df1)"
   ]
  },
  {
   "cell_type": "markdown",
   "id": "91c75623",
   "metadata": {},
   "source": [
    "Динамика общего числа пользователей. \n",
    "![Image](./charts/1.png)"
   ]
  },
  {
   "cell_type": "markdown",
   "id": "9abfb3ba",
   "metadata": {},
   "source": [
    "Динамика новых пользователей и курьеров. \n",
    "![Image](./charts/2.png)"
   ]
  },
  {
   "cell_type": "markdown",
   "id": "a11bb392",
   "metadata": {},
   "source": [
    "Количество пользователей, растёт быстрее чем количество курьеров. Показатель числа новых пользователей довольно стабильный, но данные за 6 сентября выбиваются из общей динамики. Показатель числа новых курьеров не дает выбросов и является стабильными на протяжении всех дней. "
   ]
  },
  {
   "cell_type": "markdown",
   "id": "d5569b45",
   "metadata": {},
   "source": [
    "Дополните запрос из предыдущего задания и теперь для каждого дня, представленного в таблицах user_actions и courier_actions, дополнительно рассчитайте следующие показатели:\n",
    "Прирост числа новых пользователей.\n",
    "Прирост числа новых курьеров.\n",
    "Прирост общего числа пользователей.\n",
    "Прирост общего числа курьеров"
   ]
  },
  {
   "cell_type": "code",
   "execution_count": null,
   "id": "b33096b6",
   "metadata": {
    "vscode": {
     "languageId": "sql"
    }
   },
   "outputs": [],
   "source": [
    "WITH\n",
    "-- Находим дату первого действия для каждого пользователя\n",
    "user_start_dates AS ( \n",
    "    SELECT\n",
    "        user_id,\n",
    "        MIN(time)::date AS start_date\n",
    "    FROM\n",
    "        user_actions\n",
    "    GROUP BY\n",
    "        user_id\n",
    "),\n",
    "-- Считаем количество новых пользователей по дням \n",
    "daily_new_users AS (\n",
    "    SELECT\n",
    "        start_date,\n",
    "        COUNT(user_id) AS new_users\n",
    "    FROM\n",
    "        user_start_dates\n",
    "    GROUP BY\n",
    "        start_date\n",
    "), \n",
    "-- Находим дату первого действия для каждого курьера\n",
    "courier_start_dates AS (\n",
    "    SELECT\n",
    "        courier_id,\n",
    "        MIN(time)::date AS start_date\n",
    "    FROM\n",
    "        courier_actions\n",
    "    GROUP BY\n",
    "        courier_id\n",
    "),\n",
    "-- Считаем количество новых курьеров по дням \n",
    "daily_new_couriers AS (\n",
    "    SELECT\n",
    "        start_date,\n",
    "        COUNT(courier_id) AS new_couriers\n",
    "    FROM\n",
    "        courier_start_dates\n",
    "    GROUP BY\n",
    "        start_date\n",
    "),\n",
    "-- Объединяем данные о новых пользователях и курьерах, вычисляем накопительные итоги\n",
    "user_courier_growth AS (\n",
    "    SELECT\n",
    "        COALESCE(DNC.start_date, DNU.start_date) AS date,\n",
    "        COALESCE(DNU.new_users, 0) AS new_users,\n",
    "        COALESCE(DNC.new_couriers, 0) AS new_couriers,\n",
    "        SUM(COALESCE(DNU.new_users, 0)) OVER (ORDER BY COALESCE(DNC.start_date, DNU.start_date))::int AS total_users,\n",
    "        SUM(COALESCE(DNC.new_couriers, 0)) OVER (ORDER BY COALESCE(DNC.start_date, DNU.start_date))::int AS total_couriers\n",
    "    FROM\n",
    "        daily_new_couriers AS DNC\n",
    "        FULL JOIN daily_new_users AS DNU\n",
    "        ON DNC.start_date = DNU.start_date\n",
    ")\n",
    "SELECT\n",
    "    date,\n",
    "    new_users,\n",
    "    new_couriers,\n",
    "    total_users,\n",
    "    total_couriers,\n",
    "    ROUND(100 * new_users::decimal / LAG(new_users, 1) OVER (ORDER BY date) - 100,2) AS new_users_change,\n",
    "    ROUND(100 * new_couriers::decimal / LAG(new_couriers, 1) OVER (ORDER BY date) - 100,2) AS new_couriers_change,\n",
    "    ROUND(100 * total_users::decimal / LAG(total_users, 1) OVER (ORDER BY date) - 100,2) AS total_users_growth,\n",
    "    ROUND(100 * total_couriers::decimal / LAG(total_couriers, 1) OVER (ORDER BY date) - 100,2) AS total_couriers_growth\n",
    "FROM\n",
    "    user_courier_growth\n",
    "ORDER BY\n",
    "    date"
   ]
  },
  {
   "cell_type": "code",
   "execution_count": null,
   "id": "0fbba0dc",
   "metadata": {},
   "outputs": [
    {
     "name": "stdout",
     "output_type": "stream",
     "text": [
      "        date  new_users  new_couriers  total_users  total_couriers  \\\n",
      "0   24/08/22        134            95          134              95   \n",
      "1   25/08/22        829           242          963             337   \n",
      "2   26/08/22       1017           219         1980             556   \n",
      "3   27/08/22       1225           186         3205             742   \n",
      "4   28/08/22       1487           213         4692             955   \n",
      "5   29/08/22       1309           109         6001            1064   \n",
      "6   30/08/22       1204           127         7205            1191   \n",
      "7   31/08/22       1420           195         8625            1386   \n",
      "8   01/09/22       1513           205        10138            1591   \n",
      "9   02/09/22       1887           229        12025            1820   \n",
      "10  03/09/22       1924           161        13949            1981   \n",
      "11  04/09/22       1952           205        15901            2186   \n",
      "12  05/09/22       1397           120        17298            2306   \n",
      "13  06/09/22       1020            98        18318            2404   \n",
      "14  07/09/22       1412           220        19730            2624   \n",
      "15  08/09/22       1671           202        21401            2826   \n",
      "\n",
      "    new_users_change  new_couriers_change  total_users_growth  \\\n",
      "0                NaN                  NaN                 NaN   \n",
      "1             518.66               154.74              618.66   \n",
      "2              22.68                -9.50              105.61   \n",
      "3              20.45               -15.07               61.87   \n",
      "4              21.39                14.52               46.40   \n",
      "5             -11.97               -48.83               27.90   \n",
      "6              -8.02                16.51               20.06   \n",
      "7              17.94                53.54               19.71   \n",
      "8               6.55                 5.13               17.54   \n",
      "9              24.72                11.71               18.61   \n",
      "10              1.96               -29.69               16.00   \n",
      "11              1.46                27.33               13.99   \n",
      "12            -28.43               -41.46                8.79   \n",
      "13            -26.99               -18.33                5.90   \n",
      "14             38.43               124.49                7.71   \n",
      "15             18.34                -8.18                8.47   \n",
      "\n",
      "    total_couriers_growth  \n",
      "0                     NaN  \n",
      "1                  254.74  \n",
      "2                   64.99  \n",
      "3                   33.45  \n",
      "4                   28.71  \n",
      "5                   11.41  \n",
      "6                   11.94  \n",
      "7                   16.37  \n",
      "8                   14.79  \n",
      "9                   14.39  \n",
      "10                   8.85  \n",
      "11                  10.35  \n",
      "12                   5.49  \n",
      "13                   4.25  \n",
      "14                   9.15  \n",
      "15                   7.70  \n"
     ]
    }
   ],
   "source": [
    "file_path2 = ('data/2.1_2025_05_19.csv')\n",
    "df2 = pd.read_csv(file_path2)\n",
    "print(df2)"
   ]
  },
  {
   "cell_type": "markdown",
   "id": "0df6e65e",
   "metadata": {},
   "source": [
    "Динамика прироста числа новых пользователей и курьеров.\n",
    "![Image](./charts/3.png)"
   ]
  },
  {
   "cell_type": "markdown",
   "id": "d398fee9",
   "metadata": {},
   "source": [
    "Динамика прироста общего числа пользователей и курьеров.\n",
    "![Image](./charts/4.png)"
   ]
  },
  {
   "cell_type": "markdown",
   "id": "a33ffda6",
   "metadata": {},
   "source": [
    "Динамика темпа прироста общего числа пользователей и курьеров затухающая. Темп прироста числа новых курьеров опережает темп прироста новых пользователей 31 августа и 7 сентября."
   ]
  },
  {
   "cell_type": "markdown",
   "id": "41a2374e",
   "metadata": {},
   "source": [
    "Для каждого дня, представленного в таблицах user_actions и courier_actions, рассчитайте следующие показатели:\n",
    "Число платящих пользователей.\n",
    "Число активных курьеров.\n",
    "Долю платящих пользователей в общем числе пользователей на текущий день.\n",
    "Долю активных курьеров в общем числе курьеров на текущий день."
   ]
  },
  {
   "cell_type": "code",
   "execution_count": null,
   "id": "f1992223",
   "metadata": {
    "vscode": {
     "languageId": "sql"
    }
   },
   "outputs": [],
   "source": [
    "WITH\n",
    "-- Список отмененных заказов\n",
    "canceled_orders AS (\n",
    "    SELECT\n",
    "        order_id\n",
    "    FROM \n",
    "        user_actions\n",
    "    WHERE\n",
    "        action = 'cancel_order'\n",
    "),\n",
    "-- Находим дату первого действия для каждого пользователя\n",
    "user_start_dates AS (\n",
    "    SELECT\n",
    "        MIN(time::date) AS start_date,\n",
    "        user_id\n",
    "    FROM\n",
    "        user_actions\n",
    "    GROUP BY\n",
    "        user_id\n",
    "), \n",
    "-- Считаем количество новых пользователей по дням \n",
    "daily_new_users AS (\n",
    "    SELECT\n",
    "        start_date,\n",
    "        COUNT(user_id) AS new_users\n",
    "    FROM\n",
    "        user_start_dates\n",
    "    GROUP BY\n",
    "        start_date\n",
    "),\n",
    "-- Находим дату первого действия для каждого курьера\n",
    "courier_start_dates AS (\n",
    "    SELECT\n",
    "        MIN(time::date) AS start_date,\n",
    "        courier_id\n",
    "    FROM\n",
    "        courier_actions\n",
    "    GROUP BY\n",
    "        courier_id\n",
    "), \n",
    "-- Считаем количество новых курьеров по дням \n",
    "daily_new_couriers AS (\n",
    "    SELECT\n",
    "        start_date,\n",
    "        COUNT(courier_id) AS new_couriers\n",
    "    FROM\n",
    "        courier_start_dates\n",
    "    GROUP BY\n",
    "        start_date\n",
    "),\n",
    "-- Объединяем данные о новых пользователях и курьерах, вычисляем накопительные итоги\n",
    "user_courier_growth AS (\n",
    "    SELECT\n",
    "        COALESCE(DNC.start_date, DNU.start_date) AS date, \n",
    "        COALESCE(DNU.new_users, 0) AS new_users,\n",
    "        COALESCE(DNC.new_couriers, 0) AS new_couriers,\n",
    "        SUM(COALESCE(DNU.new_users, 0)) OVER (ORDER BY COALESCE(DNC.start_date, DNU.start_date))::int AS total_users,\n",
    "        SUM(COALESCE(DNC.new_couriers, 0)) OVER (ORDER BY COALESCE(DNC.start_date, DNU.start_date))::int AS total_couriers\n",
    "    FROM\n",
    "        daily_new_couriers AS DNC\n",
    "        FULL JOIN daily_new_users AS DNU\n",
    "        ON DNC.start_date = DNU.start_date\n",
    "),\n",
    "-- Считаем активных курьеров по дням (которые доставили заказы)\n",
    "daily_active_couriers AS (\n",
    "    SELECT\n",
    "        time::date AS date,\n",
    "        COUNT(DISTINCT(courier_id)) AS active_couriers\n",
    "    FROM\n",
    "        courier_actions\n",
    "    WHERE\n",
    "        order_id NOT IN (SELECT order_id FROM canceled_orders)\n",
    "    GROUP BY\n",
    "        date\n",
    "),\n",
    "--Считаем платящих пользователей по дням (которые сделали успешные заказы)\n",
    "daily_paying_users AS (\n",
    "    SELECT\n",
    "        time::date AS date,\n",
    "        COUNT(DISTINCT(user_id)) AS paying_users\n",
    "    FROM\n",
    "        user_actions\n",
    "    WHERE\n",
    "        order_id NOT IN (SELECT order_id FROM canceled_orders)\n",
    "    GROUP BY\n",
    "        date\n",
    ")\n",
    "SELECT\n",
    "    COALESCE(UCG.date,DPU.date) AS date,\n",
    "    COALESCE(DPU.paying_users, 0) AS paying_users,\n",
    "    COALESCE(DAC.active_couriers, 0) AS active_couriers,\n",
    "    ROUND((100 * COALESCE(DPU.paying_users, 0)::decimal / UCG.total_users),2) AS paying_users_share,\n",
    "    ROUND((100 * COALESCE(DAC.active_couriers, 0)::decimal / UCG.total_couriers),2) AS active_couriers_share\n",
    "FROM\n",
    "    user_courier_growth AS UCG\n",
    "    LEFT JOIN daily_paying_users AS DPU\n",
    "    ON UCG.date = DPU.date\n",
    "    LEFT JOIN daily_active_couriers  AS DAC\n",
    "    ON UCG.date = DAC.date\n",
    "ORDER BY\n",
    "    date\n"
   ]
  },
  {
   "cell_type": "code",
   "execution_count": null,
   "id": "294cafcc",
   "metadata": {},
   "outputs": [
    {
     "name": "stdout",
     "output_type": "stream",
     "text": [
      "        date  paying_users  active_couriers  paying_users_share  \\\n",
      "0   24/08/22           127               93               94.78   \n",
      "1   25/08/22           820              333               85.15   \n",
      "2   26/08/22          1137              526               57.42   \n",
      "3   27/08/22          1548              721               48.30   \n",
      "4   28/08/22          2083              927               44.39   \n",
      "5   29/08/22          2202             1022               36.69   \n",
      "6   30/08/22          2253             1133               31.27   \n",
      "7   31/08/22          2430             1286               28.17   \n",
      "8   01/09/22          2710             1474               26.73   \n",
      "9   02/09/22          3429             1733               28.52   \n",
      "10  03/09/22          3794             1906               27.20   \n",
      "11  04/09/22          4104             2069               25.81   \n",
      "12  05/09/22          3362             2047               19.44   \n",
      "13  06/09/22          2701             1883               14.75   \n",
      "14  07/09/22          3517             2245               17.83   \n",
      "15  08/09/22          3912             2491               18.28   \n",
      "\n",
      "    active_couriers_share  \n",
      "0                   97.89  \n",
      "1                   98.81  \n",
      "2                   94.60  \n",
      "3                   97.17  \n",
      "4                   97.07  \n",
      "5                   96.05  \n",
      "6                   95.13  \n",
      "7                   92.78  \n",
      "8                   92.65  \n",
      "9                   95.22  \n",
      "10                  96.21  \n",
      "11                  94.65  \n",
      "12                  88.77  \n",
      "13                  78.33  \n",
      "14                  85.56  \n",
      "15                  88.15  \n"
     ]
    }
   ],
   "source": [
    "file_path3 = ('data/2025_05_19.csv')\n",
    "df3 = pd.read_csv(file_path3)\n",
    "print(df3)"
   ]
  },
  {
   "cell_type": "markdown",
   "id": "aaca7ef4",
   "metadata": {},
   "source": [
    "Динамика платящих пользователей и активных курьеров.\n",
    "![Image](./charts/6.png)"
   ]
  },
  {
   "cell_type": "markdown",
   "id": "ade5850f",
   "metadata": {},
   "source": [
    "Динамика долей платящих пользователей и активных курьеров. \n",
    "![Image](./charts/5.png)"
   ]
  },
  {
   "cell_type": "markdown",
   "id": "22426518",
   "metadata": {},
   "source": [
    "Можно сделать вывод, что вместе с общим числом пользователей и курьеров число платящих пользователей и активных курьеров растет. Однако показатели долей активных курьеров очень сильно упала. "
   ]
  },
  {
   "cell_type": "markdown",
   "id": "cb084f04",
   "metadata": {},
   "source": [
    "Для каждого дня, представленного в таблице user_actions, рассчитайте следующие показатели:\n",
    "Долю пользователей, сделавших в этот день всего один заказ, в общем количестве платящих пользователей.\n",
    "Долю пользователей, сделавших в этот день несколько заказов, в общем количестве платящих пользователей."
   ]
  },
  {
   "cell_type": "code",
   "execution_count": null,
   "id": "d678277d",
   "metadata": {
    "vscode": {
     "languageId": "sql"
    }
   },
   "outputs": [],
   "source": [
    "WITH\n",
    "-- Список отмененных заказов\n",
    "canceled_orders AS (\n",
    "    SELECT\n",
    "        order_id\n",
    "    FROM\n",
    "        user_actions\n",
    "    WHERE\n",
    "        action = 'cancel_order'\n",
    "),\n",
    "-- Все действия пользователей с неотмененными заказами\n",
    "valid_user_actions AS (\n",
    "    SELECT\n",
    "        time::date AS date,\n",
    "        user_id,\n",
    "        order_id\n",
    "    FROM\n",
    "        user_actions\n",
    "    WHERE\n",
    "        order_id NOT IN (SELECT order_id FROM canceled_orders)\n",
    "),\n",
    "-- Платящие пользователи по дням\n",
    "paying_users_daily AS (\n",
    "    SELECT\n",
    "        date, \n",
    "        COUNT(DISTINCT(user_id)) AS paying_users\n",
    "    FROM\n",
    "        valid_user_actions\n",
    "    GROUP BY\n",
    "        date\n",
    "),\n",
    "-- Количество заказов для каждого пользователя в каждый день\n",
    "user_orders_count AS (\n",
    "    SELECT\n",
    "        date,\n",
    "        user_id,\n",
    "        COUNT(DISTINCT(order_id)) AS orders_count\n",
    "    FROM\n",
    "        valid_user_actions\n",
    "    GROUP BY\n",
    "        date,\n",
    "        user_id\n",
    "),\n",
    "-- Пользователи с ровно одним заказов по дням\n",
    "single_order_users_daily AS (\n",
    "    SELECT\n",
    "        date, \n",
    "        user_id,\n",
    "        COUNT(user_id) AS single_order_users\n",
    "    FROM\n",
    "        user_orders_count\n",
    "    WHERE\n",
    "        orders_count = 1\n",
    "    GROUP BY\n",
    "        date,\n",
    "        user_id\n",
    ")\n",
    "SELECT\n",
    "    COALESS(PUD.date, SOUD.date) AS date,\n",
    "    ROUND((100 * SOUD.single_order_users::decimal / PUD.paying_users),2) AS single_order_users_share,\n",
    "    100 - ROUND((100 * SOUD.single_order_users::decimal / PUD.paying_users),2) AS several_orders_users_share\n",
    "FROM\n",
    "    paying_users_daily AS PUD\n",
    "    LEFT JOIN single_order_users_daily AS SOUD \n",
    "    ON PUD.date = SOUD.date\n",
    "ORDER BY    \n",
    "    PUD.date"
   ]
  },
  {
   "cell_type": "code",
   "execution_count": null,
   "id": "d93524f6",
   "metadata": {},
   "outputs": [
    {
     "name": "stdout",
     "output_type": "stream",
     "text": [
      "        date  singe_order_users_share  several_orders_users_share\n",
      "0   24/08/22                    92.91                        7.09\n",
      "1   25/08/22                    76.46                       23.54\n",
      "2   26/08/22                    78.45                       21.55\n",
      "3   27/08/22                    70.93                       29.07\n",
      "4   28/08/22                    67.83                       32.17\n",
      "5   29/08/22                    65.58                       34.42\n",
      "6   30/08/22                    64.67                       35.33\n",
      "7   31/08/22                    70.41                       29.59\n",
      "8   01/09/22                    71.70                       28.30\n",
      "9   02/09/22                    67.02                       32.98\n",
      "10  03/09/22                    63.94                       36.06\n",
      "11  04/09/22                    65.94                       34.06\n",
      "12  05/09/22                    69.96                       30.04\n",
      "13  06/09/22                    77.67                       22.33\n",
      "14  07/09/22                    72.65                       27.35\n",
      "15  08/09/22                    69.61                       30.39\n"
     ]
    }
   ],
   "source": [
    "file_path4 = ('data/66.csv')\n",
    "df4 = pd.read_csv(file_path4)\n",
    "print(df4)"
   ]
  },
  {
   "cell_type": "markdown",
   "id": "73cce7fd",
   "metadata": {},
   "source": [
    "Доля пользователей с одним и несколькими заказами. \n",
    "![Image](./charts/7.png)"
   ]
  },
  {
   "cell_type": "markdown",
   "id": "0825ca03",
   "metadata": {},
   "source": [
    "Аномально низким значение показателя в перый день назвать нельзя. "
   ]
  },
  {
   "cell_type": "markdown",
   "id": "29132db4",
   "metadata": {},
   "source": [
    "Для каждого дня, представленного в таблице user_actions, рассчитайте следующие показатели:\n",
    "Общее число заказов.\n",
    "Число первых заказов (заказов, сделанных пользователями впервые).\n",
    "Число заказов новых пользователей (заказов, сделанных пользователями в тот же день, когда они впервые воспользовались сервисом).\n",
    "Долю первых заказов в общем числе заказов (долю п.2 в п.1).\n",
    "Долю заказов новых пользователей в общем числе заказов (долю п.3 в п.1)."
   ]
  },
  {
   "cell_type": "code",
   "execution_count": null,
   "id": "603c9b81",
   "metadata": {
    "vscode": {
     "languageId": "sql"
    }
   },
   "outputs": [],
   "source": [
    "WITH\n",
    "-- Список отмененных заказов\n",
    "canceled_orders AS (\n",
    "    SELECT\n",
    "        order_id\n",
    "    FROM\n",
    "        user_actions\n",
    "    WHERE\n",
    "        action = 'cancel_order'\n",
    "),\n",
    "-- Список не отмененных заказов\n",
    "valid_user_orders AS (\n",
    "    SELECT\n",
    "        time::date AS date,\n",
    "        user_id,\n",
    "        order_id\n",
    "    FROM\n",
    "        user_actions\n",
    "    WHERE\n",
    "        order_id NOT IN (SELECT order_id FROM canceled_orders)\n",
    "),\n",
    "-- Количество заказов по дням (исключая отменённые)\n",
    "daily_orders AS (\n",
    "    SELECT\n",
    "        COUNT(DISTINCT(order_id))::int AS orders,\n",
    "        time::date AS date\n",
    "    FROM\n",
    "        user_actions\n",
    "    WHERE\n",
    "        action = 'create_order' \n",
    "        AND order_id NOT IN (SELECT order_id FROM canceled_orders)    \n",
    "    GROUP BY\n",
    "        date\n",
    "),\n",
    "-- Даты первых заказов для каждого пользователя (неотмененные)\n",
    "user_first_orders AS (\n",
    "    SELECT\n",
    "        MIN(time)::date AS first_order_date,\n",
    "        user_id\n",
    "    FROM\n",
    "        user_actions\n",
    "    WHERE \n",
    "        action = 'create_order' \n",
    "        AND order_id NOT IN (SELECT order_id FROM canceled_orders) \n",
    "    GROUP BY\n",
    "        user_id\n",
    "),\n",
    "-- Количество первых заказов по дням\n",
    "daily_first_orders AS (\n",
    "    SELECT\n",
    "        COUNT(user_id)::int AS first_orders,\n",
    "        first_order_date\n",
    "    FROM\n",
    "        user_first_orders\n",
    "    GROUP BY\n",
    "        first_order_date\n",
    "),\n",
    "-- Заказы сделанные пользователями в первый день использования сервиса\n",
    "user_first_actions AS (\n",
    "    SELECT\n",
    "        user_id,\n",
    "        MIN(time)::date AS first_action_date\n",
    "    FROM\n",
    "        user_actions\n",
    "    GROUP BY\n",
    "        user_id\n",
    "),\n",
    "-- Заказы, сделанные пользователями в первый день использования сервиса\n",
    "new_users_daily_orders AS (\n",
    "    SELECT\n",
    "        COALESCE(UFA.first_action_date,YUO.date) AS date,\n",
    "        COUNT(VUO.order_id)::int AS new_users_orders\n",
    "    FROM\n",
    "        user_first_actions AS UFA\n",
    "        LEFT JOIN valid_user_orders AS VUO\n",
    "        ON UFA.first_action_date = VUO.date AND UFA.user_id = VUO.user_id\n",
    "    GROUP BY\n",
    "        UFA.first_action_date\n",
    ")\n",
    "SELECT\n",
    "    COALESCE(NUDO.date, DFO.date) AS date,\n",
    "    COALESCE(DO1.orders, 0) AS orders,\n",
    "    COALESCE(DFO.first_orders, 0) AS first_orders,\n",
    "    COALESCE(NUDO.new_users_orders, 0) AS new_users_orders,\n",
    "    ROUND((100 * COALESCE(DFO.first_orders,0)::decimal / DO1.orders),2) AS first_orders_share,\n",
    "    ROUND((100 * COALESCE(NUDO.new_users_orders,0)::decimal / DO1.orders),2) AS new_users_orders_share\n",
    "FROM\n",
    "    daily_first_orders AS DFO\n",
    "    LEFT JOIN new_users_daily_orders AS NUDO\n",
    "    ON NUDO.date = DFO.first_order_date\n",
    "    LEFT JOIN daily_orders AS DO1\n",
    "    ON DO1.date = DFO.first_order_date\n",
    "ORDER BY\n",
    "    date"
   ]
  },
  {
   "cell_type": "code",
   "execution_count": 12,
   "id": "ea963de8",
   "metadata": {},
   "outputs": [
    {
     "name": "stdout",
     "output_type": "stream",
     "text": [
      "        date  orders  first_orders  new_users_orders  first_orders_share  \\\n",
      "0   24/08/22     138           127               138               92.03   \n",
      "1   25/08/22    1059           802              1032               75.73   \n",
      "2   26/08/22    1447           984              1250               68.00   \n",
      "3   27/08/22    2141          1192              1624               55.67   \n",
      "4   28/08/22    2998          1460              2102               48.70   \n",
      "5   29/08/22    3267          1281              1832               39.21   \n",
      "6   30/08/22    3371          1180              1714               35.00   \n",
      "7   31/08/22    3410          1380              1908               40.47   \n",
      "8   01/09/22    3688          1492              1988               40.46   \n",
      "9   02/09/22    5001          1864              2655               37.27   \n",
      "10  03/09/22    5709          1907              2830               33.40   \n",
      "11  04/09/22    6010          1943              2763               32.33   \n",
      "12  05/09/22    4675          1387              1865               29.67   \n",
      "13  06/09/22    3451          1012              1264               29.32   \n",
      "14  07/09/22    4777          1416              1865               29.64   \n",
      "15  08/09/22    5474          1661              2300               30.34   \n",
      "\n",
      "    new_users_orders_share  \n",
      "0                   100.00  \n",
      "1                    97.45  \n",
      "2                    86.39  \n",
      "3                    75.85  \n",
      "4                    70.11  \n",
      "5                    56.08  \n",
      "6                    50.85  \n",
      "7                    55.95  \n",
      "8                    53.90  \n",
      "9                    53.09  \n",
      "10                   49.57  \n",
      "11                   45.97  \n",
      "12                   39.89  \n",
      "13                   36.63  \n",
      "14                   39.04  \n",
      "15                   42.02  \n"
     ]
    }
   ],
   "source": [
    "file_path5 = ('data/111.csv')\n",
    "df5 = pd.read_csv(file_path5)\n",
    "print(df5)"
   ]
  },
  {
   "cell_type": "markdown",
   "id": "f9c1e682",
   "metadata": {},
   "source": [
    "Динамика общего числа заказов, числа первых заказов и числа заказов новых пользователей. \n",
    "![Image](./charts/8.png)"
   ]
  },
  {
   "cell_type": "markdown",
   "id": "d817cbd9",
   "metadata": {},
   "source": [
    "Динамика доли первых заказов и доли заказов новых пользователей в общем числе заказов. \n",
    "![Image](./charts/9.png)"
   ]
  },
  {
   "cell_type": "markdown",
   "id": "c54ffef3",
   "metadata": {},
   "source": [
    "С ростом количества всех заказов растут показатели числа первых заказов и числа заказов новых пользователей. "
   ]
  },
  {
   "cell_type": "markdown",
   "id": "474a700f",
   "metadata": {},
   "source": [
    "На основе данных в таблицах user_actions, courier_actions и orders для каждого дня рассчитайте следующие показатели:\n",
    "Число платящих пользователей на одного активного курьера.\n",
    "Число заказов на одного активного курьера."
   ]
  },
  {
   "cell_type": "code",
   "execution_count": null,
   "id": "0f8d24eb",
   "metadata": {
    "vscode": {
     "languageId": "sql"
    }
   },
   "outputs": [],
   "source": [
    "WITH\n",
    "-- Список отмененных заказов\n",
    "canceled_orders AS (\n",
    "    SELECT\n",
    "        order_id\n",
    "    FROM\n",
    "        user_actions\n",
    "    WHERE\n",
    "        action = 'cancel_order'\n",
    "),\n",
    "-- Находим дату первого действия для каждого пользователя\n",
    "user_start_dates AS (\n",
    "    SELECT\n",
    "        user_id,\n",
    "        MIN(time)::date AS start_date\n",
    "    FROM\n",
    "        user_actions\n",
    "    GROUP BY\n",
    "        user_id\n",
    "),\n",
    "-- Считаем количество новых пользователей по дням \n",
    "daily_new_users AS (\n",
    "    SELECT\n",
    "        start_date,\n",
    "        COUNT(user_id) AS new_users\n",
    "    FROM\n",
    "        user_start_dates\n",
    "    GROUP BY\n",
    "        start_date\n",
    "),\n",
    "-- Количесвто платящих пользователей по дням\n",
    "daily_paying_users AS (\n",
    "    SELECT\n",
    "        time::date AS date,\n",
    "        COUNT(DISTINCT(user_id)) AS paying_users\n",
    "    FROM\n",
    "        user_actions\n",
    "    WHERE \n",
    "        order_id NOT IN (SELECT order_id FROM canceled_orders)\n",
    "    GROUP BY\n",
    "        date\n",
    "), \n",
    "-- Количество активных курьеров по дням\n",
    "daily_active_couriers AS (\n",
    "    SELECT\n",
    "        time::date AS date,\n",
    "        COUNT(DISTINCT(courier_id)) AS active_couriers\n",
    "    FROM\n",
    "        courier_actions\n",
    "    WHERE\n",
    "        order_id NOT IN (SELECT order_id FROM canceled_orders)\n",
    "    GROUP BY\n",
    "        date\n",
    "),\n",
    "-- Ежедневное количество заказов\n",
    "daily_orders AS (\n",
    "    SELECT\n",
    "        creation_time::date AS date,\n",
    "        COUNT(DISTINCT(order_id)) AS orders_count\n",
    "    FROM\n",
    "        orders\n",
    "    WHERE\n",
    "        order_id NOT IN (SELECT order_id FROM canceled_orders)\n",
    "    GROUP BY\n",
    "        date\n",
    ")\n",
    "SELECT\n",
    "    COALESCE(DPU.date, DAC.date) AS date,\n",
    "    ROUND(DPU.paying_users::decimal / DAC.active_couriers, 2) AS users_per_courier,\n",
    "    ROUND(DO1.orders_count::decimal / DAC.active_couriers, 2) AS orders_per_courier\n",
    "FROM\n",
    "    daily_paying_users AS DPU\n",
    "    LEFT JOIN daily_active_couriers AS DAC\n",
    "    ON DPU.date = DAC.date\n",
    "    LEFT JOIN daily_orders AS DO1\n",
    "    ON DPU.date = DO1.date\n",
    "ORDER BY\n",
    "    date"
   ]
  },
  {
   "cell_type": "code",
   "execution_count": 3,
   "id": "f69dc8af",
   "metadata": {},
   "outputs": [
    {
     "name": "stdout",
     "output_type": "stream",
     "text": [
      "        date  users_per_courier  orders_per_courier\n",
      "0   24/08/22               1.37                1.48\n",
      "1   25/08/22               2.46                3.18\n",
      "2   26/08/22               2.16                2.75\n",
      "3   27/08/22               2.15                2.97\n",
      "4   28/08/22               2.25                3.23\n",
      "5   29/08/22               2.15                3.20\n",
      "6   30/08/22               1.99                2.98\n",
      "7   31/08/22               1.89                2.65\n",
      "8   01/09/22               1.84                2.50\n",
      "9   02/09/22               1.98                2.89\n",
      "10  03/09/22               1.99                3.00\n",
      "11  04/09/22               1.98                2.90\n",
      "12  05/09/22               1.64                2.28\n",
      "13  06/09/22               1.43                1.83\n",
      "14  07/09/22               1.57                2.13\n",
      "15  08/09/22               1.57                2.20\n"
     ]
    }
   ],
   "source": [
    "file_path6 = ('data/666.csv')\n",
    "df6 = pd.read_csv(file_path6)\n",
    "print(df6)"
   ]
  },
  {
   "cell_type": "markdown",
   "id": "18524269",
   "metadata": {},
   "source": [
    "Динамика числа пользователей и заказов на одного курьера. \n",
    "![Image](./charts/10.png)"
   ]
  },
  {
   "cell_type": "markdown",
   "id": "a2ab0732",
   "metadata": {},
   "source": [
    "Динамика числа пользователей и заказов на одного курьера совпадает. Так как эти метрики обычно коррелируют между собой - чем больше пользователей, тем больше заказов они создают. Сначала был рост показателей, но с течением времени значение показателей стало снижаться. "
   ]
  },
  {
   "cell_type": "markdown",
   "id": "9c5ccf18",
   "metadata": {},
   "source": [
    "На основе данных в таблице courier_actions для каждого дня рассчитайте, за сколько минут в среднем курьеры доставляли свои заказы."
   ]
  },
  {
   "cell_type": "code",
   "execution_count": null,
   "id": "87f839c1",
   "metadata": {
    "vscode": {
     "languageId": "sql"
    }
   },
   "outputs": [],
   "source": [
    "WITH\n",
    "canceled_order AS (\n",
    "    SELECT\n",
    "        order_id\n",
    "    FROM\n",
    "        user_actions\n",
    "    WHERE\n",
    "        action = 'cancel_order'\n",
    "),\n",
    "order_dates AS (\n",
    "    SELECT\n",
    "        order_id,\n",
    "        time::date AS date\n",
    "    FROM \n",
    "        courier_actions\n",
    "    WHERE\n",
    "        order_id NOT IN (SELECT order_id FROM canceled_order)\n",
    "),\n",
    "order_time_range AS (\n",
    "    SELECT\n",
    "        order_id,\n",
    "        MIN(time) AS start_time,\n",
    "        MAX(time) AS end_time\n",
    "    FROM\n",
    "        courier_actions\n",
    "    WHERE\n",
    "        order_id NOT IN (SELECT order_id FROM canceled_order)\n",
    "    GROUP BY\n",
    "        order_id\n",
    "),\n",
    "delivery_times AS (\n",
    "    SELECT\n",
    "        OD1.date,\n",
    "        EXTRACT(epoch FROM (OTR.end_time - OTR.start_time)) / 60 AS delivery_minutes\n",
    "    FROM\n",
    "        order_dates AS OD1\n",
    "        JOIN order_time_range OTR \n",
    "        ON OD1.order_id = OTR.order_id\n",
    ")\n",
    "SELECT\n",
    "    date,\n",
    "    ROUND(AVG(delivery_minutes))::int AS minutes_to_deliver\n",
    "FROM\n",
    "    delivery_times\n",
    "GROUP BY\n",
    "    date\n",
    "ORDER BY\n",
    "    date"
   ]
  },
  {
   "cell_type": "code",
   "execution_count": 5,
   "id": "33e10e1e",
   "metadata": {},
   "outputs": [
    {
     "name": "stdout",
     "output_type": "stream",
     "text": [
      "        date  minutes_to_deliver\n",
      "0   24/08/22                  20\n",
      "1   25/08/22                  20\n",
      "2   26/08/22                  20\n",
      "3   27/08/22                  20\n",
      "4   28/08/22                  20\n",
      "5   29/08/22                  20\n",
      "6   30/08/22                  20\n",
      "7   31/08/22                  20\n",
      "8   01/09/22                  20\n",
      "9   02/09/22                  20\n",
      "10  03/09/22                  20\n",
      "11  04/09/22                  20\n",
      "12  05/09/22                  20\n",
      "13  06/09/22                  20\n",
      "14  07/09/22                  20\n",
      "15  08/09/22                  20\n"
     ]
    }
   ],
   "source": [
    "file_path7 = ('data/333.csv')\n",
    "df7 = pd.read_csv(file_path7)\n",
    "print(df7)"
   ]
  },
  {
   "cell_type": "markdown",
   "id": "7a07cadd",
   "metadata": {},
   "source": [
    "Динамика среднего времени доставки заказов.\n",
    "![Image](./charts/12.png)"
   ]
  },
  {
   "cell_type": "markdown",
   "id": "78a8b53f",
   "metadata": {},
   "source": [
    "У курьеров получается придерживаться в среднем одинакового времени доставки заказов. "
   ]
  },
  {
   "cell_type": "markdown",
   "id": "2acb72bb",
   "metadata": {},
   "source": [
    "На основе данных в таблице orders для каждого часа в сутках рассчитайте следующие показатели:\n",
    "Число успешных (доставленных) заказов.\n",
    "Число отменённых заказов.\n",
    "Долю отменённых заказов в общем числе заказов (cancel rate)."
   ]
  },
  {
   "cell_type": "code",
   "execution_count": null,
   "id": "546cd2ac",
   "metadata": {
    "vscode": {
     "languageId": "sql"
    }
   },
   "outputs": [],
   "source": [
    "WITH\n",
    "canceled_orders AS (\n",
    "    SELECT\n",
    "        order_id\n",
    "    FROM\n",
    "        user_actions\n",
    "    WHERE\n",
    "        action = 'cancel_order'\n",
    "),\n",
    "delivered_orders AS (\n",
    "    SELECT\n",
    "        order_id\n",
    "    FROM\n",
    "        courier_actions\n",
    "    WHERE\n",
    "        action = 'deliver_order'\n",
    "), \n",
    "t1 AS (\n",
    "    SELECT\n",
    "        DATE_PART('hour', creation_time)::int AS hour,\n",
    "        COUNT(order_id) FILTER (WHERE order_id IN (SELECT order_id FROM delivered_orders)) AS successful_orders,\n",
    "        COUNT(order_id) FILTER (WHERE order_id IN (SELECT order_id FROM canceled_orders)) AS canceled_orders,\n",
    "        COUNT(order_id) AS order_count\n",
    "    FROM\n",
    "        orders\n",
    "    GROUP BY\n",
    "        hour\n",
    ")\n",
    "SELECT\n",
    "    hour, \n",
    "    successful_orders,\n",
    "    canceled_orders,\n",
    "    ROUND(canceled_orders::decimal / order_count, 3) AS cancel_rate\n",
    "FROM \n",
    "    t1\n",
    "ORDER BY\n",
    "    hour    "
   ]
  },
  {
   "cell_type": "code",
   "execution_count": 6,
   "id": "cf4ae5a3",
   "metadata": {},
   "outputs": [
    {
     "name": "stdout",
     "output_type": "stream",
     "text": [
      "    hour  successful_orders  canceled_orders  cancel_rate\n",
      "0      0               2297              139        0.057\n",
      "1      1               1867               98        0.050\n",
      "2      2               1422               62        0.042\n",
      "3      3                958               56        0.055\n",
      "4      4                926               48        0.049\n",
      "5      5               1363               77        0.053\n",
      "6      6               1583              101        0.060\n",
      "7      7               2101              100        0.045\n",
      "8      8               2195              117        0.051\n",
      "9      9               2606              151        0.055\n",
      "10    10               2641              135        0.049\n",
      "11    11               2584              121        0.045\n",
      "12    12               2440              124        0.048\n",
      "13    13               2424              122        0.048\n",
      "14    14               2351              120        0.049\n",
      "15    15               2513              128        0.048\n",
      "16    16               2480              158        0.060\n",
      "17    17               2966              168        0.054\n",
      "18    18               3149              162        0.049\n",
      "19    19               3496              189        0.051\n",
      "20    20               3414              163        0.046\n",
      "21    21               3197              172        0.051\n",
      "22    22               2978              127        0.041\n",
      "23    23               2665              141        0.050\n"
     ]
    }
   ],
   "source": [
    "file_path8 = ('data/665.csv')\n",
    "df8 = pd.read_csv(file_path8)\n",
    "print(df8)"
   ]
  },
  {
   "cell_type": "markdown",
   "id": "95c4f226",
   "metadata": {},
   "source": [
    "Динамика показателя cancel rate и числа успешных/отменённых заказов.\n",
    "![Image](./charts/13.png)"
   ]
  },
  {
   "cell_type": "markdown",
   "id": "84b4f3a9",
   "metadata": {},
   "source": [
    "В промежуток времени между 19:00 - 20:00 пользователи осуществялют максимальное количество заказов. Меньше всего заказов совершают в промежутке с 3:00 - 5:00 утра. Показатели cancel rate растет с увеличением числа заказов. "
   ]
  }
 ],
 "metadata": {
  "kernelspec": {
   "display_name": "Python 3",
   "language": "python",
   "name": "python3"
  },
  "language_info": {
   "codemirror_mode": {
    "name": "ipython",
    "version": 3
   },
   "file_extension": ".py",
   "mimetype": "text/x-python",
   "name": "python",
   "nbconvert_exporter": "python",
   "pygments_lexer": "ipython3",
   "version": "3.11.9"
  }
 },
 "nbformat": 4,
 "nbformat_minor": 5
}
