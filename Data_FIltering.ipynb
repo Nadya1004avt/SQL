{
 "cells": [
  {
   "cell_type": "markdown",
   "id": "c73aeb7d",
   "metadata": {},
   "source": [
    "**Фильрация данных**"
   ]
  },
  {
   "cell_type": "markdown",
   "id": "d6ac99bc",
   "metadata": {},
   "source": [
    "Напишите SQL-запрос к таблице products и выведите всю информацию о товарах, цена которых не превышает 100 рублей. Результат отсортируйте по возрастанию id товара."
   ]
  },
  {
   "cell_type": "code",
   "execution_count": null,
   "id": "719c4707",
   "metadata": {
    "vscode": {
     "languageId": "sql"
    }
   },
   "outputs": [],
   "source": [
    "SELECT \n",
    "\tproduct_id,\n",
    "    name,\n",
    "    price\n",
    "FROM   \n",
    "\tproducts\n",
    "WHERE  \n",
    "\tprice <= 100\n",
    "ORDER BY \n",
    "\tproduct_id"
   ]
  },
  {
   "cell_type": "markdown",
   "id": "76728c5d",
   "metadata": {},
   "source": [
    "Отберите пользователей женского пола из таблицы users. Выведите только id этих пользователей. Результат отсортируйте по возрастанию id.\n",
    "Добавьте в запрос оператор LIMIT и выведите только 1000 первых id из отсортированного списка."
   ]
  },
  {
   "cell_type": "code",
   "execution_count": null,
   "id": "35428819",
   "metadata": {
    "vscode": {
     "languageId": "sql"
    }
   },
   "outputs": [],
   "source": [
    "SELECT \n",
    "\tuser_id\n",
    "FROM   \n",
    "\tusers\n",
    "WHERE  \n",
    "\tsex = 'female'\n",
    "ORDER BY \n",
    "\tuser_id \n",
    "LIMIT \n",
    "\t1000"
   ]
  },
  {
   "cell_type": "markdown",
   "id": "210e9850",
   "metadata": {},
   "source": [
    "Отберите из таблицы user_actions все действия пользователей по созданию заказов, которые были совершены ими после полуночи 6 сентября 2022 года. Выведите колонки с id пользователей, id созданных заказов и временем их создания.\n",
    "Результат должен быть отсортирован по возрастанию id заказа."
   ]
  },
  {
   "cell_type": "code",
   "execution_count": null,
   "id": "0606a3ab",
   "metadata": {
    "vscode": {
     "languageId": "sql"
    }
   },
   "outputs": [],
   "source": [
    "SELECT \n",
    "\tuser_id,\n",
    "    order_id,\n",
    "    time\n",
    "FROM   \n",
    "\tuser_actions\n",
    "WHERE  \n",
    "\taction = 'create_order' \n",
    "\tAND time > '2022-09-06 00:00:00'\n",
    "ORDER BY \n",
    "\torder_id ASC"
   ]
  },
  {
   "cell_type": "markdown",
   "id": "05a260d4",
   "metadata": {},
   "source": [
    "Назначьте скидку 20% на все товары из таблицы products и отберите те, цена на которые с учётом скидки превышает 100 рублей. Выведите id товаров, их наименования, прежнюю цену и новую цену с учётом скидки. Колонку со старой ценой назовите old_price, с новой — new_price.\n",
    "Результат должен быть отсортирован по возрастанию id товара."
   ]
  },
  {
   "cell_type": "code",
   "execution_count": null,
   "id": "98dadcb2",
   "metadata": {
    "vscode": {
     "languageId": "sql"
    }
   },
   "outputs": [],
   "source": [
    "SELECT \n",
    "\tproduct_id,\n",
    "    name,\n",
    "    price AS old_price,\n",
    "    price * 0.8 AS new_price\n",
    "FROM\n",
    "    products\n",
    "WHERE  \n",
    "\tprice * 0.8 > 100\n",
    "ORDER BY \n",
    "\tproduct_id"
   ]
  },
  {
   "cell_type": "markdown",
   "id": "be25eb74",
   "metadata": {},
   "source": [
    "Отберите из таблицы products все товары, названия которых либо начинаются со слова «чай», либо состоят из пяти символов. Выведите две колонки: id товаров и их наименования.\n",
    "Результат должен быть отсортирован по возрастанию id товара."
   ]
  },
  {
   "cell_type": "code",
   "execution_count": null,
   "id": "3f15d2b4",
   "metadata": {
    "vscode": {
     "languageId": "sql"
    }
   },
   "outputs": [],
   "source": [
    "SELECT \n",
    "\tproduct_id,\n",
    "    name\n",
    "FROM   \n",
    "\tproducts\n",
    "WHERE  \n",
    "\tLENGTH(name) = 5 \n",
    "\tOR SPLIT_PART(name, ' ', 1) = 'чай'\n",
    "ORDER BY \n",
    "\tproduct_id"
   ]
  },
  {
   "cell_type": "markdown",
   "id": "e7f4346a",
   "metadata": {},
   "source": [
    "Отберите из таблицы products все товары, содержащие в своём названии последовательность символов «чай» (без кавычек). Выведите две колонки: id продукта и его название.\n",
    "Результат должен быть отсортирован по возрастанию id товара."
   ]
  },
  {
   "cell_type": "code",
   "execution_count": null,
   "id": "0f2ab141",
   "metadata": {
    "vscode": {
     "languageId": "sql"
    }
   },
   "outputs": [],
   "source": [
    "SELECT \n",
    "\tproduct_id,\n",
    "    name\n",
    "FROM   \n",
    "\tproducts\n",
    "WHERE  \n",
    "\tname LIKE '%чай%'\n",
    "ORDER BY \n",
    "\tproduct_id"
   ]
  },
  {
   "cell_type": "markdown",
   "id": "60edd81c",
   "metadata": {},
   "source": [
    "Выберите из таблицы products id и наименования только тех товаров, названия которых начинаются на букву «с» и содержат только одно слово.\n",
    "Результат должен быть отсортирован по возрастанию id товара."
   ]
  },
  {
   "cell_type": "code",
   "execution_count": null,
   "id": "4ad9cce3",
   "metadata": {
    "vscode": {
     "languageId": "sql"
    }
   },
   "outputs": [],
   "source": [
    "SELECT \n",
    "\tproduct_id,\n",
    "    name\n",
    "FROM   \n",
    "\tproducts\n",
    "WHERE  \n",
    "\tname LIKE 'с%' \n",
    "\tAND name NOT LIKE '% %'\n",
    "ORDER BY \n",
    "\tproduct_id"
   ]
  },
  {
   "cell_type": "markdown",
   "id": "0d89833a",
   "metadata": {},
   "source": [
    "Составьте SQL-запрос, который выбирает из таблицы products все чаи стоимостью больше 60 рублей и вычисляет для них цену со скидкой 25%.\n",
    "Скидку в % менеджер попросил указать в отдельном столбце в формате текста, то есть вот так: «25%» (без кавычек). Столбцы со скидкой и новой ценой назовите соответственно discount и new_price.\n",
    "Также необходимо любым известным способом избавиться от «чайного гриба»: вряд ли менеджер имел в виду и его, когда ставил нам задачу.\n",
    "Результат должен быть отсортирован по возрастанию id товара."
   ]
  },
  {
   "cell_type": "code",
   "execution_count": null,
   "id": "4eab5967",
   "metadata": {
    "vscode": {
     "languageId": "sql"
    }
   },
   "outputs": [],
   "source": [
    "SELECT \n",
    "\tproduct_id,\n",
    "    name,\n",
    "    price,\n",
    "    CASE \n",
    "\t\tWHEN price > 60 THEN price * 0.75\n",
    "        ELSE price \n",
    "\tEND AS new_price,\n",
    "    CASE \n",
    "\t\tWHEN price > 60 THEN '25%'\n",
    "        ELSE NULL \n",
    "\tEND AS discount\n",
    "FROM   \n",
    "\tproducts\n",
    "WHERE  \n",
    "\tname != 'чайный гриб' \n",
    "\tAND name LIKE '%чай%' \n",
    "\tAND price > 60\n",
    "ORDER BY \n",
    "\tproduct_id"
   ]
  },
  {
   "cell_type": "markdown",
   "id": "1eac9166",
   "metadata": {},
   "source": [
    "Из таблицы user_actions выведите всю информацию о действиях пользователей с id 170, 200 и 230 за период с 25 августа по 4 сентября 2022 года включительно. Результат отсортируйте по убыванию id заказа — то есть от самых поздних действий к самым первым."
   ]
  },
  {
   "cell_type": "code",
   "execution_count": null,
   "id": "2a8092af",
   "metadata": {
    "vscode": {
     "languageId": "sql"
    }
   },
   "outputs": [],
   "source": [
    "SELECT \n",
    "\tuser_id,\n",
    "    order_id,\n",
    "    action,\n",
    "    time\n",
    "FROM   \n",
    "\tuser_actions\n",
    "WHERE  \n",
    "\tuser_id IN (170, 200, 230) \n",
    "\tAND (time BETWEEN '2022-08-25' AND '2022-09-04 23:59:59')\n",
    "ORDER BY\n",
    "\torder_id DESC"
   ]
  },
  {
   "cell_type": "markdown",
   "id": "b18e7965",
   "metadata": {},
   "source": [
    "Напишите SQL-запрос к таблице couriers и выведите всю информацию о курьерах, у которых не указан их день рождения.\n",
    "Результат должен быть отсортирован по возрастанию id курьера."
   ]
  },
  {
   "cell_type": "code",
   "execution_count": null,
   "id": "8578ce09",
   "metadata": {
    "vscode": {
     "languageId": "sql"
    }
   },
   "outputs": [],
   "source": [
    "SELECT \n",
    "\tbirth_date,\n",
    "\tcourier_id,\n",
    "    sex\n",
    "FROM   \n",
    "\tcouriers\n",
    "WHERE\n",
    "\tbirth_date IS NULL\n",
    "ORDER BY \n",
    "\tcourier_id"
   ]
  },
  {
   "cell_type": "markdown",
   "id": "495dc6c5",
   "metadata": {},
   "source": [
    "Определите id и даты рождения 50 самых молодых пользователей мужского пола из таблицы users. Не учитывайте тех пользователей, у которых не указана дата рождения."
   ]
  },
  {
   "cell_type": "code",
   "execution_count": null,
   "id": "ab1ea5de",
   "metadata": {
    "vscode": {
     "languageId": "sql"
    }
   },
   "outputs": [],
   "source": [
    "SELECT \n",
    "\tuser_id,\n",
    "    birth_date\n",
    "FROM   \n",
    "\tusers\n",
    "WHERE  \n",
    "\tbirth_date IS NOT NULL \n",
    "\tAND sex = 'male'\n",
    "ORDER BY \n",
    "\tbirth_date DESC \n",
    "LIMIT\n",
    "\t50"
   ]
  },
  {
   "cell_type": "markdown",
   "id": "c81c8436",
   "metadata": {},
   "source": [
    "Напишите SQL-запрос к таблице courier_actions, чтобы узнать id и время доставки последних 10 заказов, доставленных курьером с id 100."
   ]
  },
  {
   "cell_type": "code",
   "execution_count": null,
   "id": "4f024dac",
   "metadata": {
    "vscode": {
     "languageId": "sql"
    }
   },
   "outputs": [],
   "source": [
    "SELECT \n",
    "\torder_id,\n",
    "    time\n",
    "FROM   \n",
    "\tcourier_actions\n",
    "WHERE  \n",
    "\tcourier_id = '100' \n",
    "\tAND action = 'deliver_order'\n",
    "ORDER BY \n",
    "\ttime DESC \n",
    "LIMIT \n",
    "\t10"
   ]
  },
  {
   "cell_type": "markdown",
   "id": "b22c7a3d",
   "metadata": {},
   "source": [
    "Из таблицы user_actions получите id всех заказов, сделанных пользователями сервиса в августе 2022 года.\n",
    "Результат отсортируйте по возрастанию id заказа."
   ]
  },
  {
   "cell_type": "code",
   "execution_count": null,
   "id": "bd83d78a",
   "metadata": {
    "vscode": {
     "languageId": "sql"
    }
   },
   "outputs": [],
   "source": [
    "SELECT \n",
    "\torder_id\n",
    "FROM   \n",
    "\tuser_actions\n",
    "WHERE  \n",
    "\ttime BETWEEN '2022-08-01' \n",
    "\tAND '2022-08-31 23:59:59' \n",
    "\tAND action = 'create_order'\n",
    "ORDER BY \n",
    "\torder_id"
   ]
  },
  {
   "cell_type": "markdown",
   "id": "414318f7",
   "metadata": {},
   "source": [
    "Из таблицы couriers отберите id всех курьеров, родившихся в период с 1990 по 1995 год включительно.\n",
    "Результат отсортируйте по возрастанию id курьера."
   ]
  },
  {
   "cell_type": "code",
   "execution_count": null,
   "id": "8a5f50f0",
   "metadata": {
    "vscode": {
     "languageId": "sql"
    }
   },
   "outputs": [],
   "source": [
    "SELECT \n",
    "\tcourier_id\n",
    "FROM   \n",
    "\tcouriers\n",
    "WHERE  \n",
    "\tDATE_PART('year', birth_date) IN ('1990', '1991','1992', '1993', '1994', '1995')\n",
    "ORDER BY \n",
    "\tcourier_id"
   ]
  },
  {
   "cell_type": "markdown",
   "id": "99fc2826",
   "metadata": {},
   "source": [
    "Из таблицы user_actions получите информацию о всех отменах заказов, которые пользователи совершали в течение августа 2022 года по средам с 12:00 до 15:59.\n",
    "Результат отсортируйте по убыванию id отменённых заказов."
   ]
  },
  {
   "cell_type": "code",
   "execution_count": null,
   "id": "4bd41c80",
   "metadata": {
    "vscode": {
     "languageId": "sql"
    }
   },
   "outputs": [],
   "source": [
    "SELECT \n",
    "\tuser_id,\n",
    "    order_id,\n",
    "    action,\n",
    "    time\n",
    "FROM   \n",
    "\tuser_actions\n",
    "WHERE  \n",
    "\taction = 'cancel_order'\n",
    "\tAND DATE_PART('year', time) = 2022\n",
    "    AND DATE_PART('month', time) = 08\n",
    "    AND DATE_PART('dow', time) = 03\n",
    "   \tAND DATE_PART('hour', time) BETWEEN 12\n",
    "   \tAND 15\n",
    "ORDER BY \n",
    "\torder_id DESC"
   ]
  },
  {
   "cell_type": "markdown",
   "id": "0d77dc7c",
   "metadata": {},
   "source": [
    "Как и в задаче из прошлого урока, вычислите НДС каждого товара в таблице products и рассчитайте цену без учёта НДС. Однако теперь примите во внимание, что для товаров из списка налог составляет 10%. Для остальных товаров НДС тот же — 20%.\n",
    "Выведите всю информацию о товарах, включая сумму налога и цену без его учёта. Колонки с суммой налога и ценой без НДС назовите соответственно tax и price_before_tax. Округлите значения в этих колонках до двух знаков после запятой.\n",
    "Результат отсортируйте сначала по убыванию цены товара без учёта НДС, затем по возрастанию id товара."
   ]
  },
  {
   "cell_type": "code",
   "execution_count": null,
   "id": "ba6db7fb",
   "metadata": {
    "vscode": {
     "languageId": "sql"
    }
   },
   "outputs": [],
   "source": [
    "SELECT \n",
    "\tproduct_id,\n",
    "    name,\n",
    "    price,\n",
    "    CASE \n",
    "\t\tWHEN name IN ('сахар', 'сухарики', 'сушки', 'семечки', 'масло льняное', 'виноград', 'масло оливковое', 'арбуз', 'батон', 'йогурт', 'сливки', 'гречка', 'овсянка', 'макароны', 'баранина', 'апельсины', 'бублики', 'хлеб', 'горох', 'сметана', 'рыба копченая', 'мука', 'шпроты', 'сосиски', 'свинина', 'рис', 'масло кунжутное', 'сгущенка', 'ананас', 'говядина', 'соль', 'рыба вяленая', 'масло подсолнечное', 'яблоки', 'груши', 'лепешка', 'молоко', 'курица', 'лаваш', 'вафли', 'мандарины') THEN ROUND((price * 10) / 110, 2)\n",
    "        ELSE ROUND((price * 20) / 120, 2) \n",
    "\tEND AS tax,\n",
    "    CASE \n",
    "\t\tWHEN name IN ('сахар', 'сухарики', 'сушки', 'семечки', 'масло льняное', 'виноград', 'масло оливковое', 'арбуз', 'батон', 'йогурт', 'сливки', 'гречка', 'овсянка', 'макароны', 'баранина', 'апельсины', 'бублики', 'хлеб', 'горох', 'сметана', 'рыба копченая', 'мука', 'шпроты', 'сосиски', 'свинина', 'рис', 'масло кунжутное', 'сгущенка', 'ананас', 'говядина', 'соль', 'рыба вяленая', 'масло подсолнечное', 'яблоки', 'груши', 'лепешка', 'молоко', 'курица', 'лаваш', 'вафли', 'мандарины') THEN ROUND(price - (price * 10) / 110,2)\n",
    "        ELSE ROUND(price - (price * 20) / 120, 2) \n",
    "\tEND AS price_before_tax\n",
    "FROM   \n",
    "\tproducts\n",
    "ORDER BY \n",
    "\tprice_before_tax DESC,\n",
    "\tproduct_id"
   ]
  }
 ],
 "metadata": {
  "language_info": {
   "name": "python"
  }
 },
 "nbformat": 4,
 "nbformat_minor": 5
}
