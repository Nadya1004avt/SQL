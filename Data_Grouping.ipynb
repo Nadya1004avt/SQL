{
 "cells": [
  {
   "cell_type": "markdown",
   "id": "34805b69",
   "metadata": {},
   "source": [
    "**Группировка данных**"
   ]
  },
  {
   "cell_type": "markdown",
   "id": "b136ffd5",
   "metadata": {},
   "source": [
    "С помощью оператора GROUP BY посчитайте количество курьеров мужского и женского пола в таблице couriers.\n",
    "Новую колонку с числом курьеров назовите couriers_count.\n",
    "Результат отсортируйте по этой колонке по возрастанию."
   ]
  },
  {
   "cell_type": "code",
   "execution_count": null,
   "id": "e10cb42a",
   "metadata": {
    "vscode": {
     "languageId": "sql"
    }
   },
   "outputs": [],
   "source": [
    "SELECT \n",
    "\tsex,\n",
    "    COUNT(courier_id) AS couriers_count\n",
    "FROM   \n",
    "\tcouriers\n",
    "GROUP BY \n",
    "\tsex\n",
    "ORDER BY \n",
    "\tcouriers_count"
   ]
  },
  {
   "cell_type": "markdown",
   "id": "e8870fe8",
   "metadata": {},
   "source": [
    "Посчитайте количество созданных и отменённых заказов в таблице user_actions.\n",
    "Новую колонку с числом заказов назовите orders_count.\n",
    "Результат отсортируйте по числу заказов по возрастанию."
   ]
  },
  {
   "cell_type": "code",
   "execution_count": null,
   "id": "4550a3e1",
   "metadata": {
    "vscode": {
     "languageId": "sql"
    }
   },
   "outputs": [],
   "source": [
    "SELECT \n",
    "\tCOUNT(order_id) AS orders_count,\n",
    "    action\n",
    "FROM   \n",
    "\tuser_actions\n",
    "GROUP BY \n",
    "\taction\n",
    "ORDER BY \n",
    "\torders_count"
   ]
  },
  {
   "cell_type": "markdown",
   "id": "fcfc9914",
   "metadata": {},
   "source": [
    "Используя группировку и функцию DATE_TRUNC, приведите все даты к началу месяца и посчитайте, сколько заказов было сделано в каждом из них.\n",
    "Расчёты проведите по таблице orders. Колонку с усечённой датой назовите month, колонку с количеством заказов — orders_count.\n",
    "Результат отсортируйте по месяцам — по возрастанию."
   ]
  },
  {
   "cell_type": "code",
   "execution_count": null,
   "id": "4f5b6165",
   "metadata": {
    "vscode": {
     "languageId": "sql"
    }
   },
   "outputs": [],
   "source": [
    "SELECT \n",
    "\tDATE_TRUNC('month', creation_time) AS month,\n",
    "    COUNT(order_id) AS orders_count\n",
    "FROM  \n",
    "\torders\n",
    "GROUP BY \n",
    "\tmonth\n",
    "ORDER BY \n",
    "\tmonth"
   ]
  },
  {
   "cell_type": "markdown",
   "id": "2b8b9dfc",
   "metadata": {},
   "source": [
    "Используя группировку и функцию DATE_TRUNC, приведите все даты к началу месяца и посчитайте, сколько заказов было сделано и сколько было отменено в каждом из них.\n",
    "В этот раз расчёты проведите по таблице user_actions. Колонку с усечённой датой назовите month, колонку с количеством заказов — orders_count.\n",
    "Результат отсортируйте сначала по месяцам — по возрастанию, затем по типу действия — тоже по возрастанию."
   ]
  },
  {
   "cell_type": "code",
   "execution_count": null,
   "id": "ab663d5a",
   "metadata": {
    "vscode": {
     "languageId": "sql"
    }
   },
   "outputs": [],
   "source": [
    "SELECT \n",
    "\tDATE_TRUNC('month', time) AS month,\n",
    "    COUNT(order_id) AS orders_count,\n",
    "    action\n",
    "FROM   \n",
    "\tuser_actions\n",
    "GROUP BY \n",
    "\tmonth,\n",
    "\taction\n",
    "ORDER BY \n",
    "\tmonth,\n",
    "\taction"
   ]
  },
  {
   "cell_type": "markdown",
   "id": "0d6fe4f3",
   "metadata": {},
   "source": [
    "По данным в таблице users посчитайте максимальный порядковый номер месяца среди всех порядковых номеров месяцев рождения пользователей сервиса. С помощью группировки проведите расчёты отдельно в двух группах — для пользователей мужского и женского пола.\n",
    "Новую колонку с максимальным порядковым номером месяца рождения в группах назовите max_month. Преобразуйте значения в новой колонке в формат INTEGER, чтобы порядковый номер был выражен целым числом.\n",
    "Результат отсортируйте по колонке с полом пользователей."
   ]
  },
  {
   "cell_type": "code",
   "execution_count": null,
   "id": "c9ec1e8a",
   "metadata": {
    "vscode": {
     "languageId": "sql"
    }
   },
   "outputs": [],
   "source": [
    "SELECT \n",
    "\tsex,\n",
    "\tMAX(DATE_PART('month', birth_date))::INTEGER AS max_month\n",
    "FROM   \n",
    "\tusers\n",
    "GROUP BY \n",
    "\tsex\n",
    "ORDER BY \n",
    "\tsex"
   ]
  },
  {
   "cell_type": "markdown",
   "id": "81586820",
   "metadata": {},
   "source": [
    "По данным в таблице users посчитайте порядковый номер месяца рождения самого молодого пользователя сервиса. С помощью группировки проведите расчёты отдельно в двух группах — для пользователей мужского и женского пола.\n",
    "Новую колонку c порядковым номером месяца рождения самого молодого пользователя в группах назовите max_month. Преобразуйте значения в новой колонке в формат INTEGER, чтобы порядковый номер был выражен целым числом.\n",
    "Результат отсортируйте по колонке с полом пользователей."
   ]
  },
  {
   "cell_type": "code",
   "execution_count": null,
   "id": "198141d4",
   "metadata": {
    "vscode": {
     "languageId": "sql"
    }
   },
   "outputs": [],
   "source": [
    "SELECT \n",
    "\tsex,\n",
    "    DATE_PART('month', MAX(birth_date))::INTEGER AS max_month\n",
    "FROM   \n",
    "\tusers\n",
    "WHERE  \n",
    "\tbirth_date IS NOT NULL\n",
    "GROUP BY \n",
    "\tsex\n",
    "ORDER BY \n",
    "\tsex"
   ]
  },
  {
   "cell_type": "markdown",
   "id": "780d3d3e",
   "metadata": {},
   "source": [
    "Посчитайте максимальный возраст пользователей мужского и женского пола в таблице users. Возраст измерьте числом полных лет.\n",
    "Новую колонку с возрастом назовите max_age. Преобразуйте значения в новой колонке в формат INTEGER, чтобы возраст был выражен целым числом.\n",
    "Результат отсортируйте по новой колонке по возрастанию возраста."
   ]
  },
  {
   "cell_type": "code",
   "execution_count": null,
   "id": "793ad7b4",
   "metadata": {
    "vscode": {
     "languageId": "sql"
    }
   },
   "outputs": [],
   "source": [
    "SELECT \n",
    "\tsex,\n",
    "    MAX(DATE_PART('year', AGE(birth_date)))::INTEGER AS max_age\n",
    "FROM  \n",
    "\tusers\n",
    "GROUP BY \n",
    "\tsex\n",
    "ORDER BY \n",
    "\tmax_age"
   ]
  },
  {
   "cell_type": "markdown",
   "id": "3d8e528f",
   "metadata": {},
   "source": [
    "Разбейте пользователей из таблицы users на группы по возрасту (возраст по-прежнему измеряем числом полных лет) и посчитайте количество пользователей каждого возраста.\n",
    "Колонку с возрастом назовите age, а колонку с числом пользователей — users_count. Преобразуйте значения в колонке с возрастом в формат INTEGER, чтобы возраст был выражен целым числом.\n",
    "Результат отсортируйте по колонке с возрастом по возрастанию."
   ]
  },
  {
   "cell_type": "code",
   "execution_count": null,
   "id": "1383400e",
   "metadata": {
    "vscode": {
     "languageId": "sql"
    }
   },
   "outputs": [],
   "source": [
    "SELECT \n",
    "\tDATE_PART('year', AGE(birth_date))::INTEGER AS age,\n",
    "    COUNT(user_id) AS users_count\n",
    "FROM   \n",
    "\tusers\n",
    "GROUP BY \n",
    "\tage\n",
    "ORDER BY \n",
    "\tage"
   ]
  },
  {
   "cell_type": "markdown",
   "id": "e42a919b",
   "metadata": {},
   "source": [
    "Вновь разбейте пользователей из таблицы users на группы по возрасту (возраст по-прежнему измеряем количеством полных лет), только теперь добавьте в группировку ещё и пол пользователя. Затем посчитайте количество пользователей в каждой половозрастной группе.\n",
    "Все NULL значения в колонке birth_date заранее отфильтруйте с помощью WHERE.\n",
    "Колонку с возрастом назовите age, а колонку с числом пользователей — users_count, имя колонки с полом оставьте без изменений. Преобразуйте значения в колонке с возрастом в формат INTEGER, чтобы возраст был выражен целым числом.\n",
    "Отсортируйте полученную таблицу сначала по колонке с возрастом по возрастанию, затем по колонке с полом — тоже по возрастанию."
   ]
  },
  {
   "cell_type": "code",
   "execution_count": null,
   "id": "2d3337e3",
   "metadata": {
    "vscode": {
     "languageId": "sql"
    }
   },
   "outputs": [],
   "source": [
    "SELECT \n",
    "\tDATE_PART('year', AGE(birth_date))::INTEGER AS age,\n",
    "    sex,\n",
    "    COUNT(user_id) AS users_count\n",
    "FROM   \n",
    "\tusers\n",
    "WHERE  \n",
    "\tbirth_date IS NOT NULL\n",
    "GROUP BY \n",
    "\tage,\n",
    "\tsex\n",
    "ORDER BY \n",
    "\tage,\n",
    "\tsex"
   ]
  },
  {
   "cell_type": "markdown",
   "id": "be1089fc",
   "metadata": {},
   "source": [
    "Посчитайте количество товаров в каждом заказе, примените к этим значениям группировку и рассчитайте количество заказов в каждой группе за неделю с 29 августа по 4 сентября 2022 года включительно. Для расчётов используйте данные из таблицы orders.\n",
    "Выведите две колонки: размер заказа и число заказов такого размера за указанный период. Колонки назовите соответственно order_size и orders_count.\n",
    "Результат отсортируйте по возрастанию размера заказа."
   ]
  },
  {
   "cell_type": "code",
   "execution_count": null,
   "id": "07f87c3e",
   "metadata": {
    "vscode": {
     "languageId": "sql"
    }
   },
   "outputs": [],
   "source": [
    "SELECT \n",
    "\tARRAY_LENGTH(product_ids, 1) AS order_size,\n",
    "    COUNT(order_id) AS orders_count\n",
    "FROM   \n",
    "\torders\n",
    "WHERE  \n",
    "\tcreation_time > '2022-08-29'\n",
    "    AND creation_time < '2022-09-04 23:59:59'\n",
    "GROUP BY\n",
    "\torder_size\n",
    "ORDER BY\n",
    "\torder_size"
   ]
  },
  {
   "cell_type": "markdown",
   "id": "adabd102",
   "metadata": {},
   "source": [
    "Посчитайте количество товаров в каждом заказе, примените к этим значениям группировку и рассчитайте количество заказов в каждой группе. Учитывайте только заказы, оформленные по будням. В результат включите только те размеры заказов, общее число которых превышает 2000. Для расчётов используйте данные из таблицы orders.\n",
    "Выведите две колонки: размер заказа и число заказов такого размера. Колонки назовите соответственно order_size и orders_count.\n",
    "Результат отсортируйте по возрастанию размера заказа."
   ]
  },
  {
   "cell_type": "code",
   "execution_count": null,
   "id": "c74ee828",
   "metadata": {
    "vscode": {
     "languageId": "sql"
    }
   },
   "outputs": [],
   "source": [
    "SELECT \n",
    "\tARRAY_LENGTH(product_ids, 1) AS order_size,\n",
    "\tCOUNT(order_id) AS orders_count\n",
    "FROM   \n",
    "\torders\n",
    "WHERE  \n",
    "\tDATE_PART('dow', creation_time) IN (1, 2, 3, 4, 5)\n",
    "GROUP BY \n",
    "\torder_size \n",
    "HAVING \n",
    "\tCOUNT(order_id) > 2000\n",
    "ORDER BY \n",
    "\torder_size"
   ]
  },
  {
   "cell_type": "markdown",
   "id": "f060e9e6",
   "metadata": {},
   "source": [
    "По данным из таблицы user_actions определите пять пользователей, сделавших в августе 2022 года наибольшее количество заказов.\n",
    "Выведите две колонки — id пользователей и число оформленных ими заказов. Колонку с числом оформленных заказов назовите created_orders.\n",
    "Результат отсортируйте сначала по убыванию числа заказов, сделанных пятью пользователями, затем по возрастанию id этих пользователей."
   ]
  },
  {
   "cell_type": "code",
   "execution_count": null,
   "id": "258af4a3",
   "metadata": {
    "vscode": {
     "languageId": "sql"
    }
   },
   "outputs": [],
   "source": [
    "SELECT \n",
    "\tuser_id,\n",
    "    COUNT(order_id) AS created_orders\n",
    "FROM  \n",
    "\tuser_actions\n",
    "WHERE  \n",
    "\taction = 'create_order'\n",
    "\tAND DATE_PART('year', time) = 2022\n",
    "\tAND DATE_PART('month', time) = 8\n",
    "GROUP BY \n",
    "\tuser_id\n",
    "ORDER BY \n",
    "\tcreated_orders DESC,\n",
    "\tuser_id\n",
    "LIMIT\n",
    "\t5"
   ]
  },
  {
   "cell_type": "markdown",
   "id": "c81f9c6b",
   "metadata": {},
   "source": [
    "А теперь по данным таблицы courier_actions определите курьеров, которые в сентябре 2022 года доставили только по одному заказу.\n",
    "В этот раз выведите всего одну колонку с id курьеров. Колонку с числом заказов в результат включать не нужно.\n",
    "Результат отсортируйте по возрастанию id курьера."
   ]
  },
  {
   "cell_type": "code",
   "execution_count": null,
   "id": "2a3a8713",
   "metadata": {
    "vscode": {
     "languageId": "sql"
    }
   },
   "outputs": [],
   "source": [
    "SELECT \n",
    "\tcourier_id\n",
    "FROM \n",
    "\tcourier_actions\n",
    "WHERE\n",
    "\taction = 'deliver_order'\n",
    "\tAND DATE_PART('year', time) = 2022\n",
    "\tAND DATE_PART('month', time) = 9\n",
    "GROUP BY \n",
    "\tcourier_id \n",
    "HAVING\n",
    "\tCOUNT(DISTINCT(order_id)) = 1\n",
    "ORDER BY\n",
    "\tcourier_id"
   ]
  },
  {
   "cell_type": "markdown",
   "id": "f1acfe64",
   "metadata": {},
   "source": [
    "Из таблицы user_actions отберите пользователей, у которых последний заказ был создан до 8 сентября 2022 года.\n",
    "Выведите только их id, дату создания заказа выводить не нужно.\n",
    "Результат отсортируйте по возрастанию id пользователя."
   ]
  },
  {
   "cell_type": "code",
   "execution_count": null,
   "id": "2c40687c",
   "metadata": {
    "vscode": {
     "languageId": "sql"
    }
   },
   "outputs": [],
   "source": [
    "SELECT \n",
    "\tuser_id\n",
    "FROM   \n",
    "\tuser_actions\n",
    "WHERE  \n",
    "\taction = 'create_order'\n",
    "GROUP BY \n",
    "\tuser_id \n",
    "HAVING \n",
    "\tMAX(time) < '2022-09-08'\n",
    "ORDER BY \n",
    "\tuser_id"
   ]
  },
  {
   "cell_type": "markdown",
   "id": "4ae8d4d0",
   "metadata": {},
   "source": [
    "Разбейте заказы из таблицы orders на 3 группы в зависимости от количества товаров, попавших в заказ:\n",
    "Малый (от 1 до 3 товаров);\n",
    "Средний (от 4 до 6 товаров);\n",
    "Большой (7 и более товаров).\n",
    "Посчитайте число заказов, попавших в каждую группу. Группы назовите соответственно «Малый», «Средний», «Большой» (без кавычек).\n",
    "Выведите наименования групп и число товаров в них. Колонку с наименованием групп назовите order_size, а колонку с числом заказов — orders_count.\n",
    "Отсортируйте полученную таблицу по колонке с числом заказов по возрастанию."
   ]
  },
  {
   "cell_type": "code",
   "execution_count": null,
   "id": "a636832a",
   "metadata": {
    "vscode": {
     "languageId": "sql"
    }
   },
   "outputs": [],
   "source": [
    "SELECT \n",
    "\tCASE \n",
    "\t\tWHEN ARRAY_LENGTH(product_ids, 1) >= 7 THEN 'Большой'\n",
    "        WHEN ARRAY_LENGTH(product_ids, 1) >= 4 THEN 'Средний'\n",
    "        ELSE 'Малый'\n",
    "\tEND AS order_size,\n",
    "    COUNT(order_id) AS orders_count\n",
    "FROM   \n",
    "\torders\n",
    "GROUP BY \n",
    "\torder_size\n",
    "ORDER BY \n",
    "\torders_count"
   ]
  },
  {
   "cell_type": "markdown",
   "id": "e9411301",
   "metadata": {},
   "source": [
    "Разбейте пользователей из таблицы users на 4 возрастные группы:\n",
    "от 18 до 24 лет;\n",
    "от 25 до 29 лет;\n",
    "от 30 до 35 лет;\n",
    "старше 36.\n",
    "Посчитайте число пользователей, попавших в каждую возрастную группу. Группы назовите соответственно «18-24», «25-29», «30-35», «36+» (без кавычек).\n",
    "В расчётах не учитывайте пользователей, у которых не указана дата рождения. Как и в прошлых задачах, в качестве возраста учитывайте число полных лет.\n",
    "Выведите наименования групп и число пользователей в них. Колонку с наименованием групп назовите group_age, а колонку с числом пользователей — users_count.\n",
    "Отсортируйте полученную таблицу по колонке с наименованием групп по возрастанию."
   ]
  },
  {
   "cell_type": "code",
   "execution_count": null,
   "id": "1f1bb5ed",
   "metadata": {
    "vscode": {
     "languageId": "sql"
    }
   },
   "outputs": [],
   "source": [
    "SELECT\n",
    "\tCASE \n",
    "\t\tWHEN DATE_PART('year', AGE(birth_date))::INTEGER IN (18, 19, 20, 21, 22, 23, 24) THEN '18-24'\n",
    "        WHEN DATE_PART('year', AGE(birth_date))::INTEGER IN (25, 26, 27, 28, 29) THEN '25-29'\n",
    "        WHEN DATE_PART('year', AGE(birth_date))::INTEGER IN (30, 31, 32, 33, 34, 35) THEN '30-35'\n",
    "        ELSE '36+' \n",
    "\tEND AS group_age,\n",
    "    COUNT(user_id) AS users_count\n",
    "FROM   \n",
    "\tusers\n",
    "WHERE  \n",
    "\tbirth_date IS NOT NULL\n",
    "GROUP BY \n",
    "\tgroup_age\n",
    "ORDER BY \n",
    "\tgroup_age"
   ]
  },
  {
   "cell_type": "markdown",
   "id": "1f8a29bd",
   "metadata": {},
   "source": [
    "По данным из таблицы orders рассчитайте средний размер заказа по выходным и будням.\n",
    "Группу с выходными днями (суббота и воскресенье) назовите «weekend», а группу с будними днями (с понедельника по пятницу) — «weekdays» (без кавычек).\n",
    "В результат включите две колонки: колонку с группами назовите week_part, а колонку со средним размером заказа — avg_order_size. \n",
    "Средний размер заказа округлите до двух знаков после запятой.\n",
    "Результат отсортируйте по колонке со средним размером заказа — по возрастанию."
   ]
  },
  {
   "cell_type": "code",
   "execution_count": null,
   "id": "4532c085",
   "metadata": {
    "vscode": {
     "languageId": "sql"
    }
   },
   "outputs": [],
   "source": [
    "SELECT \n",
    "\tCASE \n",
    "\t\tWHEN DATE_PART('dow', creation_time) IN (6, 0) THEN 'weekend'\n",
    "    \tELSE 'weekdays' \n",
    "\tEND AS week_part,\n",
    "    ROUND(AVG(ARRAY_LENGTH(product_ids, 1)), 2) AS avg_order_size\n",
    "FROM   \n",
    "\torders\n",
    "GROUP BY \n",
    "\tweek_part\n",
    "ORDER BY \n",
    "\tavg_order_size"
   ]
  },
  {
   "cell_type": "markdown",
   "id": "41fc3752",
   "metadata": {},
   "source": [
    "Для каждого пользователя в таблице user_actions посчитайте общее количество оформленных заказов и долю отменённых заказов.\n",
    "Новые колонки назовите соответственно orders_count и cancel_rate. Колонку с долей отменённых заказов округлите до двух знаков после запятой.\n",
    "В результат включите только тех пользователей, которые оформили больше трёх заказов и у которых показатель cancel_rate составляет не менее 0.5.\n",
    "Результат отсортируйте по возрастанию id пользователя."
   ]
  },
  {
   "cell_type": "code",
   "execution_count": null,
   "id": "2864026c",
   "metadata": {
    "vscode": {
     "languageId": "sql"
    }
   },
   "outputs": [],
   "source": [
    "SELECT \n",
    "\tuser_id,\n",
    "\tROUND(COUNT(DISTINCT order_id) FILTER (WHERE action = 'cancel_order')::DECIMAL / COUNT(DISTINCT order_id), 2) AS cancel_rate,\n",
    "    COUNT(DISTINCT order_id) AS orders_count\n",
    "FROM   \n",
    "\tuser_actions\n",
    "GROUP BY \n",
    "\tuser_id \n",
    "HAVING\n",
    "\tCOUNT(DISTINCT order_id) > 3 \n",
    "\tAND ROUND(COUNT(DISTINCT order_id) FILTER (WHERE action = 'cancel_order')::DECIMAL / COUNT(DISTINCT order_id), 2) >= 0.5\n",
    "ORDER BY \n",
    "\tuser_id"
   ]
  },
  {
   "cell_type": "markdown",
   "id": "678482e6",
   "metadata": {},
   "source": [
    "Для каждого дня недели в таблице user_actions посчитайте:\n",
    "Общее количество оформленных заказов.\n",
    "Общее количество отменённых заказов.\n",
    "Общее количество неотменённых заказов (т.е. доставленных).\n",
    "Долю неотменённых заказов в общем числе заказов (success rate).\n",
    "Новые колонки назовите соответственно created_orders, canceled_orders, actual_orders и success_rate. Колонку с долей неотменённых заказов округлите до трёх знаков после запятой.\n",
    "Все расчёты проводите за период с 24 августа по 6 сентября 2022 года включительно, чтобы во временной интервал попало равное количество разных дней недели.\n",
    "Группы сформируйте следующим образом: выделите день недели из даты с помощью функции to_char с параметром 'Dy', также выделите порядковый номер дня недели с помощью функции DATE_PART с параметром 'isodow'. Далее сгруппируйте данные по двум полям и проведите все необходимые расчёты.\n",
    "В результате должна получиться группировка по двум колонкам: с порядковым номером дней недели и их сокращёнными наименованиями.\n",
    "Результат отсортируйте по возрастанию порядкового номера дня недели."
   ]
  },
  {
   "cell_type": "code",
   "execution_count": null,
   "id": "68429719",
   "metadata": {
    "vscode": {
     "languageId": "sql"
    }
   },
   "outputs": [],
   "source": [
    "SELECT \n",
    "\tDATE_PART('isodow', time)::INT AS weekday_number,\n",
    "    TO_CHAR(time, 'Dy') AS weekday,\n",
    "    COUNT(DISTINCT order_id) FILTER (WHERE action = 'create_order') AS created_orders,\n",
    "    COUNT(DISTINCT order_id) FILTER (WHERE action = 'cancel_order') AS canceled_orders,\n",
    "    COUNT(DISTINCT order_id) FILTER (WHERE action = 'create_order') - COUNT(DISTINCT order_id) FILTER (WHERE action = 'cancel_order') AS actual_orders,\n",
    "    ROUND((COUNT(DISTINCT order_id) FILTER (WHERE action = 'create_order') - COUNT(DISTINCT order_id) FILTER (WHERE action = 'cancel_order'))::DECIMAL / COUNT(DISTINCT order_id) FILTER (WHERE action = 'create_order'), 3) AS success_rate\n",
    "FROM  \n",
    "\tuser_actions\n",
    "WHERE  \n",
    "\ttime >= '2022-08-24'\n",
    "\tAND time < '2022-09-07'\n",
    "GROUP BY\n",
    "\tweekday_number,\n",
    "\tweekday\n",
    "ORDER BY \n",
    "\tweekday_number"
   ]
  }
 ],
 "metadata": {
  "language_info": {
   "name": "python"
  }
 },
 "nbformat": 4,
 "nbformat_minor": 5
}
